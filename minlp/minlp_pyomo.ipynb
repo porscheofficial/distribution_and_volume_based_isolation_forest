{
 "cells": [
  {
   "cell_type": "code",
   "execution_count": 36,
   "outputs": [],
   "source": [
    "import pyomo.environ as pyo\n",
    "# from pyomo.core.util import prod\n",
    "import numpy as np\n",
    "\n",
    "class RarePatternDetect:\n",
    "    def __init__(self, training_set: np.array, min_area: float):\n",
    "        self.training_set = training_set # a N x d matrix\n",
    "        self.min_area = min_area # the smallest allowed area\n",
    "        self.N, self.d = (range(x) for x in self.training_set.shape)\n",
    "        self.model = self.create_model()\n",
    "\n",
    "    def create_model(self):\n",
    "        def pattern_area():\n",
    "            return pyo.prod(model.interval_lengths[i] for i in self.d)\n",
    "\n",
    "        # define model\n",
    "        model = pyo.ConcreteModel()\n",
    "\n",
    "        ## variables\n",
    "\n",
    "        # x is a 2d vector\n",
    "        # TODO: Set domain\n",
    "        model.pattern = pyo.Var(range(2), self.d, bounds=(np.min(self.training_set), np.max(self.training_set)))\n",
    "\n",
    "        # define auxiliary variables\n",
    "        model.interval_lengths = pyo.Var(self.d, within=pyo.NonNegativeReals)\n",
    "\n",
    "        # y is a boolean vector of size N\n",
    "        model.included = pyo.Var(self.N, within=pyo.Binary)\n",
    "\n",
    "        # objective (minimised by default)\n",
    "        model.obj = pyo.Objective(expr=sum(model.included[i] for i in self.N)/pattern_area())\n",
    "\n",
    "        ## constraints\n",
    "\n",
    "        # pattern area needs to exceed min_area\n",
    "        model.area_constraint = pyo.Constraint(expr= pattern_area() >= self.min_area)\n",
    "\n",
    "        # training points included in model.included lie within the pattern (NB: In principle we would need to ensure that points not included are also\n",
    "        # not included in model.included. However, since including points outside the pattern increases the objective, this is covered.)\n",
    "        model.include_constraint = pyo.ConstraintList()\n",
    "        M = 100000\n",
    "        for j in self.N:\n",
    "            for i in self.d:\n",
    "                model.include_constraint.add(\n",
    "                    model.pattern[0,i] <= self.training_set[j,i] + M*(1 - model.included[j])\n",
    "                )\n",
    "                model.include_constraint.add(\n",
    "                    model.pattern[1,i] >= self.training_set[j,i] - M*(1 - model.included[j])\n",
    "                )\n",
    "\n",
    "        # connect auxiliary variables: interval lengths are differences of pattern points\n",
    "        model.interval_constraint = pyo.ConstraintList()\n",
    "        for i in self.d:\n",
    "            model.interval_constraint.add(\n",
    "                model.interval_lengths[i] == model.pattern[1,i] - model.pattern[0,i]\n",
    "            )\n",
    "\n",
    "        return model\n",
    "\n",
    "\n",
    "    def add_point_to_model(self, point):\n",
    "        # point to be classified lies in pattern\n",
    "        # x[i] <= point[i] <= x[i + d], for all i\n",
    "        self.model.point_constraint = pyo.ConstraintList()\n",
    "        for i in self.d:\n",
    "            self.model.point_constraint.add(\n",
    "                self.model.pattern[0,i] <= point[i]\n",
    "            )\n",
    "            self.model.point_constraint.add(\n",
    "                point[i] <= self.model.pattern[1,i]\n",
    "            )\n",
    "\n",
    "    def classify(self, point_to_be_classified: np.array) -> bool:\n",
    "        self.add_point_to_model(point_to_be_classified) # point to be classified is a 1 x d array\n",
    "        return pyo.SolverFactory('mindtpy').solve(self.model, mip_solver='glpk', nlp_solver='ipopt')"
   ],
   "metadata": {
    "collapsed": false,
    "pycharm": {
     "name": "#%%\n"
    }
   }
  },
  {
   "cell_type": "code",
   "execution_count": 37,
   "outputs": [],
   "source": [
    "from scipy.stats import multivariate_normal\n",
    "\n",
    "training_points = multivariate_normal.rvs(size=(100,2))\n",
    "point_to_be_classified = training_points[0]"
   ],
   "metadata": {
    "collapsed": false,
    "pycharm": {
     "name": "#%%\n"
    }
   }
  },
  {
   "cell_type": "code",
   "execution_count": 38,
   "outputs": [],
   "source": [
    "rare_pattern_detect = RarePatternDetect(training_points, min_area=0.1)"
   ],
   "metadata": {
    "collapsed": false,
    "pycharm": {
     "name": "#%%\n"
    }
   }
  },
  {
   "cell_type": "code",
   "execution_count": 39,
   "outputs": [],
   "source": [
    "results = rare_pattern_detect.classify(point_to_be_classified)"
   ],
   "metadata": {
    "collapsed": false,
    "pycharm": {
     "name": "#%%\n"
    }
   }
  },
  {
   "cell_type": "code",
   "execution_count": 40,
   "outputs": [
    {
     "data": {
      "text/plain": "{'Problem': [{'Name': 'unknown', 'Lower bound': 2.6823208250489807e-07, 'Upper bound': -7.494096406374967e-09, 'Number of objectives': 1, 'Number of constraints': 407, 'Number of variables': 106, 'Number of binary variables': 100, 'Number of integer variables': 0, 'Number of continuous variables': 6, 'Number of nonzeros': None, 'Sense': 'minimize', 'Number of disjunctions': 0}], 'Solver': [{'Name': 'MindtPyOA', 'Status': 'ok', 'Message': None, 'User time': None, 'System time': None, 'Wallclock time': None, 'Termination condition': 'optimal', 'Termination message': None, 'Timing': Bunch(Call after main solve = 1.3582990504801273e-05, Call after subproblem solve = 3.4999684430658817e-06, OA cut generation = 0.011477167019620538, fixed subproblem = 0.28386662498814985, initialization = 0.6649985000258312, main = 0.057881458022166044, main loop = 0.43052479199832305, main_timer_start_time = 298657.088870833, total = 1.1410782090388238), 'Iterations': 1, 'Num infeasible nlp subproblem': 0, 'Best solution found time': 1.1268053340027109, 'Primal integral': 0.0, 'Dual integral': 0.0, 'Primal dual gap integral': 0.0}]}"
     },
     "execution_count": 40,
     "metadata": {},
     "output_type": "execute_result"
    }
   ],
   "source": [
    "results"
   ],
   "metadata": {
    "collapsed": false,
    "pycharm": {
     "name": "#%%\n"
    }
   }
  },
  {
   "cell_type": "code",
   "execution_count": null,
   "outputs": [],
   "source": [],
   "metadata": {
    "collapsed": false,
    "pycharm": {
     "name": "#%%\n"
    }
   }
  }
 ],
 "metadata": {
  "kernelspec": {
   "display_name": "Python 3",
   "language": "python",
   "name": "python3"
  },
  "language_info": {
   "codemirror_mode": {
    "name": "ipython",
    "version": 2
   },
   "file_extension": ".py",
   "mimetype": "text/x-python",
   "name": "python",
   "nbconvert_exporter": "python",
   "pygments_lexer": "ipython2",
   "version": "2.7.6"
  }
 },
 "nbformat": 4,
 "nbformat_minor": 0
}