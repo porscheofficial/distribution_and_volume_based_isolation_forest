{
 "cells": [
  {
   "cell_type": "markdown",
   "metadata": {},
   "source": [
    "## Reproducing the plots of the paper \n",
    "- Here we provide a notebook for reproducing our results using the ADBench suite on the datasets proposed in ADbench. Therefore you need to install the ADbench repository first (see the README for instructions)."
   ]
  },
  {
   "cell_type": "code",
   "execution_count": 47,
   "metadata": {},
   "outputs": [],
   "source": [
    "from renyi_isolation_forest.depth_based_renyi_isolation_forest import DepthBasedRenyiIsolationForest\n",
    "from renyi_isolation_forest.pac_based_renyi_isolation_forest import PACBasedRenyiIsolationForest"
   ]
  },
  {
   "cell_type": "code",
   "execution_count": 48,
   "metadata": {
    "ExecuteTime": {
     "end_time": "2023-04-03T14:50:07.241836Z",
     "start_time": "2023-04-03T14:50:07.237353Z"
    }
   },
   "outputs": [],
   "source": [
    "import os\n",
    "import sys\n",
    "\n",
    "# os.chdir(\"../\") # depending on where you start the notebook, you might have to uncomment this line\n",
    "sys.path.append(\"../\")\n",
    "\n",
    "import pandas as pd\n",
    "\n",
    "import warnings\n",
    "warnings.filterwarnings(\"ignore\")\n",
    "\n",
    "from data_generator import DataGenerator\n",
    "from myutils import Utils\n",
    "\n",
    "datagenerator = DataGenerator() # data generator\n",
    "utils = Utils() # utils function"
   ]
  },
  {
   "cell_type": "markdown",
   "metadata": {},
   "source": [
    "# Importing the datasets\n",
    "- All the datasets of ADBench in the \"datasets\" folder, as the \"number_data_class.npz\" filename. In this experiements we used 47 datasets"
   ]
  },
  {
   "cell_type": "code",
   "execution_count": 49,
   "metadata": {
    "ExecuteTime": {
     "end_time": "2023-04-03T14:50:08.498374Z",
     "start_time": "2023-04-03T14:50:08.479178Z"
    }
   },
   "outputs": [],
   "source": [
    "datasets = os.listdir('datasets/Classical')\n",
    "datasets = [s.split(\".\")[0] for s in datasets]\n",
    "dataset_list = datasets"
   ]
  },
  {
   "cell_type": "markdown",
   "metadata": {},
   "source": [
    "# Fit, predict and evaluate IF variants results"
   ]
  },
  {
   "cell_type": "code",
   "execution_count": 50,
   "metadata": {
    "ExecuteTime": {
     "end_time": "2023-04-03T14:50:09.568961Z",
     "start_time": "2023-04-03T14:50:09.352849Z"
    }
   },
   "outputs": [],
   "source": [
    "from sklearn.ensemble import IsolationForest\n",
    "import numpy as np\n",
    "\n",
    "alphas = [0,0.5,1,2,np.inf]\n",
    "\n",
    "def bring_in_alphas(name, clf, alphas):\n",
    "    return [(name + str(alpha),(clf, alpha)) for alpha in alphas]\n",
    "\n",
    "model_list = [(\"IForest\", (IsolationForest, None))]\n",
    "model_list.extend(bring_in_alphas(\"PACForest\", PACBasedRenyiIsolationForest, alphas))\n",
    "model_list.extend(bring_in_alphas(\"IForestAlpha\", DepthBasedRenyiIsolationForest, alphas))\n",
    "model_dict = dict(model_list)\n",
    "\n",
    "df_AUCROC = pd.DataFrame(data=None, index=dataset_list, columns = model_dict.keys())\n",
    "df_AUCPR = pd.DataFrame(data=None, index=dataset_list, columns = model_dict.keys())"
   ]
  },
  {
   "cell_type": "code",
   "execution_count": null,
   "metadata": {
    "ExecuteTime": {
     "end_time": "2023-04-03T14:51:17.463737Z",
     "start_time": "2023-04-03T14:50:10.607999Z"
    }
   },
   "outputs": [],
   "source": [
    "# seed for reproducible results\n",
    "seed = 42\n",
    "\n",
    "for dataset in dataset_list:\n",
    "    '''\n",
    "    la: ratio of labeled anomalies, from 0.0 to 1.0\n",
    "    realistic_synthetic_mode: types of synthetic anomalies, can be local, global, dependency or cluster\n",
    "    noise_type: inject data noises for testing model robustness, can be duplicated_anomalies, irrelevant_features or label_contamination\n",
    "    '''\n",
    "    try:\n",
    "        # import the dataset\n",
    "        datagenerator.dataset = dataset\n",
    "        data = datagenerator.generator(la=0.1, realistic_synthetic_mode=None, noise_type=None) # only 10% labeled anomalies are available\n",
    "        for name, (clf, alpha) in model_dict.items():\n",
    "            try:\n",
    "                print(f\"running model {name} for alpha {alpha}\")\n",
    "\n",
    "                clf = clf(random_state=seed)\n",
    "                # training, for unsupervised models the y label will be discarded\n",
    "                clf = clf.fit(X=data['X_train'], y=data['y_train'])\n",
    "\n",
    "                # output predicted anomaly score on testing set\n",
    "                score = clf.decision_function(data['X_test'], alpha) if alpha is not None else -clf.decision_function(data['X_test'])\n",
    "\n",
    "                # evaluation\n",
    "                result = utils.metric(y_true=data['y_test'], y_score=score)\n",
    "\n",
    "                # save results\n",
    "                df_AUCROC.loc[dataset, name] = result['aucroc']\n",
    "                df_AUCPR.loc[dataset, name] = result['aucpr']\n",
    "            except:\n",
    "                df_AUCROC.loc[dataset, name] = np.NAN\n",
    "                df_AUCPR.loc[dataset, name] = np.NAN\n",
    "    except:\n",
    "        continue"
   ]
  },
  {
   "cell_type": "markdown",
   "metadata": {},
   "source": [
    "# Delete rows with NaN values"
   ]
  },
  {
   "cell_type": "code",
   "execution_count": 52,
   "metadata": {
    "ExecuteTime": {
     "end_time": "2023-04-03T14:57:34.766723Z",
     "start_time": "2023-04-03T14:57:34.757859Z"
    }
   },
   "outputs": [],
   "source": [
    "df = df_AUCROC.dropna()"
   ]
  },
  {
   "cell_type": "markdown",
   "metadata": {},
   "source": [
    "# Calculate relative improvement in regards to IForest"
   ]
  },
  {
   "cell_type": "code",
   "execution_count": 53,
   "metadata": {
    "ExecuteTime": {
     "end_time": "2023-04-03T14:58:31.741293Z",
     "start_time": "2023-04-03T14:58:31.733053Z"
    }
   },
   "outputs": [],
   "source": [
    "ratios = df.div(df[\"IForest\"], axis=0)\n",
    "improvements = pd.DataFrame({\"clf\": ratios.columns[np.argmax(ratios.to_numpy(), axis=1)], \"value\": np.max(ratios, axis=1)}).sort_values(by=\"value\", ascending=False)"
   ]
  },
  {
   "cell_type": "markdown",
   "metadata": {},
   "source": [
    "# Extracting the adbench results table for the SOTA anomaly detection algorithms from the PDF"
   ]
  },
  {
   "cell_type": "code",
   "execution_count": 54,
   "metadata": {},
   "outputs": [
    {
     "name": "stdout",
     "output_type": "stream",
     "text": [
      "2206.09426.pdf was successfully saved!\n"
     ]
    }
   ],
   "source": [
    "from tabula import read_pdf\n",
    "import os\n",
    "import requests\n",
    "\n",
    "def download_pdf_file(url: str):\n",
    "    \"\"\"Download PDF from given URL to local directory.\n",
    "\n",
    "    :param url: The url of the PDF file to be downloaded\n",
    "    :return: True if PDF file was successfully downloaded, otherwise False.\n",
    "    \"\"\"\n",
    "\n",
    "    # Request URL and get response object\n",
    "    response = requests.get(url, stream=True)\n",
    "\n",
    "    # isolate PDF filename from URL\n",
    "    pdf_file_name = os.path.basename(url)\n",
    "    if response.status_code == 200:\n",
    "        # Save in current working directory\n",
    "        filepath = os.path.join(os.getcwd(), pdf_file_name)\n",
    "        with open(filepath, 'wb') as pdf_object:\n",
    "            pdf_object.write(response.content)\n",
    "            print(f'{pdf_file_name} was successfully saved!')\n",
    "            return True, pdf_file_name\n",
    "    else:\n",
    "        print(f'Uh oh! Could not download {pdf_file_name},')\n",
    "        print(f'HTTP response status code: {response.status_code}')\n",
    "        return False, None\n",
    "\n",
    "# URL from which pdfs to be downloaded\n",
    "URL = 'https://arxiv.org/pdf/2206.09426.pdf'\n",
    "check, pdf_file_name = download_pdf_file(URL)\n",
    "\n",
    "if check:\n",
    "    df_AUCROC_sota_results = read_pdf(pdf_file_name, pages=37) \n",
    "\n",
    "    df_AUCROC_sota_results = df_AUCROC_sota_results[0]\n",
    "\n",
    "    # rename columns\n",
    "    df_AUCROC_sota_results.columns = df_AUCROC_sota_results.iloc[0]\n",
    "\n",
    "    #remove first row from DataFrame\n",
    "    df_AUCROC_sota_results = df_AUCROC_sota_results[1:]\n",
    "\n",
    "    df_AUCROC_sota_results.columns.values[11] = \"SVDD\"\n",
    "    df_AUCROC_sota_results.columns.values[12] = \"GMM\"\n",
    "\n",
    "    #remove first row from DataFrame\n",
    "    df_AUCROC_sota_results = df_AUCROC_sota_results[1:]\n",
    "\n",
    "    #remove ranking\n",
    "    df_AUCROC_sota_results = df_AUCROC_sota_results.applymap(lambda x: str(x).partition('(')[0])\n",
    "    \n",
    "    adbench_IForest_aucroc = pd.DataFrame(data=df_AUCROC_sota_results[\"IForest\"])\n",
    "    adbench_IForest_aucroc.set_index(df_AUCROC_sota_results[\"Datasets\"], inplace=True)\n",
    "    \n",
    "    # remove IForest adbench results\n",
    "    df_AUCROC_sota_results = df_AUCROC_sota_results.drop(columns=\"IForest\")\n",
    "    \n",
    "else:\n",
    "    print(\"Could not download\")"
   ]
  },
  {
   "cell_type": "markdown",
   "metadata": {},
   "source": [
    "# Cleaning the IF variants AUCROC results dataframe "
   ]
  },
  {
   "cell_type": "code",
   "execution_count": 55,
   "metadata": {},
   "outputs": [],
   "source": [
    "df_AUCROC_If_variants = df_AUCROC\n",
    "\n",
    "df_AUCROC_If_variants = df_AUCROC_If_variants.applymap(lambda x: x*100)\n",
    "\n",
    "df_AUCROC_If_variants[\"Datasets\"] = df_AUCROC_If_variants.index\n",
    "\n",
    "df_AUCROC_If_variants.index = range(len(df_AUCROC_If_variants.index))\n",
    "\n",
    "df_AUCROC_If_variants = df_AUCROC_If_variants.reindex(sorted(df_AUCROC_If_variants.columns), axis=1)\n",
    "\n",
    "df_AUCROC_If_variants[\"Datasets\"] = df_AUCROC_If_variants[\"Datasets\"].apply(lambda x: str(x).split('_', 1)[-1])\n",
    "\n",
    "pac_datasets = df_AUCROC_If_variants[\"Datasets\"].values"
   ]
  },
  {
   "cell_type": "markdown",
   "metadata": {},
   "source": [
    "# Merge the results dataframes"
   ]
  },
  {
   "cell_type": "code",
   "execution_count": 56,
   "metadata": {},
   "outputs": [],
   "source": [
    "# Select datasets in the ADBench repository\n",
    "df_AUCROC_sota_results = df_AUCROC_sota_results[df_AUCROC_sota_results.Datasets.isin(pac_datasets)]\n",
    "\n",
    "merged = pd.merge(df_AUCROC_sota_results, df_AUCROC_If_variants, on='Datasets')\n",
    "\n",
    "merged.set_index('Datasets', inplace=True)\n",
    "\n",
    "merged = merged.replace('N/A',np.NaN)\n",
    "\n",
    "merged = merged.applymap(lambda x: float(x))\n",
    "\n",
    "merged = merged.dropna()"
   ]
  },
  {
   "cell_type": "markdown",
   "metadata": {},
   "source": [
    "# Average rank"
   ]
  },
  {
   "cell_type": "code",
   "execution_count": 57,
   "metadata": {},
   "outputs": [
    {
     "data": {
      "text/plain": [
       "IForestAlpha1       8.529412\n",
       "IForestAlpha0.5     8.617647\n",
       "IForestAlpha2       8.779412\n",
       "IForest             8.882353\n",
       "IForestAlpha0       8.882353\n",
       "CBLOF              10.161765\n",
       "PACForest1         10.220588\n",
       "PCA                10.602941\n",
       "PACForest2         10.779412\n",
       "HBOS               11.514706\n",
       "ECOD               11.852941\n",
       "COPOD              12.044118\n",
       "KNN                12.132353\n",
       "PACForest0.5       12.882353\n",
       "IForestAlphainf    13.044118\n",
       "PACForestinf       13.308824\n",
       "SOD                13.955882\n",
       "OCSVM              14.279412\n",
       "LOF                14.720588\n",
       "COF                14.779412\n",
       "PACForest0         15.000000\n",
       "LODA               16.088235\n",
       "GMM                16.720588\n",
       "SVDD               18.338235\n",
       "dtype: float64"
      ]
     },
     "execution_count": 57,
     "metadata": {},
     "output_type": "execute_result"
    }
   ],
   "source": [
    "merged.rank(axis=1).apply(lambda row: max(row)-row+1, axis=1).mean(axis=0).sort_values(ascending=True)"
   ]
  },
  {
   "cell_type": "markdown",
   "metadata": {},
   "source": [
    "# Average AUCROC"
   ]
  },
  {
   "cell_type": "code",
   "execution_count": 58,
   "metadata": {},
   "outputs": [
    {
     "data": {
      "text/plain": [
       "IForestAlpha2      75.710042\n",
       "IForestAlpha1      75.679411\n",
       "IForestAlpha0.5    75.622798\n",
       "PACForest2         75.540375\n",
       "IForest            75.522409\n",
       "IForestAlpha0      75.522409\n",
       "PACForest1         74.033941\n",
       "PCA                73.231176\n",
       "COPOD              72.954706\n",
       "CBLOF              72.831176\n",
       "HBOS               72.807941\n",
       "ECOD               72.757647\n",
       "PACForestinf       72.631954\n",
       "IForestAlphainf    72.625330\n",
       "KNN                70.265882\n",
       "PACForest0.5       70.029787\n",
       "OCSVM              69.152647\n",
       "SOD                68.005294\n",
       "LODA               66.388235\n",
       "GMM                65.305588\n",
       "COF                64.079118\n",
       "PACForest0         63.997409\n",
       "LOF                63.370882\n",
       "SVDD               53.155000\n",
       "dtype: float64"
      ]
     },
     "execution_count": 58,
     "metadata": {},
     "output_type": "execute_result"
    }
   ],
   "source": [
    "average_aucroc = merged.mean(axis=0).sort_values(ascending=False)\n",
    "average_aucroc"
   ]
  },
  {
   "cell_type": "markdown",
   "metadata": {},
   "source": [
    "# AUCROC box plot for SOTA and IF variants"
   ]
  },
  {
   "cell_type": "code",
   "execution_count": 59,
   "metadata": {},
   "outputs": [
    {
     "data": {
      "image/png": "[encoded data removed]",
      "text/plain": [
       "<Figure size 640x480 with 1 Axes>"
      ]
     },
     "metadata": {},
     "output_type": "display_data"
    }
   ],
   "source": [
    "import seaborn as sns\n",
    "import matplotlib.pyplot as plt\n",
    "\n",
    "ax = sns.boxplot(data=merged)\n",
    "plt.xticks(rotation=90)\n",
    "ax.set(ylabel='AUCROC in (%)')\n",
    "plt.show()"
   ]
  },
  {
   "cell_type": "markdown",
   "metadata": {},
   "source": [
    "# AUCROC table with the best variants and SOTA algorithms using selected datasets"
   ]
  },
  {
   "cell_type": "code",
   "execution_count": 60,
   "metadata": {},
   "outputs": [],
   "source": [
    "indeces_of_datasets_best_variants = [\"annthyroid\",\"cover\",\"landsat\",\"thyroid\",\"Waveform\",\"wine\",\"WPBC\"]\n",
    "\n",
    "table_1 = df_AUCROC_sota_results.set_index(\"Datasets\").loc[indeces_of_datasets_best_variants]\n",
    "\n",
    "table_2 = df_AUCROC_If_variants.set_index(\"Datasets\").loc[indeces_of_datasets_best_variants]\n",
    "\n",
    "table_if_alpha = table_2[[\"IForestAlpha0\",\"IForestAlpha0.5\",\"IForestAlpha1\",\"IForestAlpha2\",\"IForestAlphainf\"]]\n",
    "best_if_alpha_algos = table_if_alpha.idxmax(axis=1).values\n",
    "\n",
    "table_if_pac_alpha = table_2[[\"PACForest0\",\"PACForest0.5\",\"PACForest1\",\"PACForest2\",\"PACForestinf\"]]\n",
    "best_if_pac_algos = table_if_pac_alpha.idxmax(axis=1).values\n",
    "\n",
    "if_pac_alpha_values = []\n",
    "for i, c in enumerate(indeces_of_datasets_best_variants):\n",
    "    if_pac_alpha_values.append(f\"{np.round(table_if_pac_alpha.at[c,best_if_pac_algos[i]],2)} ({best_if_pac_algos[i]})\")\n",
    "\n",
    "if_alpha_values = []\n",
    "for i, c in enumerate(indeces_of_datasets_best_variants):\n",
    "    if_alpha_values.append(f\"{np.round(table_if_alpha.at[c,best_if_alpha_algos[i]],2)} ({best_if_alpha_algos[i]})\")\n",
    "\n",
    "if_variants_best_algos = pd.DataFrame(data=np.vstack([if_alpha_values,if_pac_alpha_values]).T)\n",
    "if_variants_best_algos.columns = [\"if alpha variant\", \"PAC if variant\"]\n",
    "if_variants_best_algos[\"Datasets\"] = indeces_of_datasets_best_variants\n",
    "if_variants_best_algos = if_variants_best_algos.set_index(\"Datasets\")\n",
    "\n",
    "table_1[\"IForest\"] = table_2[\"IForest\"]\n",
    "df_comp_sota_vs_if_variants = table_1.join(if_variants_best_algos)"
   ]
  },
  {
   "cell_type": "markdown",
   "metadata": {},
   "source": [
    "# Summarized table"
   ]
  },
  {
   "cell_type": "code",
   "execution_count": 61,
   "metadata": {},
   "outputs": [],
   "source": [
    "st = df_comp_sota_vs_if_variants.loc[:,  ~df_comp_sota_vs_if_variants.columns.isin(['if alpha variant','PAC if variant'])]\n",
    "\n",
    "st = st.astype(float)\n",
    "best_sota_algos_relevant_datasets = st.idxmax(axis=1).values\n",
    "best_sota_algos_relevant_datasets\n",
    "\n",
    "values = []\n",
    "for i, c in enumerate(indeces_of_datasets_best_variants):\n",
    "    values.append(f\"{np.round(st.at[c,best_sota_algos_relevant_datasets[i]],2)} ({best_sota_algos_relevant_datasets[i]})\")\n",
    "\n",
    "final_st = pd.DataFrame(data=df_comp_sota_vs_if_variants[['if alpha variant','PAC if variant']].values, columns=['if alpha variant','PAC if variant'],index=st.index)\n",
    "final_st[\"best SOTA algorithm\"] = values"
   ]
  },
  {
   "cell_type": "markdown",
   "metadata": {},
   "source": [
    "# ADBench IForest results vs our results"
   ]
  },
  {
   "cell_type": "code",
   "execution_count": 62,
   "metadata": {},
   "outputs": [
    {
     "data": {
      "text/plain": [
       "0.06"
      ]
     },
     "execution_count": 62,
     "metadata": {},
     "output_type": "execute_result"
    }
   ],
   "source": [
    "np.round((merged[\"IForest\"].values - adbench_IForest_aucroc.loc[merged.index].astype(float).values.flatten()).mean() ,2)"
   ]
  }
 ],
 "metadata": {
  "kernelspec": {
   "display_name": "Python 3 (ipykernel)",
   "language": "python",
   "name": "python3"
  },
  "language_info": {
   "codemirror_mode": {
    "name": "ipython",
    "version": 3
   },
   "file_extension": ".py",
   "mimetype": "text/x-python",
   "name": "python",
   "nbconvert_exporter": "python",
   "pygments_lexer": "ipython3",
   "version": "3.9.6"
  },
  "toc": {
   "base_numbering": 1,
   "nav_menu": {},
   "number_sections": true,
   "sideBar": true,
   "skip_h1_title": false,
   "title_cell": "Table of Contents",
   "title_sidebar": "Contents",
   "toc_cell": false,
   "toc_position": {},
   "toc_section_display": true,
   "toc_window_display": false
  },
  "varInspector": {
   "cols": {
    "lenName": 16,
    "lenType": 16,
    "lenVar": 40
   },
   "kernels_config": {
    "python": {
     "delete_cmd_postfix": "",
     "delete_cmd_prefix": "del ",
     "library": "var_list.py",
     "varRefreshCmd": "print(var_dic_list())"
    },
    "r": {
     "delete_cmd_postfix": ") ",
     "delete_cmd_prefix": "rm(",
     "library": "var_list.r",
     "varRefreshCmd": "cat(var_dic_list()) "
    }
   },
   "types_to_exclude": [
    "module",
    "function",
    "builtin_function_or_method",
    "instance",
    "_Feature"
   ],
   "window_display": false
  }
 },
 "nbformat": 4,
 "nbformat_minor": 4
}
