{
 "cells": [
  {
   "cell_type": "code",
   "execution_count": 1,
   "outputs": [],
   "source": [
    "import pyomo.environ as pyo\n",
    "import pyomo.gdp as gdp\n",
    "import numpy as np\n",
    "import pandas as pd\n",
    "import math \n",
    "import os, sys\n",
    "from scipy.stats import multivariate_normal\n",
    "\n",
    "from matplotlib import pyplot as plt\n",
    "import matplotlib.patches as patches\n",
    "%matplotlib inline\n",
    "plt.rcParams[\"figure.figsize\"] = (15,7)\n",
    "from enum import Enum\n",
    "\n",
    "CURRENT_DIR = os.path.dirname(os.path.abspath(\"rare_pattern_detect\"))\n",
    "sys.path.append(os.path.dirname(CURRENT_DIR))\n",
    "\n",
    "from rare_pattern_detect.patterns import PatternSpace, PatternSpaceType, MIN_AREA\n",
    "from rare_pattern_detect.minlp_based import minlp_has_rare_pattern\n",
    "from rare_pattern_detect.rare_pattern_detect import RarePatternDetect\n",
    "from rare_pattern_detect.pattern_space_utils import draw_largest_bounding_area, draw2dpattern"
   ],
   "metadata": {
    "collapsed": false,
    "pycharm": {
     "name": "#%%\n"
    }
   }
  },
  {
   "cell_type": "markdown",
   "source": [
    "# Notes: \n",
    "    # There is still an error that happens when the minlp model is not able to solve the problem -> should never return None as a prediction\n",
    "        # -> can be fixed by setting a very small min_area, which eventually lead to all points being labeled as anomaleous.\n",
    "    # honestly maybe a circle in 2D (sphere in 3D) as a pattern might make more sense of this \n",
    "    # min_area is obviously still a problem \n",
    "        # -> need to find a way how to calculate the 4 different variables\n",
    "\n",
    "# Ongoing: \n",
    "    - calculate min area of the cardio dataset -> depends on the pac parameter and the number of training datapoints -> with wolfram we get 41.xx for 100 points, epsilon=0.1 and delta=0.1 \n",
    "    - calculating the minimum number\n",
    "    - runnin the minlp solver on the first two features of the cardio data -> minlp solver works  \n",
    "    - running the minlp solver on all the features of the cardio data -> minlp solver does not work -> internal solver error (cannot recover) ? \n",
    "    - running the minlp solver on just three features of the cardio data -> minlp solver does not work -> interval_lengths error\n",
    "\n",
    "# Process: \n",
    "    - TODO: shuffle data points before split to training and testing sets\n",
    "    - compare performance to SVM, RF using the metrics for supervised learning\n",
    "\n",
    "# TODO:\n",
    "    - Done: Create new branch (3D extension)\n",
    "    - Done: transfer to python files and call the model through the RarePatternDetect(.ipynb -> .py)\n",
    "    - Done: check if the tests run successfully\n",
    "    - Done: Rewrite the notebook using the imports \n",
    "    - Create a single 3D test (cube)\n"
   ],
   "metadata": {
    "collapsed": false,
    "pycharm": {
     "name": "#%% md\n"
    }
   }
  },
  {
   "cell_type": "markdown",
   "source": [],
   "metadata": {
    "collapsed": false,
    "pycharm": {
     "name": "#%% md\n"
    }
   }
  },
  {
   "cell_type": "code",
   "execution_count": 2,
   "outputs": [],
   "source": [
    "# MIN_AREA = 0.3 # 0.3"
   ],
   "metadata": {
    "collapsed": false,
    "pycharm": {
     "name": "#%%\n"
    }
   }
  },
  {
   "cell_type": "code",
   "execution_count": 3,
   "outputs": [
    {
     "name": "stdout",
     "output_type": "stream",
     "text": [
      "number of datapoints is:  1831\n",
      "number of feature per data point is:  21\n"
     ]
    }
   ],
   "source": [
    "# cmap = plt.get_cmap('viridis')\n",
    "\n",
    "# training_set =  np.array(\n",
    "#     [[0.0, 0.0], [2.0, 0.0], [0.0, 2.0], [2.0, 2.0]]\n",
    "# )\n",
    "# training_set = multivariate_normal.rvs(size=(20,2))\n",
    "# point_to_be_classified = np.array([[0.25,0.25]])\n",
    "# testing_set = multivariate_normal.rvs(size=(3,2))\n",
    "\n",
    "# os.listdir('../ADbench-main/datasets/Classical')\n",
    "# b = np.load('../ADbench-main/datasets/Classical/6_cardio.npz')\n",
    "# b.keys()\n",
    "# print(b.files)\n",
    "\n",
    "with np.load('../../ADBench/datasets/Classical/6_cardio.npz') as data:\n",
    "    X = data['X']\n",
    "    y = data['y']\n",
    "    idx = np.random.permutation(len(X))\n",
    "    X,y = X[idx], y[idx]\n",
    "\n",
    "#  number of points is 1831\n",
    "print(\"number of datapoints is: \",len(y))\n",
    "\n",
    "# number of feature per data point is 21\n",
    "print(\"number of feature per data point is: \", len(X[0]))\n",
    "\n",
    "\n",
    "TRAINING_LIMIT = 200\n",
    "TESTING_LIMIT = 10\n",
    "FEATURES = 2\n",
    "\n",
    "X = X[:TRAINING_LIMIT+TESTING_LIMIT,:FEATURES]\n",
    "y = y[:TRAINING_LIMIT+TESTING_LIMIT]\n",
    "\n",
    "training_set = X[:TRAINING_LIMIT]\n",
    "training_labels = y[:TRAINING_LIMIT]\n",
    "\n",
    "testing_set = X[TRAINING_LIMIT:-1]\n",
    "testing_labels = y[TRAINING_LIMIT:-1]"
   ],
   "metadata": {
    "collapsed": false,
    "pycharm": {
     "name": "#%%\n"
    }
   }
  },
  {
   "cell_type": "code",
   "execution_count": 4,
   "outputs": [
    {
     "data": {
      "text/plain": "array([0, 0, 0, 0, 0, 0, 0, 0, 0])"
     },
     "execution_count": 4,
     "metadata": {},
     "output_type": "execute_result"
    }
   ],
   "source": [
    "testing_labels"
   ],
   "metadata": {
    "collapsed": false,
    "pycharm": {
     "name": "#%%\n"
    }
   }
  },
  {
   "cell_type": "code",
   "execution_count": null,
   "outputs": [
    {
     "name": "stderr",
     "output_type": "stream",
     "text": [
      "---------------------------------------------------------------------------------------------\n",
      "              Mixed-Integer Nonlinear Decomposition Toolbox in Pyomo (MindtPy)               \n",
      "---------------------------------------------------------------------------------------------\n",
      "For more information, please visit https://pyomo.readthedocs.io/en/stable/contributed_packages/mindtpy.html\n"
     ]
    },
    {
     "name": "stdout",
     "output_type": "stream",
     "text": [
      "min_area:  1\n",
      "N=200 , d=2, vc=4\n",
      "------- itr: 0 -------\n"
     ]
    },
    {
     "name": "stderr",
     "output_type": "stream",
     "text": [
      "Original model has 1811 constraints (1 nonlinear) and 0 disjunctions, with 1006 variables, of which 1000 are binary, 0 are integer, and 6 are continuous.\n",
      "Objective is nonlinear. Moving it to constraint set.\n",
      "rNLP is the initial strategy being used.\n",
      "\n",
      " ===============================================================================================\n",
      " Iteration | Subproblem Type | Objective Value | Primal Bound |   Dual Bound |   Gap   | Time(s)\n",
      "\n",
      "         -       Relaxed NLP       4.02024e-07            inf    4.02024e-07      nan%      0.49\n"
     ]
    },
    {
     "name": "stdout",
     "output_type": "stream",
     "text": [
      "WARNING: DEPRECATED: The 'ignore_integrality' argument no longer has any\n",
      "    functionality.  (deprecated in 6.4.2) (called from\n",
      "    /Users/p390943/miniforge3/envs/pac_learning/lib/python3.8/site-\n",
      "    packages/pyomo/contrib/mindtpy/initialization.py:154)\n"
     ]
    },
    {
     "name": "stderr",
     "output_type": "stream",
     "text": [
      "         1              MILP        3.9614e-07            inf    4.02024e-07      nan%      0.97\n",
      "NLP subproblem was locally infeasible.\n",
      "Solving feasibility problem\n",
      "         2              MILP       5.81002e-07            inf    5.81002e-07      nan%      1.79\n",
      "NLP subproblem was locally infeasible.\n",
      "Solving feasibility problem\n",
      "         3              MILP       7.49568e-07            inf    7.49568e-07      nan%      2.84\n",
      "NLP subproblem was locally infeasible.\n",
      "Solving feasibility problem\n",
      "         4              MILP             13.31            inf          13.31      nan%      4.21\n",
      "*        4         Fixed NLP           1.93787        1.93787          13.31   -586.83%      4.51\n",
      "MindtPy exiting on bound convergence. Absolute gap: -11.372111332837262 <= absolute tolerance: 0.0001 \n",
      "\n",
      " ===============================================================================================\n",
      " Primal integral          :    0.0000 \n",
      " Dual integral            :   37.7806 \n",
      " Primal-dual gap integral :   37.7806 \n"
     ]
    },
    {
     "name": "stdout",
     "output_type": "stream",
     "text": [
      "Classification result:  False\n",
      "area_calculated_pattern:  1.032058316660128\n"
     ]
    },
    {
     "data": {
      "text/plain": "<Figure size 1500x700 with 1 Axes>",
      "image/png": "[encoded data removed]"
     },
     "metadata": {},
     "output_type": "display_data"
    },
    {
     "name": "stdout",
     "output_type": "stream",
     "text": [
      "------- itr: 1 -------\n",
      "ERROR: Unable to clone Pyomo component attribute. Component\n",
      "    'enforce_point_right_of_pattern_index' contains an uncopyable field\n",
      "    '_init_dimen' (<class 'pyomo.core.base.initializer.ConstantInitializer'>).\n",
      "    Setting field to `None` on new object\n"
     ]
    },
    {
     "name": "stderr",
     "output_type": "stream",
     "text": [
      "---------------------------------------------------------------------------------------------\n",
      "              Mixed-Integer Nonlinear Decomposition Toolbox in Pyomo (MindtPy)               \n",
      "---------------------------------------------------------------------------------------------\n",
      "For more information, please visit https://pyomo.readthedocs.io/en/stable/contributed_packages/mindtpy.html\n",
      "Original model has 1811 constraints (1 nonlinear) and 0 disjunctions, with 1006 variables, of which 1000 are binary, 0 are integer, and 6 are continuous.\n",
      "Objective is nonlinear. Moving it to constraint set.\n",
      "rNLP is the initial strategy being used.\n",
      "\n",
      " ===============================================================================================\n",
      " Iteration | Subproblem Type | Objective Value | Primal Bound |   Dual Bound |   Gap   | Time(s)\n",
      "\n",
      "         -       Relaxed NLP       4.06522e-07            inf    4.06522e-07      nan%      0.46\n",
      "         1              MILP       4.09722e-07            inf    4.09722e-07      nan%      0.58\n",
      "NLP subproblem was locally infeasible.\n",
      "Solving feasibility problem\n",
      "         2              MILP       4.06939e-07            inf    4.09722e-07      nan%      1.47\n",
      "NLP subproblem was locally infeasible.\n",
      "Solving feasibility problem\n",
      "         3              MILP       7.67488e-07            inf    7.67488e-07      nan%      2.37\n",
      "NLP subproblem was locally infeasible.\n",
      "Solving feasibility problem\n",
      "         4              MILP           7.43156            inf        7.43156      nan%      3.42\n",
      "NLP subproblem was locally infeasible.\n",
      "Solving feasibility problem\n",
      "         5              MILP           14.8631            inf        14.8631      nan%      7.24\n",
      "*        5         Fixed NLP           1.94523        1.94523        14.8631   -664.08%      7.51\n",
      "MindtPy exiting on bound convergence. Absolute gap: -12.91788291757592 <= absolute tolerance: 0.0001 \n",
      "\n",
      " ===============================================================================================\n",
      " Primal integral          :    0.0000 \n",
      " Dual integral            :   42.9973 \n",
      " Primal-dual gap integral :   42.9973 \n"
     ]
    },
    {
     "name": "stdout",
     "output_type": "stream",
     "text": [
      "Classification result:  False\n",
      "area_calculated_pattern:  1.0281558130790192\n"
     ]
    },
    {
     "data": {
      "text/plain": "<Figure size 1500x700 with 1 Axes>",
      "image/png": "[encoded data removed]"
     },
     "metadata": {},
     "output_type": "display_data"
    },
    {
     "name": "stdout",
     "output_type": "stream",
     "text": [
      "------- itr: 2 -------\n",
      "ERROR: Unable to clone Pyomo component attribute. Component\n",
      "    'enforce_point_right_of_pattern_index' contains an uncopyable field\n",
      "    '_init_dimen' (<class 'pyomo.core.base.initializer.ConstantInitializer'>).\n",
      "    Setting field to `None` on new object\n"
     ]
    },
    {
     "name": "stderr",
     "output_type": "stream",
     "text": [
      "---------------------------------------------------------------------------------------------\n",
      "              Mixed-Integer Nonlinear Decomposition Toolbox in Pyomo (MindtPy)               \n",
      "---------------------------------------------------------------------------------------------\n",
      "For more information, please visit https://pyomo.readthedocs.io/en/stable/contributed_packages/mindtpy.html\n",
      "Original model has 1811 constraints (1 nonlinear) and 0 disjunctions, with 1006 variables, of which 1000 are binary, 0 are integer, and 6 are continuous.\n",
      "Objective is nonlinear. Moving it to constraint set.\n",
      "rNLP is the initial strategy being used.\n",
      "\n",
      " ===============================================================================================\n",
      " Iteration | Subproblem Type | Objective Value | Primal Bound |   Dual Bound |   Gap   | Time(s)\n",
      "\n",
      "         -       Relaxed NLP       4.08888e-07            inf    4.08888e-07      nan%      0.48\n",
      "         1              MILP       4.02427e-07            inf    4.08888e-07      nan%      0.65\n",
      "NLP subproblem was locally infeasible.\n",
      "Solving feasibility problem\n",
      "         2              MILP       4.08916e-07            inf    4.08916e-07      nan%      1.24\n",
      "NLP subproblem was locally infeasible.\n",
      "Solving feasibility problem\n",
      "         3              MILP       7.76004e-07            inf    7.76004e-07      nan%      2.06\n",
      "NLP subproblem was locally infeasible.\n",
      "Solving feasibility problem\n",
      "         4              MILP           10.9261            inf        10.9261      nan%      3.71\n",
      "NLP subproblem was locally infeasible.\n",
      "Solving feasibility problem\n"
     ]
    }
   ],
   "source": [
    "points_outside_of_largest_bounding_area = 0\n",
    "indeces = []\n",
    "predictions = []\n",
    "\n",
    "mu, epsilon, delta = 0.1, 0.1, 0.1\n",
    "N, d = training_set.shape\n",
    "v = 2 * d \n",
    "min_area = MIN_AREA \n",
    "print(\"min_area: \", min_area)\n",
    "print(f\"N={N} , d={d}, vc={v}\")\n",
    "\n",
    "lba = np.zeros((d,2), dtype=float)\n",
    "for i in np.arange(0,d,1):\n",
    "    lba[i] = np.array(\n",
    "        [np.min(training_set[:, i]), np.max(training_set[:, i])]\n",
    "    )\n",
    "\n",
    "for i, point_to_be_classified in enumerate(testing_set):\n",
    "    ## \n",
    "    print(f\"------- itr: {i} -------\")\n",
    "\n",
    "    pattern_space =  PatternSpace(\n",
    "        type = PatternSpaceType.AXIS_ALIGNED_HYPER_RECTANGLES, \n",
    "        cutoff = min_area if min_area != None else 0.1\n",
    "    )\n",
    "    \n",
    "    minlp_model, classification_result = minlp_has_rare_pattern(\n",
    "        point_to_be_classified,\n",
    "        training_set,\n",
    "        pattern_space,\n",
    "        mu,\n",
    "        debugging_minlp_model=True,\n",
    "    )\n",
    "    \n",
    "    print(\"Classification result: \",classification_result)\n",
    "    predictions.append(classification_result)\n",
    "    \n",
    "    ax = plt.gca()\n",
    "    if minlp_model is not None:\n",
    "        result = (\n",
    "            mu,\n",
    "            classification_result,\n",
    "            minlp_model\n",
    "        )\n",
    "        included_points = minlp_model.extract_points_included_in_pattern()\n",
    "        calculated_pattern = minlp_model.extract_pattern()\n",
    "        area_calculated_pattern = np.prod(np.apply_along_axis(lambda i: i[1] - i[0], axis=1, arr=calculated_pattern))\n",
    "        print(\"area_calculated_pattern: \", area_calculated_pattern)\n",
    "        # assert area_calculated_pattern is not None, \"area of minimized pattern is None\"\n",
    "        # assert area_calculated_pattern >= 0, \"area of minimized pattern is negative\"\n",
    "        largest_bounding_area = minlp_model.largest_bounding_area\n",
    "        [plt.scatter(\n",
    "            x=p[0], \n",
    "            y=p[1], \n",
    "            marker=\"o\", \n",
    "            s=200, \n",
    "            label=f\"included point: {np.argwhere(training_set == p)[0,0]}\") for _, p in enumerate(included_points)\n",
    "        ]\n",
    "        plt.legend([f\"area of calculated pattern: {area_calculated_pattern}\"])\n",
    "        draw_largest_bounding_area(largest_bounding_area, ax)\n",
    "        draw2dpattern(calculated_pattern, ax, classification_result, minlp_model.minimized_f_hats, len(training_set))\n",
    "        plt.legend(bbox_to_anchor=(1.1, 1.1))\n",
    "    else:\n",
    "        print(f\"---> !! minlp model is none and classification results: {classification_result} !! \")\n",
    "        draw_largest_bounding_area(lba, ax)\n",
    "        ax.legend()\n",
    "        points_outside_of_largest_bounding_area += 1 \n",
    "        indeces.append(i)\n",
    "\n",
    "    plt.scatter(x=training_set[:,0], y=training_set[:,1])\n",
    "    plt.scatter(\n",
    "        x=point_to_be_classified[0], \n",
    "        y=point_to_be_classified[1], \n",
    "        marker=\"x\",  \n",
    "        s=200, \n",
    "        label=\"target\") \n",
    "    plt.legend()\n",
    "    plt.show()\n",
    "\n",
    "print(\"-- END __\")\n",
    "print(\"Points that lie outside of the largest bounding area defined by the training set: \",points_outside_of_largest_bounding_area) \n",
    "print(\"indices of the points: \", indeces)"
   ],
   "metadata": {
    "collapsed": false,
    "pycharm": {
     "name": "#%%\n",
     "is_executing": true
    }
   }
  },
  {
   "cell_type": "markdown",
   "source": [
    "# Testing RarePatternDetect class"
   ],
   "metadata": {
    "pycharm": {
     "name": "#%% md\n"
    }
   }
  },
  {
   "cell_type": "code",
   "execution_count": null,
   "source": [
    "# # print(training_set)\n",
    "\n",
    "# rpd = RarePatternDetect(\n",
    "#     delta=0.01,\n",
    "#     tau=0.01,\n",
    "#     epsilon=0.01,\n",
    "#     pattern_space = PatternSpace(\n",
    "#         PatternSpaceType.AXIS_ALIGNED_HYPER_RECTANGLES, \n",
    "#         cutoff = 0.41 # 3 #min_area\n",
    "#     )\n",
    "# )\n",
    "# rpd.load_training_data(training_set)\n",
    "# preds = [rpd.is_anomalous(point_to_be_classified) for _, point_to_be_classified in enumerate(testing_set)]\n",
    "# print(preds)\n",
    "\n",
    "# print(predictions)\n",
    "# # -> should get the same results\n",
    "# assert preds == predictions\n",
    "# # ssert preds in np.array([True, False]) and no \"None\"\n",
    "# assert None not in preds \n",
    "# assert None not in predictions"
   ],
   "outputs": [],
   "metadata": {
    "pycharm": {
     "name": "#%%\n",
     "is_executing": true
    }
   }
  },
  {
   "cell_type": "markdown",
   "source": [
    "# Experiment: Prediction using Isolation Forest and comparison with the minlp solver"
   ],
   "metadata": {
    "pycharm": {
     "name": "#%% md\n"
    }
   }
  },
  {
   "cell_type": "code",
   "execution_count": null,
   "source": [
    "# from sklearn.ensemble import IsolationForest\n",
    "\n",
    "# X = training_set\n",
    "# clf = IsolationForest(random_state=0).fit(X)\n",
    "# r = clf.predict(testing_set) # -1 anomalie\n",
    "# r = np.where(r==1, r, False).astype(bool)\n",
    "# print(\"r: \",r)\n",
    "\n",
    "# count_similar_predictions = np.count_nonzero(r == preds)\n",
    "# per_similar_predictions = count_similar_predictions/len(testing_set)\n",
    "# count_similar_predictions,  per_similar_predictions\n"
   ],
   "outputs": [],
   "metadata": {
    "pycharm": {
     "name": "#%%\n",
     "is_executing": true
    }
   }
  },
  {
   "cell_type": "markdown",
   "source": [
    "# Testing the solver on more than two features"
   ],
   "metadata": {
    "pycharm": {
     "name": "#%% md\n"
    }
   }
  },
  {
   "cell_type": "code",
   "execution_count": null,
   "source": [
    "with np.load('../ADbench-main/datasets/Classical/6_cardio.npz') as data:\n",
    "    X = data['X']\n",
    "    y = data['y']\n",
    "\n",
    "TRAINING_LIMIT = 200\n",
    "TESTING_LIMIT = 5\n",
    "FEATURES = 2\n",
    "\n",
    "X = X[:,:FEATURES]\n",
    "\n",
    "training_set = X[:TRAINING_LIMIT]\n",
    "training_labels = y[:TRAINING_LIMIT]\n",
    "\n",
    "# slicing\n",
    "testing_set = X[TRAINING_LIMIT:-1:300]\n",
    "testing_labels = y[TRAINING_LIMIT:-1:300]\n",
    "\n",
    "rpd = RarePatternDetect(\n",
    "    delta=0.1,\n",
    "    tau=0.1,\n",
    "    epsilon=0.1,\n",
    "    pattern_space = PatternSpace(\n",
    "        PatternSpaceType.AXIS_ALIGNED_HYPER_RECTANGLES, \n",
    "        cutoff = 0.1\n",
    "    )\n",
    ")\n",
    "\n",
    "# print(\"testing_set: \", testing_set)\n",
    "rpd.fit(training_set)\n",
    "\n",
    "preds = [rpd.predict_score(point_to_be_classified) for _, point_to_be_classified in enumerate(testing_set)]\n",
    "\n",
    "print(\"--- RESULTS ---\")\n",
    "print(\"predictions: \", preds)"
   ],
   "outputs": [],
   "metadata": {
    "pycharm": {
     "name": "#%%\n",
     "is_executing": true
    }
   }
  }
 ],
 "metadata": {
  "kernelspec": {
   "name": "python3",
   "display_name": "Python 3.9.15 64-bit ('pac-venv')"
  },
  "language_info": {
   "name": "python",
   "version": "3.9.15",
   "mimetype": "text/x-python",
   "codemirror_mode": {
    "name": "ipython",
    "version": 3
   },
   "pygments_lexer": "ipython3",
   "nbconvert_exporter": "python",
   "file_extension": ".py"
  },
  "interpreter": {
   "hash": "4ede7f29d864d30436995b20b34666eece4fa61a1cdb58253be3ba6b07adb827"
  }
 },
 "nbformat": 4,
 "nbformat_minor": 2
}