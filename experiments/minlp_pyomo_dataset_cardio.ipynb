{
 "cells": [
  {
   "cell_type": "code",
   "execution_count": 13,
   "source": [
    "import pyomo.environ as pyo\n",
    "import pyomo.gdp as gdp\n",
    "import numpy as np\n",
    "import pandas as pd\n",
    "from scipy.stats import multivariate_normal\n",
    "\n",
    "from matplotlib import pyplot as plt\n",
    "import matplotlib.patches as patches\n",
    "%matplotlib inline"
   ],
   "outputs": [],
   "metadata": {
    "collapsed": false,
    "pycharm": {
     "name": "#%%\n"
    }
   }
  },
  {
   "cell_type": "markdown",
   "source": [
    "# Done: \n",
    "    - extract the npz cardio data to csv data\n",
    "\n",
    " # Notes: \n",
    "    # There is still an error that happens when the minlp model is not able to solve the problem -> should never return None as a prediction\n",
    "        # -> can be fixed by setting a very small min_area, which eventually lead to all points being labeled as anomaleous.\n",
    "    # -> honestly maybe a circle in 2D as a pattern might make more sense of this \n",
    "\n",
    "\n",
    "# Ongoing: \n",
    "    - calculate min area of the cardio dataset -> depends on the pac parameter and the number of training datapoints -> with wolfram 41...\n",
    "    - runnin the minlp solver on the first two features of the cardio data -> minlp solver works  \n",
    "    - runnin the minlp solver on all the features of the cardio data -> minlp solver does not work -> internal solver error (cannot recover) ? \n",
    "\n",
    "# TODO: \n",
    "    - shuffle data points before split to training and testing sets\n",
    "    - compare performance to SVM, RF\n",
    "    - transfer to python files and call the model through the RarePatternDetect(.ipynb -> .py)\n",
    "    - check if the tests run successfully"
   ],
   "metadata": {}
  },
  {
   "cell_type": "markdown",
   "source": [],
   "metadata": {}
  },
  {
   "cell_type": "code",
   "execution_count": 14,
   "source": [
    "MIN_AREA = 0.3 # 0.3"
   ],
   "outputs": [],
   "metadata": {}
  },
  {
   "cell_type": "code",
   "execution_count": 15,
   "source": [
    "from enum import Enum\n",
    "import math \n",
    "#from rare_pattern_detect.patterns import PatternSpace\n",
    "\n",
    "class PatternSpaceType(Enum):\n",
    "    AXIS_ALIGNED_HYPER_RECTANGLES = 1\n",
    "    HALF_SPACES = 2\n",
    "\n",
    "class PatternSpace:\n",
    "    def __init__(self, type: PatternSpaceType, cutoff: float = 0):\n",
    "        self.type = type\n",
    "        self.cutoff = cutoff\n",
    "\n",
    "    def calculate_coeff(self, **kwargs):\n",
    "        if self.type == PatternSpaceType.AXIS_ALIGNED_HYPER_RECTANGLES:\n",
    "            epsilon = kwargs[\"epsilon\"]\n",
    "            delta = kwargs[\"delta\"]\n",
    "            N = kwargs[\"N\"]\n",
    "            d = kwargs[\"d\"]\n",
    "            v = 2 * d\n",
    "            # TODO: FIll in details\n",
    "            # min_area = math.sqrt((1 / N) * (256 / epsilon**2) * ( v * math.log(256 / epsilon**2) + math.log(8 / delta)))\n",
    "            self.cutoff = MIN_AREA # min_area\n",
    "            # print(\"calculating cutoff dynamic min_area : \", self.cutoff)\n",
    "\n",
    "\n",
    "def contains(point: np.ndarray, largest_bounding_area) -> bool:\n",
    "    #print(\"point: \",point)\n",
    "    #print(\"largest_bounding_area: \", largest_bounding_area)\n",
    "    #print(\"point: \", point)\n",
    "    #print(\"largest_bounding_area T: \", largest_bounding_area.T)\n",
    "    contained = all((largest_bounding_area.T[0,:] <= point.T) & (point.T <= largest_bounding_area.T[1,:]))\n",
    "    #print(\"contained: \", contained)\n",
    "    return contained\n",
    "\n",
    "def minlp_has_rare_pattern(\n",
    "    x, training_data, pattern_space: PatternSpace, mu, debugging_minlp_model=False\n",
    "):\n",
    "    min_area = MIN_AREA # pattern_space.cutoff\n",
    "    model = MINLPModel(training_data, min_area)\n",
    "\n",
    "    # Checking if point is included in the largest bounding area defined by the training set\n",
    "    if contains(x, model.largest_bounding_area):\n",
    "        solution = model.classify(x, tee=debugging_minlp_model)\n",
    "\n",
    "        # Parse solution output\n",
    "        if solution is not None: \n",
    "            # If the minlp model was feasible and a solution was found \n",
    "            # then we return the model and the label that contains \n",
    "            # if the point is anomalous or not (bool)\n",
    "            res = (model, solution <= mu)\n",
    "        else:\n",
    "            # If for some reasons the model encountered an error \n",
    "            # while trying to solve the minlp model\n",
    "            print(\"Error when classifying a point: \", x, model.largest_bounding_area)\n",
    "            res = (None, None)\n",
    "    else:\n",
    "        print(\"point to be classified outside of the limits: anomaly\")\n",
    "        # no need to solve the minlp model for this point.\n",
    "        # Since the point lies outside of the largest point area, then it must be an anomaly (True)\n",
    "        res = (None, True)\n",
    "\n",
    "    return res\n",
    "        \n",
    "\n",
    "class MINLPModel:\n",
    "    def __init__(self, training_set: np.array, min_area: float):\n",
    "        assert min_area != 0.0, \"min_area is zero !! This should never happen -> f_hat is zero -> everything anomaleous\"\n",
    "        self.training_set = training_set  # a N x d matrix\n",
    "        self.min_area = min_area  # the smallest allowed area\n",
    "        self.N, self.d = self.training_set.shape\n",
    "        self.Nrange, self.drange = (range(x) for x in self.training_set.shape)\n",
    "        self.largest_bounding_area = None # self.calculate_largest_bounding_area()\n",
    "        self.model = self.create_model()\n",
    "        self.minimized_f_hats = np.zeros(self.N, float)\n",
    "\n",
    "    def create_model(self):\n",
    "        def _pattern_area():\n",
    "            return pyo.prod(\n",
    "                model.interval_lengths[i] for i in self.drange\n",
    "            )\n",
    "\n",
    "        # define model\n",
    "        model = pyo.ConcreteModel()\n",
    "\n",
    "        ## variables\n",
    "\n",
    "        model.largest_bounding_area = self.calculate_largest_bounding_area()\n",
    "\n",
    "        # x is a 2d vector\n",
    "\n",
    "        model.pattern = pyo.Var(\n",
    "            range(2), self.drange # self.drange , self.drange\n",
    "        ) #  , bounds=adjust_largest_pattern_bounds)\n",
    "\n",
    "        # y is a boolean vector of size N\n",
    "        model.included = pyo.Var(\n",
    "            self.Nrange, within=pyo.Binary, initialize=0\n",
    "        )\n",
    "\n",
    "        # auxiliary variables\n",
    "        model.interval_lengths = pyo.Var(\n",
    "            self.drange, within=pyo.NonNegativeReals\n",
    "        )\n",
    "        model.point_left_of_pattern = pyo.Var(\n",
    "            self.Nrange, self.drange, within=pyo.Binary, initialize=0\n",
    "        )\n",
    "        model.point_right_of_pattern = pyo.Var(\n",
    "            self.Nrange, self.drange, within=pyo.Binary, initialize=0\n",
    "        )\n",
    "\n",
    "        ## objective (minimised by default)\n",
    "        model.obj = pyo.Objective(\n",
    "            expr=sum(model.included[i] for i in self.Nrange) / _pattern_area(),\n",
    "            sense=pyo.minimize,\n",
    "        )\n",
    "\n",
    "        ## constraints\n",
    "\n",
    "        # pattern area needs to exceed min_area\n",
    "        model.area_constraint = pyo.Constraint(\n",
    "            expr=_pattern_area() >= self.min_area\n",
    "        )\n",
    "\n",
    "        # training points included in model.included lie within the pattern (NB: In principle we would need to ensure that points not included are also\n",
    "        # not included in model.included. However, since including points outside the pattern increases the objective, this is covered.)\n",
    "\n",
    "        model.include_constraint = pyo.ConstraintList()\n",
    "        model.enforce_point_left_of_pattern = pyo.ConstraintList()\n",
    "        model.enforce_point_right_of_pattern = pyo.ConstraintList()\n",
    "        M = 100000\n",
    "        for j in self.Nrange:\n",
    "            for i in self.drange:\n",
    "                # enforcing auxiliary variables are correct: point_left_of_pattern[j,i] is True iff the jth training point lies strictly outside the pattern in ith dimension, etc.\n",
    "                model.enforce_point_left_of_pattern.add(\n",
    "                    (model.point_left_of_pattern[j, i] * M + self.training_set[j, i])\n",
    "                    >= model.pattern[0, i]\n",
    "                )\n",
    "                model.enforce_point_left_of_pattern.add(\n",
    "                    self.training_set[j, i] + 1e-3\n",
    "                    <= (\n",
    "                        model.pattern[0, i]\n",
    "                        + (1 - model.point_left_of_pattern[j, i]) * M\n",
    "                    )\n",
    "                )\n",
    "                model.enforce_point_right_of_pattern.add(\n",
    "                    self.training_set[j, i]\n",
    "                    <= (model.pattern[1, i] + model.point_right_of_pattern[j, i] * M)\n",
    "                )\n",
    "                model.enforce_point_right_of_pattern.add(\n",
    "                    (\n",
    "                        (1 - model.point_right_of_pattern[j, i]) * M\n",
    "                        + self.training_set[j, i]\n",
    "                    )\n",
    "                    >= (model.pattern[1, i] + 1e-3)\n",
    "                )\n",
    "\n",
    "            model.include_constraint.add(\n",
    "                # key bit: this constraint enforces that the model.included for jth point can be set to 0 only if the point is not contained in the pattern (as witnessed by the fact\n",
    "                # that the corresponding auxiliary variables are all 0)\n",
    "                model.included[j]\n",
    "                + sum(\n",
    "                    model.point_right_of_pattern[j, i]\n",
    "                    + model.point_left_of_pattern[j, i]\n",
    "                    for i in self.drange\n",
    "                )\n",
    "                >= 1\n",
    "            )\n",
    "\n",
    "        # connect auxiliary variables: interval lengths are differences of pattern points \n",
    "        # and set bounds of the pattern to be optmized\n",
    "        model.interval_constraint = pyo.ConstraintList()\n",
    "        model.pattern_constraint = pyo.ConstraintList()\n",
    "        for i in self.drange:\n",
    "            model.pattern_constraint.add(\n",
    "                model.pattern[0,i] >= np.min(self.training_set[:,i])\n",
    "            )\n",
    "            model.pattern_constraint.add(\n",
    "                model.pattern[1,i] <= np.max(self.training_set[:,i])\n",
    "            )\n",
    "            model.interval_constraint.add(\n",
    "                model.interval_lengths[i] == model.pattern[1, i] - model.pattern[0, i]\n",
    "            )\n",
    "        \n",
    "        return model\n",
    "\n",
    "    def extract_points_included_in_pattern(self):  \n",
    "        return np.array([self.training_set[i] for i in self.model.included if np.round(self.model.included[i].value, 1) == 1.0])\n",
    "\n",
    "    def extract_pattern(self):\n",
    "        intervals = np.zeros((2, 2), dtype=float)\n",
    "        for _, j in enumerate(self.model.pattern):\n",
    "            intervals[j] = self.model.pattern[j].value\n",
    "        return intervals.T\n",
    "\n",
    "    def calculate_largest_bounding_area(self):\n",
    "        result = np.zeros((self.d,2), dtype=float)\n",
    "        for i in self.drange:\n",
    "            result[i] = np.array(\n",
    "                [np.min(self.training_set[:, i]), np.max(self.training_set[:, i])]\n",
    "            )\n",
    "        self.largest_bounding_area = result # np.concatenate(self.largest_bounding_area, tmp)\n",
    "\n",
    "\n",
    "    def classify(self, point_to_be_classified: np.array, tee):\n",
    "        \"\"\"\n",
    "        This function evaluates one testing point and returns the calculated objective (f_hat)\n",
    "        \"\"\"\n",
    "        # point to be classified is a 1 x d array\n",
    "        self.add_point_to_model(point_to_be_classified)\n",
    "        _ = pyo.SolverFactory(\"mindtpy\").solve(\n",
    "            self.model,\n",
    "            strategy=\"OA\",\n",
    "            mip_solver=\"glpk\",\n",
    "            nlp_solver=\"ipopt\",\n",
    "            tee=tee,\n",
    "        )\n",
    "        try:\n",
    "            res = pyo.value(self.model.obj)\n",
    "        except: \n",
    "            print(\"-classify- Something went wrong with the solver: \", point_to_be_classified)\n",
    "            res = None \n",
    "        finally:\n",
    "            self.minimized_f_hats = np.round(res,2) if res is not None else None\n",
    "            return res\n",
    "         \n",
    "\n",
    "    def add_point_to_model(self, point):\n",
    "        # point to be classified lies in pattern\n",
    "        # print(\"point before: \", point.shape)\n",
    "        point = point.squeeze()\n",
    "        # print(\"point after: \", point.shape)\n",
    "        # assert point.shape == (2,)\n",
    "        self.model.point_constraint = pyo.ConstraintList()\n",
    "        for i in self.drange:\n",
    "            # x[i] <= point[i] <= x[i + d], for all i\n",
    "            self.model.point_constraint.add(\n",
    "                self.model.pattern[0, i] <= point[i]\n",
    "            )\n",
    "            self.model.point_constraint.add(\n",
    "                point[i] <= self.model.pattern[1, i]\n",
    "            )\n",
    "\n",
    "\n",
    "#from rare_pattern_detect.patterns import PatternSpaceType\n",
    "#from rare_pattern_detect.minlp_based import minlp_has_rare_pattern\n",
    "\n",
    "import unittest\n",
    "class RarePatternDetect:\n",
    "    def __init__(self, delta, tau, epsilon, pattern_space: PatternSpace):\n",
    "        self.training_data = None\n",
    "        self.delta = delta\n",
    "        self.tau = tau\n",
    "        self.epsilon = epsilon\n",
    "        self.pattern_space = pattern_space\n",
    "\n",
    "        if pattern_space.type == PatternSpaceType.AXIS_ALIGNED_HYPER_RECTANGLES:\n",
    "            self.has_rare_pattern = minlp_has_rare_pattern\n",
    "        else:\n",
    "            self.has_rare_pattern = None\n",
    "\n",
    "    def load_training_data(self, training_data):\n",
    "        self.training_data = training_data\n",
    "        N, d = training_data.shape\n",
    "        self.pattern_space.cutoff = self.pattern_space.calculate_coeff(\n",
    "            epsilon=self.epsilon, \n",
    "            delta=self.delta, \n",
    "            N=N, \n",
    "            d=d\n",
    "        )\n",
    "\n",
    "    def is_anomalous(self, x):\n",
    "        _, pred = self.has_rare_pattern(\n",
    "            x, \n",
    "            self.training_data, \n",
    "            self.pattern_space, \n",
    "            self.tau + self.epsilon / 2\n",
    "        )\n",
    "        return pred\n",
    "\n",
    "    ## Added for ADBench\n",
    "    def fit(self, X):\n",
    "        return self.load_training_data(X)\n",
    "\n",
    "    ## Added for ADBench\n",
    "    def predict_score(self, X_test):\n",
    "        return self.is_anomalous(X_test)"
   ],
   "outputs": [],
   "metadata": {}
  },
  {
   "cell_type": "code",
   "execution_count": 16,
   "source": [
    "cmap = plt.get_cmap('viridis')\n",
    "\n",
    "def draw_largest_bounding_area(interval, ax):\n",
    "    ax.add_patch(patches.Rectangle(\n",
    "        xy=(interval[0,0], interval[1,0]),\n",
    "        width=interval[0,1] - interval[0,0],\n",
    "        height=interval[1,1] - interval[1,0],\n",
    "        facecolor='none',\n",
    "        edgecolor=cmap(0.5),\n",
    "        label= \"largest bounding area\",\n",
    "        linewidth=3.0\n",
    "        )\n",
    "    )\n",
    "\n",
    "def draw2dpattern(interval, ax, classfication_result, minimized_f_hat, total):\n",
    "    ax.add_patch(patches.Rectangle(\n",
    "        xy=(interval[0,0], interval[1,0]),\n",
    "        width=interval[0,1] - interval[0,0],\n",
    "        height=interval[1,1] - interval[1,0],\n",
    "        facecolor='none',\n",
    "        edgecolor=cmap(0/total),\n",
    "        label=f\"point anomalous: {classfication_result} | f_hat: {minimized_f_hat}\"\n",
    "        )\n",
    "    )\n",
    "\n",
    "plt.rcParams[\"figure.figsize\"] = (15,7)\n",
    "\n",
    "# training_set =  np.array(\n",
    "#     [[0.0, 0.0], [2.0, 0.0], [0.0, 2.0], [2.0, 2.0]]\n",
    "# )\n",
    "# training_set = multivariate_normal.rvs(size=(20,2))\n",
    "# point_to_be_classified = np.array([[0.25,0.25]])\n",
    "# testing_set = multivariate_normal.rvs(size=(3,2))\n",
    "\n",
    "# os.listdir('../ADbench-main/datasets/Classical')\n",
    "# b = np.load('../ADbench-main/datasets/Classical/6_cardio.npz')\n",
    "# b.keys()\n",
    "# print(b.files)\n",
    "\n",
    "with np.load('../ADbench-main/datasets/Classical/6_cardio.npz') as data:\n",
    "    X = data['X']\n",
    "    y = data['y']\n",
    "\n",
    "#  1831\n",
    "print(\"number of datapoints is: \",len(y))\n",
    "\n",
    "# number of feature per data point is 21\n",
    "print(\"number of feature per data point is: \", len(X[0]))\n",
    "\n",
    "TRAINING_LIMIT = 200\n",
    "TESTING_LIMIT = 3\n",
    "FEATURES = 2\n",
    "\n",
    "X = X[:TRAINING_LIMIT+TESTING_LIMIT][:,:FEATURES]\n",
    "y = y[:TRAINING_LIMIT+TESTING_LIMIT]\n",
    "\n",
    "training_set = X[:TRAINING_LIMIT]\n",
    "training_labels = y[:TRAINING_LIMIT]\n",
    "\n",
    "testing_set = X[TRAINING_LIMIT:-1]\n",
    "testing_labels = y[TRAINING_LIMIT:-1]"
   ],
   "outputs": [
    {
     "output_type": "stream",
     "name": "stdout",
     "text": [
      "number of datapoints is:  1831\n",
      "number of feature per data point is:  21\n"
     ]
    }
   ],
   "metadata": {}
  },
  {
   "cell_type": "code",
   "execution_count": 17,
   "source": [
    "points_outside_of_largest_bounding_area = 0\n",
    "indeces = []\n",
    "predictions = []\n",
    "\n",
    "mu, epsilon, delta = 0.1, 0.1, 0.1\n",
    "N, d = training_set.shape\n",
    "v = 2 * d \n",
    "min_area = MIN_AREA \n",
    "print(\"min_area: \", min_area)\n",
    "print(f\"N={N} , d={d}, vc={v}\")\n",
    "lba = np.zeros((d,2), dtype=float)\n",
    "# print(\"drange avant: \", self.drange)\n",
    "for i in np.arange(0,d,1):\n",
    "    lba[i] = np.array(\n",
    "        [np.min(training_set[:, i]), np.max(training_set[:, i])]\n",
    "    )\n",
    "\n",
    "for i, point_to_be_classified in enumerate(testing_set):\n",
    "    ## \n",
    "    print(f\"------- itr: {i} -------\")\n",
    "\n",
    "    pattern_space =  PatternSpace(\n",
    "        type = PatternSpaceType.AXIS_ALIGNED_HYPER_RECTANGLES, \n",
    "        cutoff = min_area\n",
    "    )\n",
    "    \n",
    "    minlp_model, classification_result = minlp_has_rare_pattern(\n",
    "        point_to_be_classified,\n",
    "        training_set,\n",
    "        pattern_space,\n",
    "        mu,\n",
    "        debugging_minlp_model=True,\n",
    "    )\n",
    "    \n",
    "    print(\"Classification result: \",classification_result)\n",
    "    predictions.append(classification_result)\n",
    "    \n",
    "    ax = plt.gca()\n",
    "    if minlp_model is not None:\n",
    "        result = (\n",
    "            # min_area,\n",
    "            mu,\n",
    "            classification_result,\n",
    "            minlp_model\n",
    "        )\n",
    "        included_points = minlp_model.extract_points_included_in_pattern()\n",
    "        calculated_pattern = minlp_model.extract_pattern()\n",
    "        area_calculated_pattern = np.prod(np.apply_along_axis(lambda i: i[1] - i[0], axis=1, arr=calculated_pattern))\n",
    "        print(\"area_calculated_pattern: \", area_calculated_pattern)\n",
    "        assert area_calculated_pattern > 0, \"area of minimized pattern is negative\"\n",
    "        largest_bounding_area = minlp_model.largest_bounding_area\n",
    "        [plt.scatter(\n",
    "            x=p[0], \n",
    "            y=p[1], \n",
    "            marker=\"o\", \n",
    "            s=200, \n",
    "            label=f\"included point: {np.argwhere(training_set == p)[0,0]}\") for _, p in enumerate(included_points)\n",
    "        ]\n",
    "        plt.legend([f\"area of calculated pattern: {area_calculated_pattern}\"])\n",
    "        draw_largest_bounding_area(largest_bounding_area, ax)\n",
    "        draw2dpattern(calculated_pattern, ax, classification_result, minlp_model.minimized_f_hats, len(training_set))\n",
    "        plt.legend(bbox_to_anchor=(1.1, 1.1))\n",
    "    else:\n",
    "        print(f\"---> !! minlp model is none and classification results: {classification_result} !! \")\n",
    "        draw_largest_bounding_area(lba, ax)\n",
    "        ax.legend()\n",
    "        points_outside_of_largest_bounding_area += 1 \n",
    "        indeces.append(i)\n",
    "\n",
    "    plt.scatter(x=training_set[:,0], y=training_set[:,1])\n",
    "    plt.scatter(\n",
    "        x=point_to_be_classified[0], \n",
    "        y=point_to_be_classified[1], \n",
    "        marker=\"x\",  \n",
    "        s=200, \n",
    "        label=\"target\") \n",
    "    # ax.title()\n",
    "    plt.legend()\n",
    "    plt.show()\n",
    "\n",
    "print(\"-- END __\")\n",
    "print(\"Points that lie outside of the largest bounding area defined by the training set: \",points_outside_of_largest_bounding_area) \n",
    "print(\"indices of the points: \", indeces)"
   ],
   "outputs": [
    {
     "output_type": "stream",
     "name": "stdout",
     "text": [
      "min_area:  0.3\n",
      "N=200 , d=2, vc=4\n",
      "------- itr: 0 -------\n"
     ]
    },
    {
     "output_type": "stream",
     "name": "stderr",
     "text": [
      "---------------------------------------------------------------------------------------------\n",
      "              Mixed-Integer Nonlinear Decomposition Toolbox in Pyomo (MindtPy)               \n",
      "---------------------------------------------------------------------------------------------\n",
      "For more information, please visit https://pyomo.readthedocs.io/en/stable/contributed_packages/mindtpy.html\n",
      "Original model has 1811 constraints (1 nonlinear) and 0 disjunctions, with 1006 variables, of which 1000 are binary, 0 are integer, and 6 are continuous.\n",
      "Objective is nonlinear. Moving it to constraint set.\n",
      "rNLP is the initial strategy being used.\n",
      "\n",
      " ===============================================================================================\n",
      " Iteration | Subproblem Type | Objective Value | Primal Bound |   Dual Bound |   Gap   | Time(s)\n",
      "\n",
      "         -       Relaxed NLP       3.94108e-07            inf    3.94108e-07      nan%      7.85\n",
      "         1              MILP       5.99796e-07            inf    5.99796e-07      nan%      8.62\n",
      "*        1         Fixed NLP       -7.4941e-09    -7.4941e-09    5.99796e-07   7996.87%      9.88\n",
      "MindtPy exiting on bound convergence. |Primal Bound: -7.494096406374967e-09 - Dual Bound: 5.99795619209464e-07| <= (absolute tolerance 0.0001)  \n",
      "\n",
      " ===============================================================================================\n",
      " Primal integral          :    0.0000 \n",
      " Dual integral            :    0.0000 \n",
      " Primal-dual gap integral :    0.0000 \n"
     ]
    },
    {
     "output_type": "stream",
     "name": "stdout",
     "text": [
      "Classification result:  True\n",
      "area_calculated_pattern:  0.3073858667312312\n"
     ]
    },
    {
     "output_type": "display_data",
     "data": {
      "text/plain": [
       "<Figure size 1080x504 with 1 Axes>"
      ],
      "image/png": "[encoded data removed]"
     },
     "metadata": {
      "needs_background": "light"
     }
    },
    {
     "output_type": "stream",
     "name": "stdout",
     "text": [
      "------- itr: 1 -------\n"
     ]
    },
    {
     "output_type": "stream",
     "name": "stderr",
     "text": [
      "---------------------------------------------------------------------------------------------\n",
      "              Mixed-Integer Nonlinear Decomposition Toolbox in Pyomo (MindtPy)               \n",
      "---------------------------------------------------------------------------------------------\n",
      "For more information, please visit https://pyomo.readthedocs.io/en/stable/contributed_packages/mindtpy.html\n",
      "Original model has 1811 constraints (1 nonlinear) and 0 disjunctions, with 1006 variables, of which 1000 are binary, 0 are integer, and 6 are continuous.\n",
      "Objective is nonlinear. Moving it to constraint set.\n",
      "rNLP is the initial strategy being used.\n",
      "\n",
      " ===============================================================================================\n",
      " Iteration | Subproblem Type | Objective Value | Primal Bound |   Dual Bound |   Gap   | Time(s)\n",
      "\n",
      "         -       Relaxed NLP       3.96537e-07            inf    3.96537e-07      nan%      2.59\n",
      "         1              MILP       5.41762e-07            inf    5.41762e-07      nan%      3.75\n",
      "*        1         Fixed NLP       -7.4941e-09    -7.4941e-09    5.41762e-07   7232.67%      5.21\n",
      "MindtPy exiting on bound convergence. |Primal Bound: -7.494096440320001e-09 - Dual Bound: 5.41761878009724e-07| <= (absolute tolerance 0.0001)  \n",
      "\n",
      " ===============================================================================================\n",
      " Primal integral          :    0.0000 \n",
      " Dual integral            :    0.0000 \n",
      " Primal-dual gap integral :    0.0000 \n"
     ]
    },
    {
     "output_type": "stream",
     "name": "stdout",
     "text": [
      "Classification result:  True\n",
      "area_calculated_pattern:  0.3116885135688558\n"
     ]
    },
    {
     "output_type": "display_data",
     "data": {
      "text/plain": [
       "<Figure size 1080x504 with 1 Axes>"
      ],
      "image/png": "[encoded data removed]"
     },
     "metadata": {
      "needs_background": "light"
     }
    },
    {
     "output_type": "stream",
     "name": "stdout",
     "text": [
      "-- END __\n",
      "Points that lie outside of the largest bounding area defined by the training set:  0\n",
      "indices of the points:  []\n"
     ]
    }
   ],
   "metadata": {}
  },
  {
   "cell_type": "markdown",
   "source": [
    "# Testing RarePatternDetect class"
   ],
   "metadata": {}
  },
  {
   "cell_type": "code",
   "execution_count": 18,
   "source": [
    "# # print(training_set)\n",
    "\n",
    "# rpd = RarePatternDetect(\n",
    "#     delta=0.01,\n",
    "#     tau=0.01,\n",
    "#     epsilon=0.01,\n",
    "#     pattern_space = PatternSpace(\n",
    "#         PatternSpaceType.AXIS_ALIGNED_HYPER_RECTANGLES, \n",
    "#         cutoff = 0.41 # 3 #min_area\n",
    "#     )\n",
    "# )\n",
    "# rpd.load_training_data(training_set)\n",
    "# preds = [rpd.is_anomalous(point_to_be_classified) for _, point_to_be_classified in enumerate(testing_set)]\n",
    "# print(preds)"
   ],
   "outputs": [],
   "metadata": {}
  },
  {
   "cell_type": "code",
   "execution_count": 19,
   "source": [
    "# print(predictions)\n",
    "# # -> should get the same results\n",
    "# assert preds == predictions\n",
    "# # ssert preds in np.array([True, False]) and no \"None\"\n",
    "# assert None not in preds \n",
    "# assert None not in predictions"
   ],
   "outputs": [],
   "metadata": {}
  },
  {
   "cell_type": "markdown",
   "source": [
    "# Experiment: comparing with Isolation Forest"
   ],
   "metadata": {}
  },
  {
   "cell_type": "code",
   "execution_count": 20,
   "source": [
    "# from sklearn.ensemble import IsolationForest\n",
    "\n",
    "# X = training_set\n",
    "# clf = IsolationForest(random_state=0).fit(X)\n",
    "# r = clf.predict(testing_set) # -1 anomalie\n",
    "# r = np.where(r==1, r, False).astype(bool)\n",
    "# print(\"r: \",r)\n",
    "\n",
    "# count_similar_predictions = np.count_nonzero(r == preds)\n",
    "# per_similar_predictions = count_similar_predictions/len(testing_set)\n",
    "# count_similar_predictions,  per_similar_predictions\n"
   ],
   "outputs": [],
   "metadata": {}
  },
  {
   "cell_type": "markdown",
   "source": [
    "## Testing the ADBench API"
   ],
   "metadata": {}
  },
  {
   "cell_type": "code",
   "execution_count": 21,
   "source": [
    "with np.load('../ADbench-main/datasets/Classical/6_cardio.npz') as data:\n",
    "    X = data['X']\n",
    "    y = data['y']\n",
    "    \n",
    "TRAINING_LIMIT = 100\n",
    "TESTING_LIMIT = 5\n",
    "FEATURES = 3\n",
    "\n",
    "X = X[:TRAINING_LIMIT+TESTING_LIMIT][:,:FEATURES]\n",
    "y = y[:TRAINING_LIMIT+TESTING_LIMIT]\n",
    "\n",
    "training_set = X[:TRAINING_LIMIT]\n",
    "training_labels = y[:TRAINING_LIMIT]\n",
    "\n",
    "testing_set = X[TRAINING_LIMIT:-1]\n",
    "testing_labels = y[TRAINING_LIMIT:-1]\n",
    "\n",
    "rpd = RarePatternDetect(\n",
    "    delta=0.1,\n",
    "    tau=0.1,\n",
    "    epsilon=0.1,\n",
    "    pattern_space = PatternSpace(\n",
    "        PatternSpaceType.AXIS_ALIGNED_HYPER_RECTANGLES, \n",
    "        cutoff = 0.1\n",
    "    )\n",
    ")\n",
    "rpd.fit(training_set)\n",
    "preds = [rpd.predict_score(point_to_be_classified) for _, point_to_be_classified in enumerate(testing_set)]"
   ],
   "outputs": [
    {
     "output_type": "stream",
     "name": "stderr",
     "text": [
      "Feasibility subproblem infeasible. This should never happen.\n"
     ]
    },
    {
     "output_type": "stream",
     "name": "stdout",
     "text": [
      "ERROR: evaluating object as numeric value: interval_lengths[0]\n",
      "        (object: <class 'pyomo.core.base.var._GeneralVarData'>)\n",
      "    No value for uninitialized NumericValue object interval_lengths[0]\n",
      "ERROR: evaluating object as numeric value: obj\n",
      "        (object: <class 'pyomo.core.base.objective.ScalarObjective'>)\n",
      "    No value for uninitialized NumericValue object interval_lengths[0]\n",
      "-classify- Something went wrong with the solver:  [ 1.16889972  0.34539525 -0.20364049]\n",
      "Error when classifying a point:  [ 1.16889972  0.34539525 -0.20364049] [[-1.89979435  2.86197231]\n",
      " [-0.91998844  2.79862691]\n",
      " [-0.20364049  9.68934974]]\n"
     ]
    },
    {
     "output_type": "stream",
     "name": "stderr",
     "text": [
      "Feasibility subproblem infeasible. This should never happen.\n"
     ]
    },
    {
     "output_type": "stream",
     "name": "stdout",
     "text": [
      "ERROR: evaluating object as numeric value: interval_lengths[0]\n",
      "        (object: <class 'pyomo.core.base.var._GeneralVarData'>)\n",
      "    No value for uninitialized NumericValue object interval_lengths[0]\n",
      "ERROR: evaluating object as numeric value: obj\n",
      "        (object: <class 'pyomo.core.base.objective.ScalarObjective'>)\n",
      "    No value for uninitialized NumericValue object interval_lengths[0]\n",
      "-classify- Something went wrong with the solver:  [ 1.16889972  1.05861752 -0.20364049]\n",
      "Error when classifying a point:  [ 1.16889972  1.05861752 -0.20364049] [[-1.89979435  2.86197231]\n",
      " [-0.91998844  2.79862691]\n",
      " [-0.20364049  9.68934974]]\n"
     ]
    },
    {
     "output_type": "stream",
     "name": "stderr",
     "text": [
      "Feasibility subproblem infeasible. This should never happen.\n"
     ]
    },
    {
     "output_type": "stream",
     "name": "stdout",
     "text": [
      "ERROR: evaluating object as numeric value: interval_lengths[0]\n",
      "        (object: <class 'pyomo.core.base.var._GeneralVarData'>)\n",
      "    No value for uninitialized NumericValue object interval_lengths[0]\n",
      "ERROR: evaluating object as numeric value: obj\n",
      "        (object: <class 'pyomo.core.base.objective.ScalarObjective'>)\n",
      "    No value for uninitialized NumericValue object interval_lengths[0]\n",
      "-classify- Something went wrong with the solver:  [ 1.16889972 -0.55719671 -0.20364049]\n",
      "Error when classifying a point:  [ 1.16889972 -0.55719671 -0.20364049] [[-1.89979435  2.86197231]\n",
      " [-0.91998844  2.79862691]\n",
      " [-0.20364049  9.68934974]]\n"
     ]
    },
    {
     "output_type": "stream",
     "name": "stderr",
     "text": [
      "Feasibility subproblem infeasible. This should never happen.\n"
     ]
    },
    {
     "output_type": "stream",
     "name": "stdout",
     "text": [
      "ERROR: evaluating object as numeric value: interval_lengths[0]\n",
      "        (object: <class 'pyomo.core.base.var._GeneralVarData'>)\n",
      "    No value for uninitialized NumericValue object interval_lengths[0]\n",
      "ERROR: evaluating object as numeric value: obj\n",
      "        (object: <class 'pyomo.core.base.objective.ScalarObjective'>)\n",
      "    No value for uninitialized NumericValue object interval_lengths[0]\n",
      "-classify- Something went wrong with the solver:  [ 1.80380194 -0.49819387 -0.20364049]\n",
      "Error when classifying a point:  [ 1.80380194 -0.49819387 -0.20364049] [[-1.89979435  2.86197231]\n",
      " [-0.91998844  2.79862691]\n",
      " [-0.20364049  9.68934974]]\n"
     ]
    }
   ],
   "metadata": {}
  },
  {
   "cell_type": "code",
   "execution_count": 22,
   "source": [
    "preds"
   ],
   "outputs": [
    {
     "output_type": "execute_result",
     "data": {
      "text/plain": [
       "[None, None, None, None]"
      ]
     },
     "metadata": {},
     "execution_count": 22
    }
   ],
   "metadata": {}
  },
  {
   "cell_type": "code",
   "execution_count": 23,
   "source": [
    "testing_set"
   ],
   "outputs": [
    {
     "output_type": "execute_result",
     "data": {
      "text/plain": [
       "array([[ 1.16889972,  0.34539525, -0.20364049],\n",
       "       [ 1.16889972,  1.05861752, -0.20364049],\n",
       "       [ 1.16889972, -0.55719671, -0.20364049],\n",
       "       [ 1.80380194, -0.49819387, -0.20364049]])"
      ]
     },
     "metadata": {},
     "execution_count": 23
    }
   ],
   "metadata": {}
  },
  {
   "cell_type": "code",
   "execution_count": 24,
   "source": [
    "for i in range(2):\n",
    "    print(i)"
   ],
   "outputs": [
    {
     "output_type": "stream",
     "name": "stdout",
     "text": [
      "0\n",
      "1\n"
     ]
    }
   ],
   "metadata": {}
  },
  {
   "cell_type": "markdown",
   "source": [],
   "metadata": {}
  },
  {
   "cell_type": "markdown",
   "source": [],
   "metadata": {}
  }
 ],
 "metadata": {
  "kernelspec": {
   "name": "python3",
   "display_name": "Python 3.9.15 64-bit ('pac-venv')"
  },
  "language_info": {
   "name": "python",
   "version": "3.9.15",
   "mimetype": "text/x-python",
   "codemirror_mode": {
    "name": "ipython",
    "version": 3
   },
   "pygments_lexer": "ipython3",
   "nbconvert_exporter": "python",
   "file_extension": ".py"
  },
  "interpreter": {
   "hash": "4ede7f29d864d30436995b20b34666eece4fa61a1cdb58253be3ba6b07adb827"
  }
 },
 "nbformat": 4,
 "nbformat_minor": 2
}