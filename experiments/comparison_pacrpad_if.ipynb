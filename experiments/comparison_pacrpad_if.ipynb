{
 "cells": [
  {
   "cell_type": "code",
   "execution_count": 4,
   "source": [
    "from rare_pattern_detect.rare_pattern_detect import RarePatternDetect\n",
    "from sklearn.ensemble import IsolationForest\n",
    "import numpy as np\n",
    "from scipy.stats import norm"
   ],
   "outputs": [],
   "metadata": {
    "collapsed": false,
    "pycharm": {
     "name": "#%%\n"
    }
   }
  },
  {
   "cell_type": "code",
   "execution_count": null,
   "outputs": [],
   "source": [
    "# open question: how to calculate the ground truth: I know for every pattern (here, line), the probability. I need to find the pattern with the smallest probability."
   ],
   "metadata": {
    "collapsed": false,
    "pycharm": {
     "name": "#%%\n"
    }
   }
  }
 ],
 "metadata": {
  "kernelspec": {
   "name": "python3",
   "display_name": "Python 3.9.15 64-bit ('pac-venv': venv)"
  },
  "language_info": {
   "name": "python",
   "version": "3.9.15",
   "mimetype": "text/x-python",
   "codemirror_mode": {
    "name": "ipython",
    "version": 3
   },
   "pygments_lexer": "ipython3",
   "nbconvert_exporter": "python",
   "file_extension": ".py"
  },
  "interpreter": {
   "hash": "4ede7f29d864d30436995b20b34666eece4fa61a1cdb58253be3ba6b07adb827"
  }
 },
 "nbformat": 4,
 "nbformat_minor": 2
}