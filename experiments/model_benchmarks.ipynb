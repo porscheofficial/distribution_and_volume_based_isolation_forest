{
 "cells": [
  {
   "cell_type": "markdown",
   "source": [
    "# Benchmarks to try and improve the run time of minlp solver scaling up"
   ],
   "metadata": {
    "collapsed": false,
    "pycharm": {
     "name": "#%% md\n"
    }
   }
  },
  {
   "cell_type": "code",
   "execution_count": 1,
   "outputs": [],
   "source": [
    "%load_ext autoreload\n",
    "%autoreload 2"
   ],
   "metadata": {
    "collapsed": false,
    "pycharm": {
     "name": "#%%\n"
    }
   }
  },
  {
   "cell_type": "code",
   "execution_count": 2,
   "outputs": [],
   "source": [
    "import itertools\n",
    "import numpy as np\n",
    "from collections import namedtuple\n",
    "np.random.seed(42)\n",
    "\n",
    "# For starters, we'll simply benchmark on fixed randomly generated test sets of increasing size, dimension and scale (decreased density).\n",
    "sizes = [100]\n",
    "dimensions = [2,3]\n",
    "scales = [1]\n",
    "\n",
    "Dataset = namedtuple(\"Dataset\", \"data size dimension scale source\")\n",
    "\n",
    "datasets = {(i,j,k): Dataset(np.random.rand(i,j) * k, i, j, k, \"random\") for i,j,k in itertools.product(sizes, dimensions, scales)}"
   ],
   "metadata": {
    "collapsed": false,
    "pycharm": {
     "name": "#%%\n"
    }
   }
  },
  {
   "cell_type": "markdown",
   "source": [
    "Note: Below we're setting values for the min_volume and absolute errors that are based on the fact that we here know the underlying distribution to be uniform, which means that the true underlying $f(h)$ value for all patterns $h$ is actually $1$. We really only care about compuational effects, but the hope is that these are roughly the kinds of ranges that are relevant when dealing with actual anomaly detection problems and other distributions"
   ],
   "metadata": {
    "collapsed": false,
    "pycharm": {
     "name": "#%% md\n"
    }
   }
  },
  {
   "cell_type": "code",
   "execution_count": 6,
   "outputs": [],
   "source": [
    "from typing import Callable, List\n",
    "import time\n",
    "from rare_pattern_detect.minlp_based import MINLPModel\n",
    "\n",
    "Parameter = namedtuple(\"Parameter\", \"name value\")\n",
    "# solver parameters\n",
    "bound_included = [Parameter(\"bound included\", v) for v in [0.05, 1]]\n",
    "initial_patterns = [Parameter(\"initial pattern\", v) for v in [\"minimal\", \"maximal\"]]\n",
    "min_volumes = [Parameter(\"min volume\", v) for v in [0.05, 0.1]]\n",
    "absolute_errors = [Parameter(\"absolute error\", v) for v in [1e-3, 0.1]] # thinking this through I believe whatever absolute error we set, we can simply add it to the epsilon of the pac performance.\n",
    "relative_errors = [Parameter(\"relative error\", v) for v in [1e-3, 0.1]] # this becomes useful especially if we set epsilon to be relative to an estimate of f.\n",
    "# use_parallel_threads = [2, 4, 6]\n",
    "# use_different_solvers = [Falase, ]\n",
    "\n",
    "parameters = [bound_included,\n",
    "              initial_patterns,\n",
    "              min_volumes,\n",
    "              absolute_errors,\n",
    "              relative_errors\n",
    "              ]\n",
    "\n",
    "def generate_solver_settings(in_dict):\n",
    "    solver_settings = {\"tee\": False}\n",
    "    if \"absolute error\" in in_dict:\n",
    "        solver_settings[\"absolute_bound_tolerance\"] = in_dict[\"absolute error\"]\n",
    "    if \"relative error\" in in_dict:\n",
    "        solver_settings[\"relative_bound_tolerance\"] = in_dict[\"relative error\"]\n",
    "    return solver_settings\n",
    "\n",
    "def run_on_testset(data, testdata, **kwargs):\n",
    "    solutions = []\n",
    "    optimal_count = 0\n",
    "    for point in testdata:\n",
    "        model = MINLPModel(data, min_volume=\"kwargs\", **kwargs)\n",
    "        status, result = model.find_min_f_hat(point, solver_settings=generate_solver_settings(kwargs))\n",
    "        if status == \"ok\":\n",
    "            solutions.append(result)\n",
    "            optimal_count += 1\n",
    "    return solutions, optimal_count, model.solver_settings\n",
    "\n",
    "def run_on_whole_dataset(data):\n",
    "    return run_on_testset(data, data)\n",
    "\n",
    "def run_on_fixed_size_sample(data, size, **kwargs):\n",
    "    np.random.seed(0)\n",
    "    N = len(data)\n",
    "    assert size <= N, \"size larger than dataset\"\n",
    "    sample_indices = np.random.choice(N, max(1, size))\n",
    "    return run_on_testset(data, data[sample_indices], **kwargs)\n",
    "\n",
    "def run_on_fraction(data, fraction, **kwargs):\n",
    "    return run_on_fixed_size_sample(data, round(len(data)*fraction), **kwargs)\n",
    "\n",
    "def benchmark_and_store_result(expression: Callable):\n",
    "    start = time.time()\n",
    "    res = expression.__call__()\n",
    "    end = time.time()\n",
    "    return *res, end - start"
   ],
   "metadata": {
    "collapsed": false,
    "pycharm": {
     "name": "#%%\n"
    }
   }
  },
  {
   "cell_type": "code",
   "execution_count": 7,
   "outputs": [],
   "source": [
    "import mlflow\n",
    "\n",
    "def run_experiment(title, datasets, execution_function, sample_size, parameters: [[Parameter]]):\n",
    "    \"\"\"\n",
    "    Wrapper function to run an experiment\n",
    "\n",
    "    :param title: str\n",
    "    :param datasets: dict[Any, Dataset]\n",
    "    :param parameters: [[Parameter]]\n",
    "    :param execution_function: A callable that expects as positional arguments an numpy array of shape (n_samples, n_features), a sample size: int and returns the estimated f_hats, a count of provably optimal values, and the and the model settings as dictionary.\n",
    "    \"\"\"\n",
    "    mlflow.set_experiment(title)\n",
    "    run_number = 0\n",
    "    for parameter_combo in itertools.product(*parameters):\n",
    "        for dataset in datasets.values():\n",
    "            run_number += 1\n",
    "            print(f\"Running experiment number {run_number} for dataset {(dataset.size, dataset.dimension)} with parameters {[(p.name, p.value) for p in parameter_combo]}\")\n",
    "            with mlflow.start_run():\n",
    "\n",
    "                # dataset parameters\n",
    "                mlflow.log_param(\"size\", dataset.size)\n",
    "                mlflow.log_param(\"dimension\", dataset.dimension)\n",
    "                mlflow.log_param(\"density\", dataset.scale)\n",
    "                mlflow.log_param(\"source\", dataset.source)\n",
    "\n",
    "                # option parameters\n",
    "                for parameter in parameter_combo:\n",
    "                    mlflow.log_param(parameter.name, parameter.value)\n",
    "\n",
    "                parameter_dict = {parameter.name : parameter.value for parameter in parameter_combo}\n",
    "\n",
    "                # min_volume is expressed as fraction of scale\n",
    "                if \"min volume\" in parameter_dict:\n",
    "                    parameter_dict[\"min volume\"] *= dataset.scale\n",
    "\n",
    "                # timing results\n",
    "                f_hats, optimal_count, solver_settings, time_passed = benchmark_and_store_result(lambda: execution_function(dataset.data,sample_size, **parameter_dict))\n",
    "                performance = np.mean(f_hats)\n",
    "                mlflow.log_metric(\"time\", time_passed)\n",
    "                mlflow.log_metric(\"optimal count\", optimal_count)\n",
    "                mlflow.log_metric(\"average f_hat\", performance)\n",
    "                print(f\"Results: average f_hat: {performance}, time: {time_passed}\")\n",
    "\n",
    "                for k,v in solver_settings.items():\n",
    "                    mlflow.log_param(k,v)"
   ],
   "metadata": {
    "collapsed": false,
    "pycharm": {
     "name": "#%%\n"
    }
   }
  },
  {
   "cell_type": "code",
   "execution_count": null,
   "outputs": [],
   "source": [
    "run_experiment(title=\"MINLP Tweaking Small after debugging\",\n",
    "               execution_function=run_on_fixed_size_sample,\n",
    "               sample_size=10,\n",
    "               datasets=datasets,\n",
    "               parameters=parameters)"
   ],
   "metadata": {
    "collapsed": false,
    "pycharm": {
     "name": "#%%\n"
    }
   }
  },
  {
   "cell_type": "markdown",
   "source": [
    "# Results for the isolation forest\n",
    "\n",
    "Here, instead of running the exact solver, we use the sampling procedure from the isolation forest, but we use family of scoring functions that are based on the sampled distribution of f_hat."
   ],
   "metadata": {
    "collapsed": false,
    "pycharm": {
     "name": "#%% md\n"
    }
   }
  },
  {
   "cell_type": "code",
   "execution_count": 5,
   "outputs": [],
   "source": [
    "from rare_pattern_detect.if_based import IFBasedRarePatternDetect"
   ],
   "metadata": {
    "collapsed": false,
    "pycharm": {
     "name": "#%%\n"
    }
   }
  },
  {
   "cell_type": "code",
   "execution_count": 9,
   "outputs": [],
   "source": [
    "data = datasets[100,2,1].data\n",
    "\n",
    "if_pac_estimator = IFBasedRarePatternDetect(\n",
    "    n_estimators = 100\n",
    ")\n",
    "if_pac_estimator.fit(data)"
   ],
   "metadata": {
    "collapsed": false,
    "pycharm": {
     "name": "#%%\n"
    }
   }
  },
  {
   "cell_type": "code",
   "execution_count": 92,
   "outputs": [],
   "source": [
    "def run_if_pac_on_dataset(data, sample_size, **kwargs):\n",
    "    if_pac_estimator = IFBasedRarePatternDetect(random_state= 42, n_estimators=kwargs[\"n_estimators\"])\n",
    "    if_pac_estimator.fit(data)\n",
    "    np.random.seed(0)\n",
    "    N = len(data)\n",
    "    assert sample_size <= N, \"size larger than dataset\"\n",
    "    sample_indices = np.random.choice(N, max(1, sample_size))\n",
    "    f_hats = if_pac_estimator.score_samples(\n",
    "        data[sample_indices],\n",
    "        alpha=kwargs[\"alpha\"]\n",
    "    )\n",
    "    # using this method we don't generally know whether the result is optimal.\n",
    "    optimal_count = 0\n",
    "    return f_hats, optimal_count, {} # since the kwargs are already logged, we don't need to do it again.\n",
    "\n",
    "parameters_if = [\n",
    "    [Parameter(\"n_estimators\", v) for v in [100, 1000, 10000]],\n",
    "    [Parameter(\"alpha\", v) for v in [0,0.5, 1,2,np.inf]]\n",
    "]"
   ],
   "metadata": {
    "collapsed": false,
    "pycharm": {
     "name": "#%%\n"
    }
   }
  },
  {
   "cell_type": "code",
   "execution_count": 93,
   "outputs": [
    {
     "name": "stdout",
     "output_type": "stream",
     "text": [
      "Running experiment number 1 for dataset (100, 2) with parameters [('n_estimators', 100), ('alpha', 0)]\n",
      "Results: average f_hat: 62.38405984552797, time: 0.06628608703613281\n",
      "Running experiment number 2 for dataset (100, 3) with parameters [('n_estimators', 100), ('alpha', 0)]\n",
      "Results: average f_hat: 17.59795638677466, time: 0.06410694122314453\n",
      "Running experiment number 3 for dataset (100, 2) with parameters [('n_estimators', 100), ('alpha', 0.5)]\n",
      "Results: average f_hat: 19.773585757823422, time: 0.06266975402832031\n",
      "Running experiment number 4 for dataset (100, 3) with parameters [('n_estimators', 100), ('alpha', 0.5)]\n",
      "Results: average f_hat: 14.727073687946348, time: 0.06962728500366211\n",
      "Running experiment number 5 for dataset (100, 2) with parameters [('n_estimators', 100), ('alpha', 1)]\n",
      "Results: average f_hat: 14.85614620900437, time: 0.06471920013427734\n",
      "Running experiment number 6 for dataset (100, 3) with parameters [('n_estimators', 100), ('alpha', 1)]\n",
      "Results: average f_hat: 12.71690959598323, time: 0.06316924095153809\n",
      "Running experiment number 7 for dataset (100, 2) with parameters [('n_estimators', 100), ('alpha', 2)]\n",
      "Results: average f_hat: 12.090305317032852, time: 0.06300210952758789\n",
      "Running experiment number 8 for dataset (100, 3) with parameters [('n_estimators', 100), ('alpha', 2)]\n",
      "Results: average f_hat: 10.131002505313294, time: 0.06499600410461426\n",
      "Running experiment number 9 for dataset (100, 2) with parameters [('n_estimators', 100), ('alpha', inf)]\n",
      "Results: average f_hat: 3.839083577490501, time: 0.06375312805175781\n",
      "Running experiment number 10 for dataset (100, 3) with parameters [('n_estimators', 100), ('alpha', inf)]\n",
      "Results: average f_hat: 2.6574075399229677, time: 0.06330513954162598\n",
      "Running experiment number 11 for dataset (100, 2) with parameters [('n_estimators', 1000), ('alpha', 0)]\n",
      "Results: average f_hat: 28.08653404124708, time: 0.6895432472229004\n",
      "Running experiment number 12 for dataset (100, 3) with parameters [('n_estimators', 1000), ('alpha', 0)]\n",
      "Results: average f_hat: 19.014587115719277, time: 0.6550657749176025\n",
      "Running experiment number 13 for dataset (100, 2) with parameters [('n_estimators', 1000), ('alpha', 0.5)]\n",
      "Results: average f_hat: 18.627911857600544, time: 0.640582799911499\n",
      "Running experiment number 14 for dataset (100, 3) with parameters [('n_estimators', 1000), ('alpha', 0.5)]\n",
      "Results: average f_hat: 14.969637650777333, time: 0.6082909107208252\n",
      "Running experiment number 15 for dataset (100, 2) with parameters [('n_estimators', 1000), ('alpha', 1)]\n",
      "Results: average f_hat: 15.468443522057617, time: 0.6081521511077881\n",
      "Running experiment number 16 for dataset (100, 3) with parameters [('n_estimators', 1000), ('alpha', 1)]\n",
      "Results: average f_hat: 12.727560055395047, time: 0.6085700988769531\n",
      "Running experiment number 17 for dataset (100, 2) with parameters [('n_estimators', 1000), ('alpha', 2)]\n",
      "Results: average f_hat: 12.415826490653096, time: 0.6279070377349854\n",
      "Running experiment number 18 for dataset (100, 3) with parameters [('n_estimators', 1000), ('alpha', 2)]\n",
      "Results: average f_hat: 10.106061456937468, time: 0.6155920028686523\n",
      "Running experiment number 19 for dataset (100, 2) with parameters [('n_estimators', 1000), ('alpha', inf)]\n",
      "Results: average f_hat: 2.982979191968028, time: 0.6073489189147949\n",
      "Running experiment number 20 for dataset (100, 3) with parameters [('n_estimators', 1000), ('alpha', inf)]\n",
      "Results: average f_hat: 1.914763856532304, time: 0.6092829704284668\n",
      "Running experiment number 21 for dataset (100, 2) with parameters [('n_estimators', 10000), ('alpha', 0)]\n",
      "Results: average f_hat: 31.314363823115713, time: 6.183609962463379\n",
      "Running experiment number 22 for dataset (100, 3) with parameters [('n_estimators', 10000), ('alpha', 0)]\n",
      "Results: average f_hat: 19.3236491380735, time: 6.16793966293335\n",
      "Running experiment number 23 for dataset (100, 2) with parameters [('n_estimators', 10000), ('alpha', 0.5)]\n",
      "Results: average f_hat: 18.790373127943187, time: 6.54240608215332\n",
      "Running experiment number 24 for dataset (100, 3) with parameters [('n_estimators', 10000), ('alpha', 0.5)]\n",
      "Results: average f_hat: 15.223512485137011, time: 6.199305057525635\n",
      "Running experiment number 25 for dataset (100, 2) with parameters [('n_estimators', 10000), ('alpha', 1)]\n",
      "Results: average f_hat: 15.435579186228551, time: 6.145242214202881\n",
      "Running experiment number 26 for dataset (100, 3) with parameters [('n_estimators', 10000), ('alpha', 1)]\n",
      "Results: average f_hat: 12.927069359560502, time: 6.241219997406006\n",
      "Running experiment number 27 for dataset (100, 2) with parameters [('n_estimators', 10000), ('alpha', 2)]\n",
      "Results: average f_hat: 12.397518085081305, time: 6.20720911026001\n",
      "Running experiment number 28 for dataset (100, 3) with parameters [('n_estimators', 10000), ('alpha', 2)]\n",
      "Results: average f_hat: 10.222208811207164, time: 6.218689918518066\n",
      "Running experiment number 29 for dataset (100, 2) with parameters [('n_estimators', 10000), ('alpha', inf)]\n",
      "Results: average f_hat: 2.573527502489357, time: 6.1633100509643555\n",
      "Running experiment number 30 for dataset (100, 3) with parameters [('n_estimators', 10000), ('alpha', inf)]\n",
      "Results: average f_hat: 1.5471908089519537, time: 6.152177810668945\n"
     ]
    }
   ],
   "source": [
    "run_experiment('IF based PACRPAD',\n",
    "               execution_function=run_if_pac_on_dataset,\n",
    "               sample_size=10,\n",
    "               parameters=parameters_if,\n",
    "               datasets=datasets)"
   ],
   "metadata": {
    "collapsed": false,
    "pycharm": {
     "name": "#%%\n"
    }
   }
  },
  {
   "cell_type": "code",
   "execution_count": 11,
   "outputs": [],
   "source": [
    "minlp_runs = mlflow.search_runs(\"271883002980108978\")\n",
    "minlp_runs['model'] = \"minlp\"\n",
    "if_pac_runs = mlflow.search_runs(\"755152897400520712\")\n",
    "if_pac_runs['model'] = 'if_pac'"
   ],
   "metadata": {
    "collapsed": false,
    "pycharm": {
     "name": "#%%\n"
    }
   }
  },
  {
   "cell_type": "code",
   "execution_count": 19,
   "outputs": [],
   "source": [
    "import pandas as pd\n",
    "all_runs = pd.concat([minlp_runs, if_pac_runs])\n",
    "all_runs[\"params.n_estimators\"] = all_runs[\"params.n_estimators\"].fillna(1)"
   ],
   "metadata": {
    "collapsed": false,
    "pycharm": {
     "name": "#%%\n"
    }
   }
  },
  {
   "cell_type": "code",
   "execution_count": 20,
   "outputs": [
    {
     "data": {
      "text/plain": "<AxesSubplot: xlabel='metrics.average f_hat', ylabel='params.dimension'>"
     },
     "execution_count": 20,
     "metadata": {},
     "output_type": "execute_result"
    },
    {
     "data": {
      "text/plain": "<Figure size 640x480 with 1 Axes>",
      "image/png": "[encoded data removed]"
     },
     "metadata": {},
     "output_type": "display_data"
    }
   ],
   "source": [
    "\n",
    "import seaborn as sns\n",
    "\n",
    "df = all_runs[(all_runs['params.dimension'] <= '3') & (all_runs['status'] == 'FINISHED')].groupby(['model', 'params.dimension', 'params.n_estimators'], dropna=False)['metrics.average f_hat'].min()\n",
    "\n",
    "\n",
    "sns.scatterplot(all_runs, x='metrics.average f_hat', y='params.dimension', hue=\"model\", size=\"params.n_estimators\")\n"
   ],
   "metadata": {
    "collapsed": false,
    "pycharm": {
     "name": "#%%\n"
    }
   }
  },
  {
   "cell_type": "markdown",
   "source": [
    "This is weird insofar as as the if_model should never outperform the exact model.\n"
   ],
   "metadata": {
    "collapsed": false,
    "pycharm": {
     "name": "#%% md\n"
    }
   }
  },
  {
   "cell_type": "markdown",
   "source": [
    "## Performance comparison on actual anomaly datasets\n",
    "\n",
    "In this section, we look at the performance of the various Renyi entropies on actual anomaly datasets."
   ],
   "metadata": {
    "collapsed": false,
    "pycharm": {
     "name": "#%% md\n"
    }
   }
  },
  {
   "cell_type": "code",
   "execution_count": 3,
   "outputs": [
    {
     "name": "stdout",
     "output_type": "stream",
     "text": [
      "anomalies_indices:  30\n",
      "normal_indices:  95126\n"
     ]
    }
   ],
   "source": [
    "# Loading the data\n",
    "with np.load('../../ADBench/datasets/Classical/34_smtp.npz') as data:\n",
    "    X = data['X']\n",
    "    y = data['y']\n",
    "\n",
    "anomalies_indices = [i for i, j in enumerate(y) if j == 1]\n",
    "normal_indices = [i for i, j in enumerate(y) if j != 1]\n",
    "\n",
    "print(\"anomalies_indices: \", len(anomalies_indices))\n",
    "print(\"normal_indices: \", len(normal_indices))\n",
    "\n",
    "TRAINING_SIZE = 100\n",
    "TESTING_SIZE = 20\n",
    "TRAINING_ANOMALIES_INDICES = 10\n",
    "\n",
    "np.random.seed(0)\n",
    "sample_indices = np.random.choice(len(X), TESTING_SIZE)\n",
    "#\n",
    "# testing_anomalies_indices = anomalies_indices[-TESTING_SIZE:]\n",
    "#\n",
    "# testing_normal_indices = normal_indices[-TESTING_SIZE:]\n",
    "#\n",
    "# training_normal_indices = normal_indices[:TRAINING_SIZE]\n",
    "#\n",
    "# training_anomalies_indices = anomalies_indices[:TRAINING_ANOMALIES_INDICES]\n",
    "#\n",
    "# testing_indices = np.concatenate((testing_anomalies_indices, testing_normal_indices))\n",
    "#\n",
    "# testing_labels = y[testing_indices]\n",
    "#\n",
    "# y = testing_labels\n",
    "#\n",
    "# training_set = np.array(np.concatenate((X[training_normal_indices],X[training_anomalies_indices])))\n",
    "#\n",
    "# testing_set = np.array(np.concatenate((X[testing_anomalies_indices],X[testing_normal_indices])))"
   ],
   "metadata": {
    "collapsed": false,
    "pycharm": {
     "name": "#%%\n"
    }
   }
  },
  {
   "cell_type": "code",
   "execution_count": 6,
   "outputs": [
    {
     "ename": "NotFittedError",
     "evalue": "This IFBasedRarePatternDetect instance is not fitted yet. Call 'fit' with appropriate arguments before using this estimator.",
     "output_type": "error",
     "traceback": [
      "\u001B[0;31m---------------------------------------------------------------------------\u001B[0m",
      "\u001B[0;31mNotFittedError\u001B[0m                            Traceback (most recent call last)",
      "Cell \u001B[0;32mIn[6], line 10\u001B[0m\n\u001B[1;32m      7\u001B[0m \u001B[38;5;28;01mfor\u001B[39;00m n, color \u001B[38;5;129;01min\u001B[39;00m \u001B[38;5;28mzip\u001B[39m(cycle([\u001B[38;5;241m100\u001B[39m]), colors):\n\u001B[1;32m      9\u001B[0m     if_pac_estimator \u001B[38;5;241m=\u001B[39m IFBasedRarePatternDetect(random_state\u001B[38;5;241m=\u001B[39m\u001B[38;5;241m42\u001B[39m, n_estimators\u001B[38;5;241m=\u001B[39mn)\n\u001B[0;32m---> 10\u001B[0m     if_scores \u001B[38;5;241m=\u001B[39m \u001B[43mif_pac_estimator\u001B[49m\u001B[38;5;241;43m.\u001B[39;49m\u001B[43mget_if_scores\u001B[49m\u001B[43m(\u001B[49m\u001B[43mX\u001B[49m\u001B[43m)\u001B[49m\n\u001B[1;32m     12\u001B[0m     RocCurveDisplay\u001B[38;5;241m.\u001B[39mfrom_predictions(y, if_scores, pos_label\u001B[38;5;241m=\u001B[39m\u001B[38;5;241m0\u001B[39m, color\u001B[38;5;241m=\u001B[39m\u001B[38;5;124m\"\u001B[39m\u001B[38;5;124morange\u001B[39m\u001B[38;5;124m\"\u001B[39m, ax\u001B[38;5;241m=\u001B[39max, name\u001B[38;5;241m=\u001B[39m\u001B[38;5;124m\"\u001B[39m\u001B[38;5;124mIF\u001B[39m\u001B[38;5;124m\"\u001B[39m)\n\u001B[1;32m     14\u001B[0m     \u001B[38;5;28;01mfor\u001B[39;00m alpha \u001B[38;5;129;01min\u001B[39;00m [\u001B[38;5;241m0\u001B[39m,\u001B[38;5;241m0.5\u001B[39m,\u001B[38;5;241m1\u001B[39m,\u001B[38;5;241m2\u001B[39m, np\u001B[38;5;241m.\u001B[39minf]:\n",
      "File \u001B[0;32m~/DataspellProjects/pac-learning/rare_pattern_detect/if_based.py:77\u001B[0m, in \u001B[0;36mIFBasedRarePatternDetect.get_if_scores\u001B[0;34m(self, X)\u001B[0m\n\u001B[1;32m     75\u001B[0m \u001B[38;5;28;01mdef\u001B[39;00m \u001B[38;5;21mget_if_scores\u001B[39m(\u001B[38;5;28mself\u001B[39m, X):\n\u001B[1;32m     76\u001B[0m     \u001B[38;5;66;03m# creating an alias to the original function for conceptual clarity\u001B[39;00m\n\u001B[0;32m---> 77\u001B[0m     \u001B[38;5;28;01mreturn\u001B[39;00m \u001B[38;5;28;43mself\u001B[39;49m\u001B[38;5;241;43m.\u001B[39;49m\u001B[43mscore_samples\u001B[49m\u001B[43m(\u001B[49m\u001B[43mX\u001B[49m\u001B[43m)\u001B[49m\n",
      "File \u001B[0;32m~/miniforge3/envs/pac_learning/lib/python3.8/site-packages/sklearn/ensemble/_iforest.py:422\u001B[0m, in \u001B[0;36mIsolationForest.score_samples\u001B[0;34m(self, X)\u001B[0m\n\u001B[1;32m    397\u001B[0m \u001B[38;5;250m\u001B[39m\u001B[38;5;124;03m\"\"\"\u001B[39;00m\n\u001B[1;32m    398\u001B[0m \u001B[38;5;124;03mOpposite of the anomaly score defined in the original paper.\u001B[39;00m\n\u001B[1;32m    399\u001B[0m \n\u001B[0;32m   (...)\u001B[0m\n\u001B[1;32m    418\u001B[0m \u001B[38;5;124;03m    The lower, the more abnormal.\u001B[39;00m\n\u001B[1;32m    419\u001B[0m \u001B[38;5;124;03m\"\"\"\u001B[39;00m\n\u001B[1;32m    420\u001B[0m \u001B[38;5;66;03m# code structure from ForestClassifier/predict_proba\u001B[39;00m\n\u001B[0;32m--> 422\u001B[0m \u001B[43mcheck_is_fitted\u001B[49m\u001B[43m(\u001B[49m\u001B[38;5;28;43mself\u001B[39;49m\u001B[43m)\u001B[49m\n\u001B[1;32m    424\u001B[0m \u001B[38;5;66;03m# Check data\u001B[39;00m\n\u001B[1;32m    425\u001B[0m X \u001B[38;5;241m=\u001B[39m \u001B[38;5;28mself\u001B[39m\u001B[38;5;241m.\u001B[39m_validate_data(X, accept_sparse\u001B[38;5;241m=\u001B[39m\u001B[38;5;124m\"\u001B[39m\u001B[38;5;124mcsr\u001B[39m\u001B[38;5;124m\"\u001B[39m, reset\u001B[38;5;241m=\u001B[39m\u001B[38;5;28;01mFalse\u001B[39;00m)\n",
      "File \u001B[0;32m~/miniforge3/envs/pac_learning/lib/python3.8/site-packages/sklearn/utils/validation.py:1380\u001B[0m, in \u001B[0;36mcheck_is_fitted\u001B[0;34m(estimator, attributes, msg, all_or_any)\u001B[0m\n\u001B[1;32m   1375\u001B[0m     fitted \u001B[38;5;241m=\u001B[39m [\n\u001B[1;32m   1376\u001B[0m         v \u001B[38;5;28;01mfor\u001B[39;00m v \u001B[38;5;129;01min\u001B[39;00m \u001B[38;5;28mvars\u001B[39m(estimator) \u001B[38;5;28;01mif\u001B[39;00m v\u001B[38;5;241m.\u001B[39mendswith(\u001B[38;5;124m\"\u001B[39m\u001B[38;5;124m_\u001B[39m\u001B[38;5;124m\"\u001B[39m) \u001B[38;5;129;01mand\u001B[39;00m \u001B[38;5;129;01mnot\u001B[39;00m v\u001B[38;5;241m.\u001B[39mstartswith(\u001B[38;5;124m\"\u001B[39m\u001B[38;5;124m__\u001B[39m\u001B[38;5;124m\"\u001B[39m)\n\u001B[1;32m   1377\u001B[0m     ]\n\u001B[1;32m   1379\u001B[0m \u001B[38;5;28;01mif\u001B[39;00m \u001B[38;5;129;01mnot\u001B[39;00m fitted:\n\u001B[0;32m-> 1380\u001B[0m     \u001B[38;5;28;01mraise\u001B[39;00m NotFittedError(msg \u001B[38;5;241m%\u001B[39m {\u001B[38;5;124m\"\u001B[39m\u001B[38;5;124mname\u001B[39m\u001B[38;5;124m\"\u001B[39m: \u001B[38;5;28mtype\u001B[39m(estimator)\u001B[38;5;241m.\u001B[39m\u001B[38;5;18m__name__\u001B[39m})\n",
      "\u001B[0;31mNotFittedError\u001B[0m: This IFBasedRarePatternDetect instance is not fitted yet. Call 'fit' with appropriate arguments before using this estimator."
     ]
    },
    {
     "data": {
      "text/plain": "<Figure size 600x600 with 1 Axes>",
      "image/png": "[encoded data removed]"
     },
     "metadata": {},
     "output_type": "display_data"
    }
   ],
   "source": [
    "from itertools import cycle\n",
    "from sklearn.metrics import RocCurveDisplay\n",
    "import matplotlib.pyplot as plt\n",
    "\n",
    "fig, ax = plt.subplots(figsize=(6, 6))\n",
    "colors = cycle([\"aqua\", \"darkorange\", \"cornflowerblue\"])\n",
    "for n, color in zip(cycle([100]), colors):\n",
    "\n",
    "    if_pac_estimator = IFBasedRarePatternDetect(random_state=42, n_estimators=n)\n",
    "    if_pac_estimator.fit(X)\n",
    "    if_scores = if_pac_estimator.get_if_scores(X)\n",
    "\n",
    "    RocCurveDisplay.from_predictions(y, if_scores, pos_label=0, color=\"orange\", ax=ax, name=\"IF\")\n",
    "\n",
    "    for alpha in [0,0.5,1,2, np.inf]:\n",
    "\n",
    "        if_pac_scores = if_pac_estimator.pac_score_samples(X, alpha)\n",
    "        RocCurveDisplay.from_predictions(y, if_pac_scores, pos_label=0, color=color, ax=ax, name=f\"IF_PAC-{alpha}\")"
   ],
   "metadata": {
    "collapsed": false,
    "pycharm": {
     "name": "#%%\n"
    }
   }
  },
  {
   "cell_type": "code",
   "execution_count": 98,
   "outputs": [],
   "source": [
    "if_pac_estimator = IFBasedRarePatternDetect(random_state=42, n_estimators=100)\n",
    "if_pac_estimator.fit(X)"
   ],
   "metadata": {
    "collapsed": false,
    "pycharm": {
     "name": "#%%\n"
    }
   }
  },
  {
   "cell_type": "code",
   "execution_count": null,
   "outputs": [],
   "source": [
    "if_pac_scores = if_pac_estimator.score_samples(X, 0)"
   ],
   "metadata": {
    "collapsed": false,
    "pycharm": {
     "name": "#%%\n"
    }
   }
  },
  {
   "cell_type": "code",
   "execution_count": 105,
   "outputs": [
    {
     "data": {
      "text/plain": "<sklearn.metrics._plot.roc_curve.RocCurveDisplay at 0x142b882b0>"
     },
     "execution_count": 105,
     "metadata": {},
     "output_type": "execute_result"
    },
    {
     "data": {
      "text/plain": "<Figure size 640x480 with 1 Axes>",
      "image/png": "[encoded data removed]"
     },
     "metadata": {},
     "output_type": "display_data"
    }
   ],
   "source": [
    "RocCurveDisplay.from_predictions(y, if_pac_scores, pos_label=0, color=\"orange\", name=f\"IF_PAC-{0.5}\")"
   ],
   "metadata": {
    "collapsed": false,
    "pycharm": {
     "name": "#%%\n"
    }
   }
  },
  {
   "cell_type": "code",
   "execution_count": 103,
   "outputs": [],
   "source": [
    "%matplotlib inline"
   ],
   "metadata": {
    "collapsed": false,
    "pycharm": {
     "name": "#%%\n"
    }
   }
  },
  {
   "cell_type": "code",
   "execution_count": null,
   "outputs": [],
   "source": [],
   "metadata": {
    "collapsed": false,
    "pycharm": {
     "name": "#%%\n"
    }
   }
  }
 ],
 "metadata": {
  "kernelspec": {
   "display_name": "Python 3",
   "language": "python",
   "name": "python3"
  },
  "language_info": {
   "codemirror_mode": {
    "name": "ipython",
    "version": 2
   },
   "file_extension": ".py",
   "mimetype": "text/x-python",
   "name": "python",
   "nbconvert_exporter": "python",
   "pygments_lexer": "ipython2",
   "version": "2.7.6"
  }
 },
 "nbformat": 4,
 "nbformat_minor": 0
}