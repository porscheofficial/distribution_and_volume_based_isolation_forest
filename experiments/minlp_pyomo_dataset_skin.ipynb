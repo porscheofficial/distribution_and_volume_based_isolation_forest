{
 "cells": [
  {
   "cell_type": "code",
   "execution_count": 2,
   "source": [
    "import pyomo.environ as pyo\n",
    "import pyomo.gdp as gdp\n",
    "import numpy as np\n",
    "import pandas as pd\n",
    "import math \n",
    "import os, sys\n",
    "from scipy.stats import multivariate_normal\n",
    "\n",
    "from matplotlib import pyplot as plt\n",
    "import matplotlib.patches as patches\n",
    "%matplotlib inline\n",
    "plt.rcParams[\"figure.figsize\"] = (15,7)\n",
    "from enum import Enum\n",
    "\n",
    "CURRENT_DIR = os.path.dirname(os.path.abspath(\"rare_pattern_detect\"))\n",
    "sys.path.append(os.path.dirname(CURRENT_DIR))\n",
    "\n",
    "from rare_pattern_detect.patterns import PatternSpace, PatternSpaceType, MIN_AREA\n",
    "from rare_pattern_detect.minlp_based import minlp_has_rare_pattern\n",
    "from rare_pattern_detect.rare_pattern_detect import RarePatternDetect\n",
    "from rare_pattern_detect.pattern_space_utils import draw_largest_bounding_area, draw2dpattern"
   ],
   "outputs": [],
   "metadata": {
    "collapsed": false,
    "pycharm": {
     "name": "#%%\n"
    }
   }
  },
  {
   "cell_type": "markdown",
   "source": [],
   "metadata": {
    "collapsed": false,
    "pycharm": {
     "name": "#%% md\n"
    }
   }
  },
  {
   "cell_type": "code",
   "execution_count": 3,
   "source": [
    "# # # cmap = plt.get_cmap('viridis')\n",
    "\n",
    "# # # training_set =  np.array(\n",
    "# # #     [[0.0, 0.0], [2.0, 0.0], [0.0, 2.0], [2.0, 2.0]]\n",
    "# # # )\n",
    "# # training_set = multivariate_normal.rvs(size=(100,2))\n",
    "# # point_to_be_classified = np.array([[0.25,0.25]])\n",
    "# # testing_set = multivariate_normal.rvs(size=(10,2))\n",
    "\n",
    "# with np.load('../ADBench-main/datasets/Classical/33_skin.npz') as data:\n",
    "#     X = data['X']\n",
    "#     y = data['y']\n",
    "#     idx = np.random.permutation(len(X))\n",
    "#     X,y = X[idx], y[idx]\n",
    "\n",
    "# # #  number of points is 1831\n",
    "# # print(\"number of datapoints is: \",len(y))\n",
    "\n",
    "# # # number of feature per data point is 21\n",
    "# # print(\"number of feature per data point is: \", len(X[0]))\n",
    "\n",
    "\n",
    "# TRAINING_LIMIT = 100\n",
    "# FEATURES = 2\n",
    "\n",
    "# X = X[:TRAINING_LIMIT,:FEATURES]\n",
    "# y = y[:TRAINING_LIMIT]\n",
    "\n",
    "# training_set = X[:TRAINING_LIMIT]\n",
    "# training_labels = y[:TRAINING_LIMIT]"
   ],
   "outputs": [],
   "metadata": {
    "collapsed": false,
    "pycharm": {
     "name": "#%%\n"
    }
   }
  },
  {
   "cell_type": "code",
   "execution_count": 4,
   "source": [
    "# points_outside_of_largest_bounding_area = 0\n",
    "# indeces = []\n",
    "# predictions = []\n",
    "\n",
    "# mu, epsilon, delta = 0.1, 0.1, 0.1\n",
    "# N, d = training_set.shape\n",
    "# v = 2 * d \n",
    "# min_area = 63.0 # MIN_AREA \n",
    "# print(\"min_area: \", min_area)\n",
    "# print(f\"N={N} , d={d}, vc={v}\")\n",
    "\n",
    "# lba = np.zeros((d,2), dtype=float)\n",
    "# for i in np.arange(0,d,1):\n",
    "#     lba[i] = np.array(\n",
    "#         [\n",
    "#             np.min(training_set[:, i]) - 1e-2, \n",
    "#             np.max(training_set[:, i]) + 1e-2\n",
    "#         ]\n",
    "#     )\n",
    "\n",
    "# for i, point_to_be_classified in enumerate(training_set): # testing_set\n",
    "#     print(f\"------- itr: {i} -------\")\n",
    "    \n",
    "#     minlp_model, classification_result = minlp_has_rare_pattern(\n",
    "#         point_to_be_classified,\n",
    "#         training_set,\n",
    "#         PatternSpace(\n",
    "#             type = PatternSpaceType.AXIS_ALIGNED_HYPER_RECTANGLES, \n",
    "#             cutoff = min_area if min_area != None else 0.1\n",
    "#         ),\n",
    "#         mu,\n",
    "#         debugging_minlp_model=True,\n",
    "#     )\n",
    "    \n",
    "#     print(\"Classification result: \",classification_result)\n",
    "#     predictions.append(classification_result)\n",
    "    \n",
    "#     ax = plt.gca()\n",
    "#     if minlp_model is not None:\n",
    "#         result = (\n",
    "#             mu,\n",
    "#             classification_result,\n",
    "#             minlp_model\n",
    "#         )\n",
    "#         included_points = minlp_model.extract_points_included_in_pattern()\n",
    "#         calculated_pattern = minlp_model.extract_pattern()\n",
    "#         area_calculated_pattern = np.prod(np.apply_along_axis(lambda i: i[1] - i[0], axis=1, arr=calculated_pattern))\n",
    "#         print(\"area_calculated_pattern: \", area_calculated_pattern)\n",
    "#         # assert area_calculated_pattern is not None, \"area of minimized pattern is None\"\n",
    "#         # assert area_calculated_pattern >= 0, \"area of minimized pattern is negative\"\n",
    "#         largest_bounding_area = minlp_model.largest_bounding_area\n",
    "#         [plt.scatter(\n",
    "#             x=p[0], \n",
    "#             y=p[1], \n",
    "#             marker=\"o\", \n",
    "#             s=200, \n",
    "#             label=f\"included point: {np.argwhere(training_set == p)[0,0]}\") for _, p in enumerate(included_points)\n",
    "#         ]\n",
    "#         plt.legend([f\"area of calculated pattern: {area_calculated_pattern}\"])\n",
    "#         draw_largest_bounding_area(largest_bounding_area, ax)\n",
    "#         draw2dpattern(calculated_pattern, ax, classification_result, minlp_model.minimized_f_hats, len(training_set))\n",
    "#         plt.legend(bbox_to_anchor=(1.1, 1.1))\n",
    "#     else:\n",
    "#         print(f\"---> !! minlp model is none and classification results: {classification_result} !! \")\n",
    "#         draw_largest_bounding_area(lba, ax)\n",
    "#         ax.legend()\n",
    "#         points_outside_of_largest_bounding_area += 1 \n",
    "#         indeces.append(i)\n",
    "\n",
    "#     plt.scatter(x=training_set[:,0], y=training_set[:,1])\n",
    "#     plt.scatter(\n",
    "#         x=point_to_be_classified[0], \n",
    "#         y=point_to_be_classified[1], \n",
    "#         marker=\"x\",  \n",
    "#         s=200, \n",
    "#         label=\"target\") \n",
    "#     plt.legend()\n",
    "#     plt.show()\n",
    "\n",
    "# print(\"-- END __\")\n",
    "# print(\"Points that lie outside of the largest bounding area defined by the training set: \",points_outside_of_largest_bounding_area) \n",
    "# print(\"indices of the points: \", indeces)"
   ],
   "outputs": [],
   "metadata": {
    "collapsed": false,
    "pycharm": {
     "name": "#%%\n",
     "is_executing": true
    }
   }
  },
  {
   "cell_type": "markdown",
   "source": [
    "# Experiment: Prediction using Isolation Forest and comparison with the minlp solver"
   ],
   "metadata": {
    "pycharm": {
     "name": "#%% md\n"
    }
   }
  },
  {
   "cell_type": "code",
   "execution_count": 5,
   "source": [
    "# from sklearn.ensemble import IsolationForest\n",
    "\n",
    "# clf = IsolationForest(random_state=0).fit(X)\n",
    "# r = clf.predict(X) # -1 anomalie\n",
    "# r = np.where(r==1, r, False).astype(bool)\n",
    "# # print(\"r: \",r)\n",
    "\n",
    "# count_similar_predictions = np.count_nonzero(r == predictions)\n",
    "# percentage_similar_predictions = count_similar_predictions/len(X)\n",
    "\n",
    "# len(X), count_similar_predictions,  percentage_similar_predictions\n"
   ],
   "outputs": [],
   "metadata": {
    "pycharm": {
     "name": "#%%\n",
     "is_executing": true
    }
   }
  },
  {
   "cell_type": "markdown",
   "source": [
    "# Testing the solver on more than two features"
   ],
   "metadata": {
    "pycharm": {
     "name": "#%% md\n"
    }
   }
  },
  {
   "cell_type": "code",
   "execution_count": 6,
   "source": [
    "# with np.load('../ADbench-main/datasets/Classical/6_cardio.npz') as data:\n",
    "#     X = data['X']\n",
    "#     y = data['y']\n",
    "\n",
    "# TRAINING_LIMIT = 200\n",
    "# TESTING_LIMIT = 10\n",
    "# FEATURES = 2\n",
    "\n",
    "# X = X[:,:FEATURES]\n",
    "\n",
    "# training_set = X[:TRAINING_LIMIT]\n",
    "# training_labels = y[:TRAINING_LIMIT]\n",
    "\n",
    "# # slicing\n",
    "# testing_set = X[TRAINING_LIMIT:-1:300]\n",
    "# testing_labels = y[TRAINING_LIMIT:-1:300]\n",
    "\n",
    "# rpd = RarePatternDetect(\n",
    "#     delta=0.1,\n",
    "#     tau=0.1,\n",
    "#     epsilon=0.1,\n",
    "#     pattern_space = PatternSpace(\n",
    "#         PatternSpaceType.AXIS_ALIGNED_HYPER_RECTANGLES, \n",
    "#         cutoff = 0.1\n",
    "#     )\n",
    "# )\n",
    "\n",
    "# # print(\"testing_set: \", testing_set)\n",
    "# rpd.fit(training_set)\n",
    "\n",
    "# preds = [rpd.predict_score(point_to_be_classified) for _, point_to_be_classified in enumerate(testing_set)]\n",
    "\n",
    "# print(\"--- RESULTS ---\")\n",
    "# print(\"predictions: \", preds)"
   ],
   "outputs": [],
   "metadata": {
    "pycharm": {
     "name": "#%%\n",
     "is_executing": true
    }
   }
  },
  {
   "cell_type": "markdown",
   "source": [
    "# Evaluating the performance (AUROC) on 300 points with 3 features"
   ],
   "metadata": {}
  },
  {
   "cell_type": "code",
   "execution_count": 7,
   "source": [
    "# # Loading the data\n",
    "with np.load('../ADBench-main/datasets/Classical/33_skin.npz') as data:\n",
    "    X = data['X']\n",
    "    y = data['y']\n",
    "    idx = np.random.permutation(len(X))\n",
    "    X,y = X[idx], y[idx]\n",
    "\n",
    "TRAINING_LIMIT = 100 # 0\n",
    "FEATURES = 3\n",
    "X = X[:TRAINING_LIMIT,:FEATURES]\n",
    "y = y[:TRAINING_LIMIT]"
   ],
   "outputs": [],
   "metadata": {}
  },
  {
   "cell_type": "code",
   "execution_count": 8,
   "source": [
    "# for 0 points 95.0 # 46.28 # 63.0917 # 30.0914 for 300 points # 63.0917 for 100 points # 48.8 for 200 points\n",
    "min_area = 63.0917 # 34.23 # for 500 points \n",
    "epsilon = 0.001\n",
    "\n",
    "# Creating a range of min areas\n",
    "# min_areas = np.linspace(start=0.1,stop=40.0,num=4)\n",
    "\n",
    "predictions_list = []\n",
    "print(f\"num datapoints: {len(y)}\")\n",
    "\n",
    "# for i, ma in enumerate(min_areas):\n",
    "    # print(f\"––– ––– ––– new round: i={i}, min_area:{ma}  ––– ––– –––\")\n",
    "\n",
    "rpd = RarePatternDetect(\n",
    "    delta=0.1,\n",
    "    tau=0.001,\n",
    "    epsilon=epsilon,\n",
    "    pattern_space = PatternSpace(\n",
    "        PatternSpaceType.AXIS_ALIGNED_HYPER_RECTANGLES, \n",
    "        cutoff = min_area\n",
    "    )\n",
    ")\n",
    "rpd.fit(X)\n",
    "preds = []\n",
    "f_hats = []\n",
    "for i, point_to_be_classified in enumerate(X):\n",
    "    if i % 10 == 0: \n",
    "        print(f\"----- {i} data points processed -----\")\n",
    "    model, prediction = rpd.predict_score(point_to_be_classified)\n",
    "    preds.append(prediction)\n",
    "    f_hats.append(model.minimized_f_hats[i])\n",
    "    #print(\"f_hats: \", f_hats)\n",
    "\n"
   ],
   "outputs": [
    {
     "output_type": "stream",
     "name": "stdout",
     "text": [
      "num datapoints: 100\n",
      "cutoff (min_area):  63.0917\n",
      "----- 0 data points processed -----\n",
      "WARNING: DEPRECATED: The 'ignore_integrality' argument no longer has any\n",
      "    functionality.  (deprecated in 6.4.2) (called from\n",
      "    /Users/p392827/Desktop/PDG/porsche-research/pac-learning/pac-\n",
      "    venv/lib/python3.9/site-\n",
      "    packages/pyomo/contrib/mindtpy/initialization.py:154)\n",
      "----- 10 data points processed -----\n",
      "----- 20 data points processed -----\n",
      "----- 30 data points processed -----\n",
      "----- 40 data points processed -----\n",
      "----- 50 data points processed -----\n",
      "----- 60 data points processed -----\n",
      "----- 70 data points processed -----\n",
      "----- 80 data points processed -----\n",
      "----- 90 data points processed -----\n"
     ]
    }
   ],
   "metadata": {}
  },
  {
   "cell_type": "code",
   "execution_count": 9,
   "source": [
    "f_hats"
   ],
   "outputs": [
    {
     "output_type": "execute_result",
     "data": {
      "text/plain": [
       "[0.08219137614848972,\n",
       " 0.07968477557041825,\n",
       " 0.08022576349226884,\n",
       " 0.08797347618233223,\n",
       " 0.08210822125095388,\n",
       " 0.09130334921990943,\n",
       " 0.08124987453120397,\n",
       " 0.0925923099785959,\n",
       " 0.08886900438621936,\n",
       " 0.10101753096282806,\n",
       " 0.09050529132286043,\n",
       " 0.1580673753824693,\n",
       " 0.1410796344340759,\n",
       " 0.11244436561984628,\n",
       " 0.08307472449893875,\n",
       " 0.0826396247770034,\n",
       " 0.07259112562416084,\n",
       " 0.08244101455556467,\n",
       " 0.13715955778953776,\n",
       " 0.16855749816450238,\n",
       " 0.07997937185288313,\n",
       " 0.080112954245734,\n",
       " 0.08249981651961037,\n",
       " 0.0960184062189019,\n",
       " 0.08600785798574719,\n",
       " 0.11206133521340456,\n",
       " 0.06319237652516324,\n",
       " 0.13128203536784955,\n",
       " 0.10687835236927132,\n",
       " 0.06706173002557518,\n",
       " 0.07755460677232201,\n",
       " 0.08343899592402139,\n",
       " 0.0,\n",
       " 0.07806924648122275,\n",
       " 0.08192631941561274,\n",
       " 0.1682452396590265,\n",
       " 0.08000075515207344,\n",
       " 0.08437489869451972,\n",
       " 0.07838605129379306,\n",
       " 0.09035451331583848,\n",
       " 0.0,\n",
       " 0.11268220418651052,\n",
       " 0.14168448132117945,\n",
       " 0.09766424826733708,\n",
       " 0.08317561123197166,\n",
       " 0.09735365407963051,\n",
       " 0.08004558449170868,\n",
       " 0.08070180030997949,\n",
       " 0.17717575372326136,\n",
       " 0.07842776564958728,\n",
       " 0.08124987412672247,\n",
       " 0.17922710999803607,\n",
       " 0.08465424767535182,\n",
       " 0.07773935071630572,\n",
       " 0.07955051537357621,\n",
       " 0.0777205895925254,\n",
       " 0.07955009076650851,\n",
       " 0.0,\n",
       " 0.10701897157564808,\n",
       " 0.18428416409604692,\n",
       " 0.10658918410183285,\n",
       " 0.10525091587993841,\n",
       " 0.0992644434361098,\n",
       " 0.07694285580990577,\n",
       " 0.08519479311748673,\n",
       " 0.17044227918979601,\n",
       " 0.10478338103462552,\n",
       " 0.08977597922521455,\n",
       " 0.08307890580508993,\n",
       " 0.09688879782088648,\n",
       " 0.07305903932224374,\n",
       " 0.08600785809008908,\n",
       " 0.10302952141837213,\n",
       " 0.0765607390374486,\n",
       " 0.07751143273274619,\n",
       " 0.07150777529521485,\n",
       " 0.07870168306938748,\n",
       " 0.07854597800805982,\n",
       " 0.08011295424572443,\n",
       " 0.1841859863594477,\n",
       " 0.08489981784763741,\n",
       " 0.07911910991833332,\n",
       " 0.0773107876495327,\n",
       " 0.08789130650651289,\n",
       " 0.08568764361126031,\n",
       " 0.07276560676662357,\n",
       " 0.08207151227841915,\n",
       " 0.0951885077730727,\n",
       " 0.06490016355963991,\n",
       " 0.08504810512333952,\n",
       " 0.08045354843310808,\n",
       " 0.07657860961562167,\n",
       " 0.11055910966596781,\n",
       " 0.07575075010454319,\n",
       " 0.10258144791643554,\n",
       " 0.15020752779993748,\n",
       " 0.13181141804770252,\n",
       " 0.11967170393586428,\n",
       " 0.08727009481365751,\n",
       " 0.15514029201041551]"
      ]
     },
     "metadata": {},
     "execution_count": 9
    }
   ],
   "metadata": {}
  },
  {
   "cell_type": "code",
   "execution_count": 12,
   "source": [
    "# creating a range of taus\n",
    "taus = [0.00001, 0.0001, 0.001, 0.01 , 0.1, 0.2, 0.3, 0.5, 1.0] # np.linspace(start=0.1,stop=1.0,num=5)\n",
    "\n",
    "for i, tau in enumerate(taus):\n",
    "    print(f\"––– ––– ––– new round: i={i}, tau:{tau}  ––– ––– –––\")\n",
    "    \n",
    "    predictions = np.asarray(f_hats) < (tau + (epsilon/2))\n",
    "    predictions_list.append([tau + (epsilon/2), min_area, predictions])\n",
    "\n",
    "    preds = np.where(predictions==1, predictions, False).astype(bool)\n",
    "    count_similar_predictions = np.count_nonzero(y == preds)\n",
    "    per_similar_predictions = count_similar_predictions/len(y)\n",
    "    print(f\" correct results: {count_similar_predictions},  percentage: {per_similar_predictions}\")"
   ],
   "outputs": [
    {
     "output_type": "stream",
     "name": "stdout",
     "text": [
      "––– ––– ––– new round: i=0, tau:1e-05  ––– ––– –––\n",
      " correct results: 70,  percentage: 0.7\n",
      "––– ––– ––– new round: i=1, tau:0.0001  ––– ––– –––\n",
      " correct results: 70,  percentage: 0.7\n",
      "––– ––– ––– new round: i=2, tau:0.001  ––– ––– –––\n",
      " correct results: 70,  percentage: 0.7\n",
      "––– ––– ––– new round: i=3, tau:0.01  ––– ––– –––\n",
      " correct results: 70,  percentage: 0.7\n",
      "––– ––– ––– new round: i=4, tau:0.1  ––– ––– –––\n",
      " correct results: 31,  percentage: 0.31\n",
      "––– ––– ––– new round: i=5, tau:0.2  ––– ––– –––\n",
      " correct results: 27,  percentage: 0.27\n",
      "––– ––– ––– new round: i=6, tau:0.3  ––– ––– –––\n",
      " correct results: 27,  percentage: 0.27\n",
      "––– ––– ––– new round: i=7, tau:0.5  ––– ––– –––\n",
      " correct results: 27,  percentage: 0.27\n",
      "––– ––– ––– new round: i=8, tau:1.0  ––– ––– –––\n",
      " correct results: 27,  percentage: 0.27\n"
     ]
    }
   ],
   "metadata": {}
  },
  {
   "cell_type": "code",
   "execution_count": 13,
   "source": [
    "from sklearn import metrics\n",
    "#print(predictions_list)\n",
    "for i, (tau,_,p) in enumerate(predictions_list):\n",
    "    #print(\"p:\", i, p)\n",
    "    auc = metrics.roc_auc_score(y, p)\n",
    "\n",
    "    # Recall that a model with an AUC score of 0.5 is no better than a model that performs random guessing.\n",
    "    print(\"auroc: \",auc)\n",
    "\n",
    "    fpr, tpr, _ = metrics.roc_curve(y, p)\n",
    "    \n",
    "    #create ROC curve\n",
    "    plt.plot(fpr,tpr, label=f\"mu: {np.round(tau+(epsilon/2), 3)}, auroc: {np.round(auc,3)}\")\n",
    "    plt.legend(loc=\"upper left\")\n",
    "    #print(fpr,tpr)\n",
    "\n",
    "plt.ylabel('True Positive Rate')\n",
    "plt.xlabel('False Positive Rate')\n",
    "plt.show()"
   ],
   "outputs": [
    {
     "output_type": "stream",
     "name": "stdout",
     "text": [
      "auroc:  0.4794520547945206\n",
      "auroc:  0.4794520547945206\n",
      "auroc:  0.49238964992389656\n",
      "auroc:  0.49238964992389656\n",
      "auroc:  0.5\n",
      "auroc:  0.5\n",
      "auroc:  0.5\n",
      "auroc:  0.4794520547945206\n",
      "auroc:  0.4794520547945206\n",
      "auroc:  0.4794520547945206\n",
      "auroc:  0.4794520547945206\n",
      "auroc:  0.49238964992389656\n",
      "auroc:  0.5\n",
      "auroc:  0.5\n",
      "auroc:  0.5\n",
      "auroc:  0.5\n"
     ]
    },
    {
     "output_type": "display_data",
     "data": {
      "text/plain": [
       "<Figure size 1080x504 with 1 Axes>"
      ],
      "image/png": "[encoded data removed]"
     },
     "metadata": {
      "needs_background": "light"
     }
    }
   ],
   "metadata": {}
  },
  {
   "cell_type": "code",
   "execution_count": 50,
   "source": [
    "# import sympy\n",
    "# #from sympy import *\n",
    "# from sympy.abc import x\n",
    "# from sympy import solve_rational_inequalities, Poly, Symbol\n",
    "\n",
    "# #x = Symbol('x', real=True)\n",
    "\n",
    "# N = 100\n",
    "# v = 2*3\n",
    "# delta = 0.1\n",
    "# epsilon = 0.1\n",
    "\n",
    "\n",
    "# solve_rational_inequalities(\n",
    "#     [[\n",
    "#         (Poly(x**2), Poly((1/N) * (256/(epsilon**2)) * ( v * sympy.log((256/(epsilon**2)) * (1/(x**2))) + sympy.log(8/delta))), '>=')\n",
    "#     ]]\n",
    "# )\n",
    "\n"
   ],
   "outputs": [
    {
     "output_type": "error",
     "ename": "ValueError",
     "evalue": "too many values to unpack (expected 2)",
     "traceback": [
      "\u001b[0;31m---------------------------------------------------------------------------\u001b[0m",
      "\u001b[0;31mValueError\u001b[0m                                Traceback (most recent call last)",
      "Input \u001b[0;32mIn [50]\u001b[0m, in \u001b[0;36m<cell line: 14>\u001b[0;34m()\u001b[0m\n\u001b[1;32m     10\u001b[0m delta \u001b[38;5;241m=\u001b[39m \u001b[38;5;241m0.1\u001b[39m\n\u001b[1;32m     11\u001b[0m epsilon \u001b[38;5;241m=\u001b[39m \u001b[38;5;241m0.1\u001b[39m\n\u001b[0;32m---> 14\u001b[0m \u001b[43msolve_rational_inequalities\u001b[49m\u001b[43m(\u001b[49m\n\u001b[1;32m     15\u001b[0m \u001b[43m    \u001b[49m\u001b[43m[\u001b[49m\u001b[43m[\u001b[49m\n\u001b[1;32m     16\u001b[0m \u001b[43m        \u001b[49m\u001b[43m(\u001b[49m\u001b[43mPoly\u001b[49m\u001b[43m(\u001b[49m\u001b[43mx\u001b[49m\u001b[38;5;241;43m*\u001b[39;49m\u001b[38;5;241;43m*\u001b[39;49m\u001b[38;5;241;43m2\u001b[39;49m\u001b[43m)\u001b[49m\u001b[43m,\u001b[49m\u001b[43m \u001b[49m\u001b[43mPoly\u001b[49m\u001b[43m(\u001b[49m\u001b[43m(\u001b[49m\u001b[38;5;241;43m1\u001b[39;49m\u001b[38;5;241;43m/\u001b[39;49m\u001b[43mN\u001b[49m\u001b[43m)\u001b[49m\u001b[43m \u001b[49m\u001b[38;5;241;43m*\u001b[39;49m\u001b[43m \u001b[49m\u001b[43m(\u001b[49m\u001b[38;5;241;43m256\u001b[39;49m\u001b[38;5;241;43m/\u001b[39;49m\u001b[43m(\u001b[49m\u001b[43mepsilon\u001b[49m\u001b[38;5;241;43m*\u001b[39;49m\u001b[38;5;241;43m*\u001b[39;49m\u001b[38;5;241;43m2\u001b[39;49m\u001b[43m)\u001b[49m\u001b[43m)\u001b[49m\u001b[43m \u001b[49m\u001b[38;5;241;43m*\u001b[39;49m\u001b[43m \u001b[49m\u001b[43m(\u001b[49m\u001b[43m \u001b[49m\u001b[43mv\u001b[49m\u001b[43m \u001b[49m\u001b[38;5;241;43m*\u001b[39;49m\u001b[43m \u001b[49m\u001b[43msympy\u001b[49m\u001b[38;5;241;43m.\u001b[39;49m\u001b[43mlog\u001b[49m\u001b[43m(\u001b[49m\u001b[43m(\u001b[49m\u001b[38;5;241;43m256\u001b[39;49m\u001b[38;5;241;43m/\u001b[39;49m\u001b[43m(\u001b[49m\u001b[43mepsilon\u001b[49m\u001b[38;5;241;43m*\u001b[39;49m\u001b[38;5;241;43m*\u001b[39;49m\u001b[38;5;241;43m2\u001b[39;49m\u001b[43m)\u001b[49m\u001b[43m)\u001b[49m\u001b[43m \u001b[49m\u001b[38;5;241;43m*\u001b[39;49m\u001b[43m \u001b[49m\u001b[43m(\u001b[49m\u001b[38;5;241;43m1\u001b[39;49m\u001b[38;5;241;43m/\u001b[39;49m\u001b[43m(\u001b[49m\u001b[43mx\u001b[49m\u001b[38;5;241;43m*\u001b[39;49m\u001b[38;5;241;43m*\u001b[39;49m\u001b[38;5;241;43m2\u001b[39;49m\u001b[43m)\u001b[49m\u001b[43m)\u001b[49m\u001b[43m)\u001b[49m\u001b[43m \u001b[49m\u001b[38;5;241;43m+\u001b[39;49m\u001b[43m \u001b[49m\u001b[43msympy\u001b[49m\u001b[38;5;241;43m.\u001b[39;49m\u001b[43mlog\u001b[49m\u001b[43m(\u001b[49m\u001b[38;5;241;43m8\u001b[39;49m\u001b[38;5;241;43m/\u001b[39;49m\u001b[43mdelta\u001b[49m\u001b[43m)\u001b[49m\u001b[43m)\u001b[49m\u001b[43m)\u001b[49m\u001b[43m,\u001b[49m\u001b[43m \u001b[49m\u001b[38;5;124;43m'\u001b[39;49m\u001b[38;5;124;43m>=\u001b[39;49m\u001b[38;5;124;43m'\u001b[39;49m\u001b[43m)\u001b[49m\n\u001b[1;32m     17\u001b[0m \u001b[43m    \u001b[49m\u001b[43m]\u001b[49m\u001b[43m]\u001b[49m\n\u001b[1;32m     18\u001b[0m \u001b[43m)\u001b[49m\n",
      "File \u001b[0;32m~/Desktop/PDG/porsche-research/pac-learning/pac-venv/lib/python3.9/site-packages/sympy/solvers/inequalities.py:160\u001b[0m, in \u001b[0;36msolve_rational_inequalities\u001b[0;34m(eqs)\u001b[0m\n\u001b[1;32m    156\u001b[0m     \u001b[38;5;28;01mcontinue\u001b[39;00m\n\u001b[1;32m    158\u001b[0m global_intervals \u001b[38;5;241m=\u001b[39m [Interval(S\u001b[38;5;241m.\u001b[39mNegativeInfinity, S\u001b[38;5;241m.\u001b[39mInfinity)]\n\u001b[0;32m--> 160\u001b[0m \u001b[38;5;28;01mfor\u001b[39;00m (numer, denom), rel \u001b[38;5;129;01min\u001b[39;00m _eqs:\n\u001b[1;32m    161\u001b[0m     numer_intervals \u001b[38;5;241m=\u001b[39m solve_poly_inequality(numer\u001b[38;5;241m*\u001b[39mdenom, rel)\n\u001b[1;32m    162\u001b[0m     denom_intervals \u001b[38;5;241m=\u001b[39m solve_poly_inequality(denom, \u001b[38;5;124m'\u001b[39m\u001b[38;5;124m==\u001b[39m\u001b[38;5;124m'\u001b[39m)\n",
      "\u001b[0;31mValueError\u001b[0m: too many values to unpack (expected 2)"
     ]
    }
   ],
   "metadata": {}
  },
  {
   "cell_type": "code",
   "execution_count": null,
   "source": [],
   "outputs": [],
   "metadata": {}
  }
 ],
 "metadata": {
  "kernelspec": {
   "name": "python3",
   "display_name": "Python 3.9.15 64-bit ('pac-venv')"
  },
  "language_info": {
   "name": "python",
   "version": "3.9.15",
   "mimetype": "text/x-python",
   "codemirror_mode": {
    "name": "ipython",
    "version": 3
   },
   "pygments_lexer": "ipython3",
   "nbconvert_exporter": "python",
   "file_extension": ".py"
  },
  "interpreter": {
   "hash": "4ede7f29d864d30436995b20b34666eece4fa61a1cdb58253be3ba6b07adb827"
  }
 },
 "nbformat": 4,
 "nbformat_minor": 2
}