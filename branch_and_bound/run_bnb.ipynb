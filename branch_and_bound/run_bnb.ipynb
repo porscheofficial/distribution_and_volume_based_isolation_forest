{
 "cells": [
  {
   "cell_type": "code",
   "execution_count": 3,
   "metadata": {
    "collapsed": true,
    "pycharm": {
     "name": "#%%\n"
    }
   },
   "outputs": [],
   "source": [
    "from scipy.stats import multivariate_normal\n",
    "import pybnb\n",
    "from functools import partial\n",
    "from sklearn.ensemble import IsolationForest\n",
    "\n",
    "%load_ext autoreload\n",
    "%autoreload 2\n",
    "\n",
    "from BranchAndBoundSolver import BranchAndBoundSolver"
   ]
  },
  {
   "cell_type": "code",
   "execution_count": 4,
   "outputs": [],
   "source": [
    "training_points = multivariate_normal.rvs(size=(20,2))\n",
    "point_to_be_classified = training_points[0]"
   ],
   "metadata": {
    "collapsed": false,
    "pycharm": {
     "name": "#%%\n"
    }
   }
  },
  {
   "cell_type": "code",
   "execution_count": 5,
   "outputs": [
    {
     "name": "stdout",
     "output_type": "stream",
     "text": [
      "\n",
      "Using non-default solver options:\n",
      " - absolute_gap: 0.01 (default: 0)\n",
      "\n",
      "Starting branch & bound solve:\n",
      " - dispatcher pid: 71199 (MacBook-Pro.fritz.box)\n",
      " - worker processes: 1\n",
      "---------------------------------------------------------------------------------------------------------------------\n",
      "         Nodes        |                   Objective Bounds                     |              Work              \n",
      "      Expl    Unexpl  |      Incumbent           Bound    Rel. Gap    Abs. Gap | Time (s)  Nodes/Sec Imbalance   Idle\n",
      "         0         1  |            inf            -inf         inf%        inf |      0.0       0.00     0.00%      0\n",
      "*        1         4  |      0.1386752            0.05    8.867517%    0.08868 |      0.0     305.17     0.00%      0\n",
      "*      286       850  |      0.1378371       0.0753045    6.253262%    0.06253 |      0.1    2257.16     0.00%      0\n",
      "      4711     11505  |      0.1378371      0.09641119    4.142593%    0.04143 |      1.2    3989.15     0.00%      0\n",
      "      9797     21093  |      0.1378371      0.09977202    3.806510%    0.03807 |      2.2    5016.07     0.00%      0\n",
      "      Expl    Unexpl  |      Incumbent           Bound    Rel. Gap    Abs. Gap | Time (s)  Nodes/Sec Imbalance   Idle\n",
      "     14404     28731  |      0.1378371       0.1022236    3.561347%    0.03561 |      3.2    4624.95     0.00%      0\n",
      "*    15694     28560  |      0.1321149       0.1025637    2.955126%    0.02955 |      3.6    3014.99     0.00%      0\n",
      "     21056     37266  |      0.1321149       0.1037733    2.834168%    0.02834 |      4.6    5160.55     0.00%      0\n",
      "     25199     44611  |      0.1321149       0.1050754    2.703955%    0.02704 |      5.6    4183.37     0.00%      0\n",
      "     30663     53679  |      0.1321149        0.106307    2.580789%    0.02581 |      6.6    5380.62     0.00%      0\n",
      "      Expl    Unexpl  |      Incumbent           Bound    Rel. Gap    Abs. Gap | Time (s)  Nodes/Sec Imbalance   Idle\n",
      "     35631     62017  |      0.1321149       0.1075817    2.453321%    0.02453 |      7.6    4986.64     0.00%      0\n",
      "     40543     71603  |      0.1321149       0.1081146    2.400031%      0.024 |      8.6    4915.33     0.00%      0\n",
      "     44355     80032  |      0.1321149       0.1086403    2.347462%    0.02347 |      9.6    3854.75     0.00%      0\n",
      "     47766     86281  |      0.1321149       0.1088017    2.331320%    0.02331 |     10.6    3430.34     0.00%      0\n",
      "     54145     93087  |      0.1321149       0.1089667    2.314823%    0.02315 |     11.6    6114.91     0.00%      0\n",
      "      Expl    Unexpl  |      Incumbent           Bound    Rel. Gap    Abs. Gap | Time (s)  Nodes/Sec Imbalance   Idle\n",
      "     60498     99074  |      0.1321149       0.1097848    2.233010%    0.02233 |     12.6    6339.56     0.00%      0\n",
      "     65757    105983  |      0.1321149       0.1116516    2.046338%    0.02046 |     13.6    5230.77     0.00%      0\n",
      "     70320    113968  |      0.1321149       0.1116516    2.046338%    0.02046 |     14.6    4591.75     0.00%      0\n",
      "     82683    112793  |      0.1321149       0.1120724    2.004252%    0.02004 |     15.6   11397.65     0.00%      0\n",
      "     89146    117531  |      0.1321149       0.1124931    1.962185%    0.01962 |     16.6    6604.98     0.00%      0\n",
      "      Expl    Unexpl  |      Incumbent           Bound    Rel. Gap    Abs. Gap | Time (s)  Nodes/Sec Imbalance   Idle\n",
      "     98790    119296  |      0.1321149       0.1130565    1.905839%    0.01906 |     17.6    9426.40     0.00%      0\n",
      "    109326    118834  |      0.1321149        0.113388    1.872695%    0.01873 |     18.6   10474.33     0.00%      0\n",
      "    122471    115777  |      0.1321149       0.1140773    1.803760%    0.01804 |     19.6   12978.03     0.00%      0\n",
      "    128581    121363  |      0.1321149       0.1149338    1.718110%    0.01718 |     20.6    6275.94     0.00%      0\n",
      "    148000    113935  |      0.1321149       0.1168881    1.522683%    0.01523 |     21.6   17578.13     0.00%      0\n",
      "      Expl    Unexpl  |      Incumbent           Bound    Rel. Gap    Abs. Gap | Time (s)  Nodes/Sec Imbalance   Idle\n",
      "    154445    118771  |      0.1321149       0.1168881    1.522683%    0.01523 |     22.6    6654.77     0.00%      0\n",
      "    162273    122230  |      0.1321149       0.1169542    1.516076%    0.01516 |     23.6    7759.51     0.00%      0\n",
      "    198173     92733  |      0.1321149       0.1180922    1.402274%    0.01402 |     24.6   30384.23     0.00%      0\n",
      "    213451     90331  |      0.1321149       0.1190098    1.310514%    0.01311 |     25.6   15664.69     0.00%      0\n",
      "    227084     90330  |      0.1321149       0.1199546    1.216033%    0.01216 |     26.6   13721.82     0.00%      0\n",
      "      Expl    Unexpl  |      Incumbent           Bound    Rel. Gap    Abs. Gap | Time (s)  Nodes/Sec Imbalance   Idle\n",
      "    288142     29608  |      0.1321149       0.1214838    1.063110%    0.01063 |     27.6   52075.62     0.00%      0\n",
      "    317750         0  |      0.1321149       0.1226115    0.950344%   0.009503 |     28.1   57384.90     0.00%      0\n",
      "---------------------------------------------------------------------------------------------------------------------\n",
      "\n",
      "Absolute optimality tolerance met\n",
      "Optimal solution found!\n",
      "\n",
      "solver results:\n",
      " - solution_status: optimal\n",
      " - termination_condition: optimality\n",
      " - objective: 0.1321149\n",
      " - bound: 0.1226115\n",
      " - absolute_gap: 0.00950344\n",
      " - relative_gap: 0.00950344\n",
      " - nodes: 317750\n",
      " - wall_time: 28.12 s\n",
      " - best_node: Node(objective=0.1321149)\n",
      "\n"
     ]
    }
   ],
   "source": [
    "problem = BranchAndBoundSolver(training_points, point_to_be_classified)\n",
    "solver = pybnb.Solver(comm=None)\n",
    "results = solver.solve(problem, absolute_gap=0.01, queue_strategy=\"bound\")"
   ],
   "metadata": {
    "collapsed": false,
    "pycharm": {
     "name": "#%%\n"
    }
   }
  },
  {
   "cell_type": "code",
   "execution_count": 6,
   "outputs": [
    {
     "data": {
      "text/plain": "<Figure size 432x288 with 1 Axes>",
      "image/png": "[encoded data removed]"
     },
     "metadata": {
      "needs_background": "light"
     },
     "output_type": "display_data"
    }
   ],
   "source": [
    "from matplotlib import pyplot as plt\n",
    "import matplotlib.patches as patches\n",
    "%matplotlib inline\n",
    "cmap = plt.colormaps['viridis']\n",
    "def draw2dpattern(interval, ax, index, total):\n",
    "    ax.add_patch(patches.Rectangle(\n",
    "        xy=(interval[0,0], interval[1,0]),\n",
    "        width=interval[0,1] - interval[0,0],\n",
    "        height=interval[1,1] - interval[1,0],\n",
    "        facecolor='none',\n",
    "        edgecolor=cmap(index/total),\n",
    "        label=index\n",
    "    )\n",
    "    )\n",
    "\n",
    "\n",
    "plt.scatter(x=training_points[:,0], y=training_points[:,1])\n",
    "plt.scatter(x=point_to_be_classified[0], y=point_to_be_classified[1], marker=\"x\")\n",
    "ax = plt.gca()\n",
    "total = len(problem.trajectory)\n",
    "for i, interval in enumerate(problem.trajectory):\n",
    "    draw2dpattern(interval, ax, i, total)\n",
    "ax.legend(bbox_to_anchor=(1.1, 1.1))\n",
    "plt.show()"
   ],
   "metadata": {
    "collapsed": false,
    "pycharm": {
     "name": "#%%\n"
    }
   }
  },
  {
   "cell_type": "markdown",
   "source": [
    "## Implementing PAC-RPAD algorithm."
   ],
   "metadata": {
    "collapsed": false,
    "pycharm": {
     "name": "#%% md\n"
    }
   }
  },
  {
   "cell_type": "code",
   "execution_count": 7,
   "outputs": [],
   "source": [
    "from typing import Callable\n",
    "import numpy as np\n",
    "from patterns import AxisAlignedHyperRectangle, find_bounding_pattern\n",
    "\n",
    "class PACRPAD:\n",
    "    \"\"\"\n",
    "    Superclass for all PAC-RPAD implementations\n",
    "    \"\"\"\n",
    "    def __init__(self, tau, epsilon, delta):\n",
    "        self.tau = tau\n",
    "        self.epsilon = epsilon\n",
    "        self.delta = delta\n",
    "        self.find_min_f_hat: Callable[[np.ndarray], float] = lambda *_: 0. #this function should be provided by each subclass based on training data\n",
    "\n",
    "    def has_rare_pattern(self, point) -> bool:\n",
    "        return self.find_min_f_hat(point) <= self.tau + self.epsilon / 2"
   ],
   "metadata": {
    "collapsed": false,
    "pycharm": {
     "name": "#%%\n"
    }
   }
  },
  {
   "cell_type": "code",
   "execution_count": 74,
   "outputs": [],
   "source": [
    "\n",
    "class AxisAlignedHyperRectanglePACRPAD(PACRPAD):\n",
    "    def __init__(self, tau, epsilon, delta):\n",
    "        super().__init__(tau, epsilon, delta)\n",
    "        self.solver = None\n",
    "\n",
    "    def construct_f_hat_estimator(self, training_data, absolute_gap=0.01, queue_strategy=\"bound\"):\n",
    "        self.solver = partial(BranchAndBoundSolver, training_data = training_data)\n",
    "        self.find_min_f_hat = lambda point: pybnb.Solver(comm=None).solve(self.solver(point_to_be_classified = point),\n",
    "                                                                             absolute_gap=absolute_gap,\n",
    "                                                                             queue_strategy=queue_strategy\n",
    "                                                                             ).objective\n",
    "\n",
    "class RandomForestApproximatePACRPAD(PACRPAD):\n",
    "    def __init__(self, tau, epsilon, delta):\n",
    "        super().__init__(tau, epsilon, delta)\n",
    "        self.random_forest = None\n",
    "\n",
    "    def construct_f_hat_estimator(self, training_data):\n",
    "        self.random_forest = IsolationForest(random_state=0).fit(training_data)\n",
    "        bounding_pattern = find_bounding_pattern(training_data)\n",
    "\n",
    "        def find_pattern_in_tree(tree, point:np.array):\n",
    "            features = tree.feature\n",
    "            thresholds = tree.threshold\n",
    "            intervals = bounding_pattern.intervals\n",
    "\n",
    "            point = point.astype(np.float32).reshape(1,-1)\n",
    "            node_index = list(tree.decision_path(point).indices)\n",
    "            #going through the non-leaf nodes to and updating threshold along the way:\n",
    "            while len(node_index) > 1:\n",
    "                node_id = node_index.pop()\n",
    "                f = features[node_id]\n",
    "                t = thresholds[node_id]\n",
    "                intervals[point[f] > t,f] = t\n",
    "            # the output of this function is the numper of samples in the pattern, together with the rectangle\n",
    "            return tree.n_node_samples[node_index[0]], AxisAlignedHyperRectangle(intervals)\n",
    "\n",
    "        def evaluate_f_hat(tree, point):\n",
    "            samples, pattern = find_pattern_in_tree(tree, point)\n",
    "            return (samples * bounding_pattern.area)/(pattern.area * len(training_data))\n",
    "\n",
    "        self.find_min_f_hat = lambda point : min([evaluate_f_hat(estimator.tree_, point) for estimator in self.random_forest.estimators_])"
   ],
   "metadata": {
    "collapsed": false,
    "pycharm": {
     "name": "#%%\n"
    }
   }
  },
  {
   "cell_type": "code",
   "execution_count": 66,
   "outputs": [],
   "source": [
    "delta = 0.1\n",
    "epsilon = 0.1\n",
    "tau = 0.1\n",
    "exact = AxisAlignedHyperRectanglePACRPAD(tau, epsilon, delta)\n",
    "exact.construct_f_hat_estimator(training_points)\n",
    "exact.has_rare_pattern(training_points[0])"
   ],
   "metadata": {
    "collapsed": false,
    "pycharm": {
     "name": "#%%\n"
    }
   }
  },
  {
   "cell_type": "code",
   "execution_count": 75,
   "outputs": [],
   "source": [
    "approximate = RandomForestApproximatePACRPAD(tau, epsilon, delta)\n",
    "approximate.construct_f_hat_estimator(training_points)\n",
    "approximate.has_rare_pattern(training_points[0])"
   ],
   "metadata": {
    "collapsed": false,
    "pycharm": {
     "name": "#%%\n"
    }
   }
  }
 ],
 "metadata": {
  "kernelspec": {
   "display_name": "Python 3",
   "language": "python",
   "name": "python3"
  },
  "language_info": {
   "codemirror_mode": {
    "name": "ipython",
    "version": 2
   },
   "file_extension": ".py",
   "mimetype": "text/x-python",
   "name": "python",
   "nbconvert_exporter": "python",
   "pygments_lexer": "ipython2",
   "version": "2.7.6"
  }
 },
 "nbformat": 4,
 "nbformat_minor": 0
}