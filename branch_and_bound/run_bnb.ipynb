{
 "cells": [
  {
   "cell_type": "code",
   "execution_count": 1,
   "metadata": {
    "collapsed": true,
    "pycharm": {
     "name": "#%%\n"
    }
   },
   "outputs": [],
   "source": [
    "from scipy.stats import multivariate_normal\n",
    "import pybnb\n",
    "%load_ext autoreload\n",
    "%autoreload 2\n",
    "\n",
    "from BranchAndBoundSolver import BranchAndBoundSolver"
   ]
  },
  {
   "cell_type": "code",
   "execution_count": 60,
   "outputs": [
    {
     "name": "stdout",
     "output_type": "stream",
     "text": [
      "solve begins\n",
      "Starting branch & bound solve:\n",
      " - dispatcher pid: 30808 (MacBook-Pro.fritz.box)\n",
      " - worker processes: 1\n",
      "--------------------------------------------------------------------------------------------------------------------------\n",
      "         Nodes        |                      Objective Bounds                       |              Work              \n",
      "      Expl    Unexpl  |      Incumbent           Bound    Rel. Gap         Abs. Gap | Time (s)  Nodes/Sec Imbalance   Idle\n",
      "         0         1  |            inf            -inf         inf%             inf |      0.0       0.00     0.00%      0\n",
      "*        1         3  |      0.9446781      0.06297854   88.169956%    0.8816995594 |      0.0     351.75     0.00%      0\n",
      "*        2         5  |      0.9126655      0.06297854   84.968697%    0.8496869655 |      0.0     538.51     0.00%      0\n",
      "*     3925      4082  |      0.8972408        0.294296   60.294482%    0.6029448237 |      0.9    3241.96     0.00%      0\n",
      "*     4156      3771  |      0.7434195       0.2990803   44.433923%    0.4443392267 |      0.9    7732.25     0.00%      0\n",
      "      Expl    Unexpl  |      Incumbent           Bound    Rel. Gap         Abs. Gap | Time (s)  Nodes/Sec Imbalance   Idle\n",
      "     11233         0  |      0.7434195       0.3717098   37.170975%    0.3717097537 |      1.4   13574.75     0.00%      0\n",
      "--------------------------------------------------------------------------------------------------------------------------\n",
      "solve begins\n",
      "\n",
      "Feasible solution found\n",
      "\n",
      "solver results:\n",
      " - solution_status: feasible\n",
      " - termination_condition: queue_empty\n",
      " - objective: 0.7434195\n",
      " - bound: 0.3717098\n",
      " - absolute_gap: 0.3717098\n",
      " - relative_gap: 0.3717098\n",
      " - nodes: 11233\n",
      " - wall_time: 1.43 s\n",
      " - best_node: Node(objective=0.7434195)\n",
      "\n"
     ]
    }
   ],
   "source": [
    "training_points = multivariate_normal.rvs(size=(15,2))\n",
    "point_to_be_classified = training_points[0]\n",
    "problem = BranchAndBoundSolver(training_points, point_to_be_classified)\n",
    "solver = pybnb.Solver(comm=None)\n",
    "results = solver.solve(problem)"
   ],
   "metadata": {
    "collapsed": false,
    "pycharm": {
     "name": "#%%\n"
    }
   }
  },
  {
   "cell_type": "code",
   "execution_count": 61,
   "outputs": [
    {
     "data": {
      "text/plain": "<Figure size 432x288 with 1 Axes>",
      "image/png": "[encoded data removed]"
     },
     "metadata": {
      "needs_background": "light"
     },
     "output_type": "display_data"
    }
   ],
   "source": [
    "from matplotlib import pyplot as plt\n",
    "import matplotlib.patches as patches\n",
    "%matplotlib inline\n",
    "cmap = plt.colormaps['viridis']\n",
    "def draw2dpattern(interval, ax, index, total):\n",
    "    ax.add_patch(patches.Rectangle(\n",
    "        xy=(interval[0,0], interval[1,0]),\n",
    "        width=interval[0,1] - interval[0,0],\n",
    "        height=interval[1,1] - interval[1,0],\n",
    "        facecolor='none',\n",
    "        edgecolor=cmap(index/total),\n",
    "        label=index\n",
    "    )\n",
    "    )\n",
    "\n",
    "\n",
    "plt.scatter(x=training_points[:,0], y=training_points[:,1])\n",
    "plt.scatter(x=point_to_be_classified[0], y=point_to_be_classified[1], marker=\"x\")\n",
    "ax = plt.gca()\n",
    "total = len(problem.trajectory)\n",
    "for i, interval in enumerate(problem.trajectory):\n",
    "    draw2dpattern(interval, ax, i, total)\n",
    "ax.legend(bbox_to_anchor=(1.1, 1.1))\n",
    "plt.show()\n"
   ],
   "metadata": {
    "collapsed": false,
    "pycharm": {
     "name": "#%%\n"
    }
   }
  }
 ],
 "metadata": {
  "kernelspec": {
   "display_name": "Python 3",
   "language": "python",
   "name": "python3"
  },
  "language_info": {
   "codemirror_mode": {
    "name": "ipython",
    "version": 2
   },
   "file_extension": ".py",
   "mimetype": "text/x-python",
   "name": "python",
   "nbconvert_exporter": "python",
   "pygments_lexer": "ipython2",
   "version": "2.7.6"
  }
 },
 "nbformat": 4,
 "nbformat_minor": 0
}