{
 "cells": [
  {
   "cell_type": "code",
   "execution_count": 76,
   "metadata": {
    "collapsed": true,
    "pycharm": {
     "name": "#%%\n"
    }
   },
   "outputs": [
    {
     "name": "stdout",
     "output_type": "stream",
     "text": [
      "The autoreload extension is already loaded. To reload it, use:\n",
      "  %reload_ext autoreload\n"
     ]
    }
   ],
   "source": [
    "from scipy.stats import multivariate_normal\n",
    "import pybnb\n",
    "from functools import partial\n",
    "from sklearn.ensemble import IsolationForest\n",
    "\n",
    "%load_ext autoreload\n",
    "%autoreload 2\n",
    "\n",
    "from BranchAndBoundSolver import BranchAndBoundSolver, BranchAndBoundTopDown"
   ]
  },
  {
   "cell_type": "code",
   "execution_count": 131,
   "outputs": [],
   "source": [
    "training_points = multivariate_normal.rvs(size=(20,2))\n",
    "point_to_be_classified = training_points[0]"
   ],
   "metadata": {
    "collapsed": false,
    "pycharm": {
     "name": "#%%\n"
    }
   }
  },
  {
   "cell_type": "code",
   "execution_count": 132,
   "outputs": [
    {
     "name": "stdout",
     "output_type": "stream",
     "text": [
      "Starting branch & bound solve:\n",
      " - dispatcher pid: 65882 (MacBook-Pro-2.fritz.box)\n",
      " - worker processes: 1\n",
      "--------------------------------------------------------------------------------------------------------------------------\n",
      "         Nodes        |                      Objective Bounds                       |              Work              \n",
      "      Expl    Unexpl  |      Incumbent           Bound    Rel. Gap         Abs. Gap | Time (s)  Nodes/Sec Imbalance   Idle\n",
      "         0         1  |            inf            -inf         inf%             inf |      0.0       0.00     0.00%      0\n",
      "*        1         8  |            0.8            0.05   75.000000%            0.75 |      0.0     287.95     0.00%      0\n",
      "*        2        15  |           0.75            0.05   70.000000%             0.7 |      0.0     404.10     0.00%      0\n",
      "*       12        55  |            0.7            0.05   65.000000%            0.65 |      0.0    1467.59     0.00%      0\n",
      "*       62       179  |           0.65            0.05   60.000000%             0.6 |      0.0    2507.45     0.00%      0\n",
      "      Expl    Unexpl  |      Incumbent           Bound    Rel. Gap         Abs. Gap | Time (s)  Nodes/Sec Imbalance   Idle\n",
      "*      240       507  |            0.6            0.05   55.000000%            0.55 |      0.1    3035.62     0.00%      0\n",
      "*     1182      1929  |           0.55            0.05   50.000000%             0.5 |      0.3    3679.04     0.00%      0\n",
      "*     3110      4625  |            0.5            0.05   45.000000%            0.45 |      0.8    4148.97     0.00%      0\n",
      "      7375     10426  |            0.5            0.05   45.000000%            0.45 |      1.8    4162.38     0.00%      0\n",
      "*     8470     11527  |           0.45            0.05   40.000000%             0.4 |      2.1    4587.32     0.00%      0\n",
      "      Expl    Unexpl  |      Incumbent           Bound    Rel. Gap         Abs. Gap | Time (s)  Nodes/Sec Imbalance   Idle\n",
      "     12892     17479  |           0.45            0.05   40.000000%             0.4 |      3.1    4429.60     0.00%      0\n",
      "     17319     23442  |           0.45            0.05   40.000000%             0.4 |      4.1    4426.37     0.00%      0\n",
      "*    19990     26119  |            0.4            0.05   35.000000%            0.35 |      4.7    4258.17     0.00%      0\n",
      "     24581     32240  |            0.4            0.05   35.000000%            0.35 |      5.7    4572.99     0.00%      0\n",
      "     28915     38110  |            0.4            0.05   35.000000%            0.35 |      6.7    4344.89     0.00%      0\n",
      "      Expl    Unexpl  |      Incumbent           Bound    Rel. Gap         Abs. Gap | Time (s)  Nodes/Sec Imbalance   Idle\n",
      "     33397     43360  |            0.4            0.05   35.000000%            0.35 |      7.7    4474.45     0.00%      0\n",
      "     38025     49524  |            0.4            0.05   35.000000%            0.35 |      8.7    4619.86     0.00%      0\n",
      "     42783     55050  |            0.4            0.05   35.000000%            0.35 |      9.7    4750.45     0.00%      0\n",
      "*    46102     58375  |           0.35            0.05   30.000000%             0.3 |     10.6    3834.36     0.00%      0\n",
      "     50781     64584  |           0.35            0.05   30.000000%             0.3 |     11.6    4627.64     0.00%      0\n",
      "      Expl    Unexpl  |      Incumbent           Bound    Rel. Gap         Abs. Gap | Time (s)  Nodes/Sec Imbalance   Idle\n",
      "     54864     70203  |           0.35            0.05   30.000000%             0.3 |     12.6    4106.75     0.00%      0\n",
      "     59725     75832  |           0.35            0.05   30.000000%             0.3 |     13.6    4815.99     0.00%      0\n",
      "     63851     81362  |           0.35            0.05   30.000000%             0.3 |     14.6    4155.08     0.00%      0\n",
      "     68559     86970  |           0.35            0.05   30.000000%             0.3 |     15.6    4676.10     0.00%      0\n",
      "     72949     91744  |           0.35            0.05   30.000000%             0.3 |     16.6    4403.46     0.00%      0\n",
      "      Expl    Unexpl  |      Incumbent           Bound    Rel. Gap         Abs. Gap | Time (s)  Nodes/Sec Imbalance   Idle\n",
      "     77622     97857  |           0.35            0.05   30.000000%             0.3 |     17.6    4658.59     0.00%      0\n",
      "     82222    103705  |           0.35            0.05   30.000000%             0.3 |     18.6    4601.74     0.00%      0\n",
      "     86623    109258  |           0.35            0.05   30.000000%             0.3 |     19.7    4020.01     0.00%      0\n",
      "     91065    115044  |           0.35            0.05   30.000000%             0.3 |     20.7    4418.65     0.00%      0\n",
      "     96067    120622  |           0.35            0.05   30.000000%             0.3 |     21.7    4968.80     0.00%      0\n",
      "      Expl    Unexpl  |      Incumbent           Bound    Rel. Gap         Abs. Gap | Time (s)  Nodes/Sec Imbalance   Idle\n",
      "    101148    125703  |           0.35            0.05   30.000000%             0.3 |     22.7    5074.56     0.00%      0\n",
      "*   104470    129031  |            0.3            0.05   25.000000%            0.25 |     23.8    3122.68     0.00%      0\n",
      "    109084    135175  |            0.3            0.05   25.000000%            0.25 |     24.8    4506.05     0.00%      0\n",
      "    113443    141070  |            0.3            0.05   25.000000%            0.25 |     25.8    4365.86     0.00%      0\n",
      "    117399    145794  |            0.3            0.05   25.000000%            0.25 |     26.8    3973.70     0.00%      0\n",
      "      Expl    Unexpl  |      Incumbent           Bound    Rel. Gap         Abs. Gap | Time (s)  Nodes/Sec Imbalance   Idle\n",
      "    122122    151861  |            0.3            0.05   25.000000%            0.25 |     27.8    4678.70     0.00%      0\n",
      "    126728    157427  |            0.3            0.05   25.000000%            0.25 |     28.8    4609.12     0.00%      0\n",
      "    131715    162990  |            0.3            0.05   25.000000%            0.25 |     29.8    4966.27     0.00%      0\n",
      "    135950    168445  |            0.3            0.05   25.000000%            0.25 |     30.8    4265.59     0.00%      0\n",
      "    139471    173242  |            0.3            0.05   25.000000%            0.25 |     31.8    3371.52     0.00%      0\n",
      "      Expl    Unexpl  |      Incumbent           Bound    Rel. Gap         Abs. Gap | Time (s)  Nodes/Sec Imbalance   Idle\n",
      "    144202    178741  |            0.3            0.05   25.000000%            0.25 |     32.8    4636.84     0.00%      0\n",
      "    148556    184631  |            0.3            0.05   25.000000%            0.25 |     33.8    4367.21     0.00%      0\n",
      "Solve interrupted by user. Waiting for current worker jobs to complete before terminating the solve.\n",
      "    152486    189329  |            0.3            0.05   25.000000%            0.25 |     34.6    4792.12     0.00%      0\n",
      "--------------------------------------------------------------------------------------------------------------------------\n",
      "\n",
      "Feasible solution found\n",
      "\n",
      "solver results:\n",
      " - solution_status: feasible\n",
      " - termination_condition: interrupted\n",
      " - objective: 0.3\n",
      " - bound: 0.05\n",
      " - absolute_gap: 0.25\n",
      " - relative_gap: 0.25\n",
      " - nodes: 152486\n",
      " - wall_time: 34.63 s\n",
      " - best_node: Node(objective=0.3)\n",
      "\n"
     ]
    }
   ],
   "source": [
    "problem = BranchAndBoundTopDown(training_points, point_to_be_classified, 0.1)\n",
    "solver = pybnb.Solver(comm=None)\n",
    "results = solver.solve(problem, absolute_gap=0)"
   ],
   "metadata": {
    "collapsed": false,
    "pycharm": {
     "name": "#%%\n"
    }
   }
  },
  {
   "cell_type": "code",
   "execution_count": 133,
   "outputs": [
    {
     "data": {
      "text/plain": "366354"
     },
     "execution_count": 133,
     "metadata": {},
     "output_type": "execute_result"
    }
   ],
   "source": [
    "problem.counter_counter"
   ],
   "metadata": {
    "collapsed": false,
    "pycharm": {
     "name": "#%%\n"
    }
   }
  },
  {
   "cell_type": "code",
   "execution_count": 134,
   "outputs": [
    {
     "data": {
      "text/plain": "<Figure size 432x288 with 1 Axes>",
      "image/png": "[encoded data removed]"
     },
     "metadata": {
      "needs_background": "light"
     },
     "output_type": "display_data"
    }
   ],
   "source": [
    "from matplotlib import pyplot as plt\n",
    "import matplotlib.patches as patches\n",
    "%matplotlib inline\n",
    "cmap = plt.colormaps['viridis']\n",
    "def draw2dpattern(interval, ax, index, total):\n",
    "    ax.add_patch(patches.Rectangle(\n",
    "        xy=(interval[0,0], interval[1,0]),\n",
    "        width=interval[0,1] - interval[0,0],\n",
    "        height=interval[1,1] - interval[1,0],\n",
    "        facecolor='none',\n",
    "        edgecolor=cmap(index/total),\n",
    "        label=index\n",
    "    )\n",
    "    )\n",
    "\n",
    "\n",
    "plt.scatter(x=training_points[:,0], y=training_points[:,1])\n",
    "plt.scatter(x=point_to_be_classified[0], y=point_to_be_classified[1], marker=\"x\")\n",
    "ax = plt.gca()\n",
    "total = len(problem.trajectory)\n",
    "for i, interval in enumerate(problem.trajectory):\n",
    "    draw2dpattern(interval, ax, i, total)\n",
    "ax.legend(bbox_to_anchor=(1.1, 1.1))\n",
    "plt.show()"
   ],
   "metadata": {
    "collapsed": false,
    "pycharm": {
     "name": "#%%\n"
    }
   }
  },
  {
   "cell_type": "markdown",
   "source": [
    "## Implementing PAC-RPAD algorithm."
   ],
   "metadata": {
    "collapsed": false,
    "pycharm": {
     "name": "#%% md\n"
    }
   }
  },
  {
   "cell_type": "code",
   "execution_count": 7,
   "outputs": [],
   "source": [
    "from typing import Callable\n",
    "import numpy as np\n",
    "from patterns import AxisAlignedHyperRectangle, find_bounding_pattern\n",
    "\n",
    "class PACRPAD:\n",
    "    \"\"\"\n",
    "    Superclass for all PAC-RPAD implementations\n",
    "    \"\"\"\n",
    "    def __init__(self, tau, epsilon, delta):\n",
    "        self.tau = tau\n",
    "        self.epsilon = epsilon\n",
    "        self.delta = delta\n",
    "        self.find_min_f_hat: Callable[[np.ndarray], float] = lambda *_: 0. #this function should be provided by each subclass based on training data\n",
    "\n",
    "    def has_rare_pattern(self, point) -> bool:\n",
    "        return self.find_min_f_hat(point) <= self.tau + self.epsilon / 2"
   ],
   "metadata": {
    "collapsed": false,
    "pycharm": {
     "name": "#%%\n"
    }
   }
  },
  {
   "cell_type": "code",
   "execution_count": 74,
   "outputs": [],
   "source": [
    "\n",
    "class AxisAlignedHyperRectanglePACRPAD(PACRPAD):\n",
    "    def __init__(self, tau, epsilon, delta):\n",
    "        super().__init__(tau, epsilon, delta)\n",
    "        self.solver = None\n",
    "\n",
    "    def construct_f_hat_estimator(self, training_data, absolute_gap=0.01, queue_strategy=\"bound\"):\n",
    "        self.solver = partial(BranchAndBoundSolver, training_data = training_data)\n",
    "        self.find_min_f_hat = lambda point: pybnb.Solver(comm=None).solve(self.solver(point_to_be_classified = point),\n",
    "                                                                             absolute_gap=absolute_gap,\n",
    "                                                                             queue_strategy=queue_strategy\n",
    "                                                                             ).objective\n",
    "\n",
    "class RandomForestApproximatePACRPAD(PACRPAD):\n",
    "    def __init__(self, tau, epsilon, delta):\n",
    "        super().__init__(tau, epsilon, delta)\n",
    "        self.random_forest = None\n",
    "\n",
    "    def construct_f_hat_estimator(self, training_data, n_estimators=100):\n",
    "        self.random_forest = IsolationForest(random_state=0, n_estimators=n_estimators).fit(training_data)\n",
    "        bounding_pattern = find_bounding_pattern(training_data)\n",
    "\n",
    "        def find_pattern_in_tree(tree, point:np.array):\n",
    "            features = tree.feature\n",
    "            thresholds = tree.threshold\n",
    "            intervals = bounding_pattern.intervals\n",
    "\n",
    "            point = point.astype(np.float32).reshape(1,-1)\n",
    "            node_index = list(tree.decision_path(point).indices)\n",
    "            #going through the non-leaf nodes to and updating threshold along the way:\n",
    "            while len(node_index) > 1:\n",
    "                node_id = node_index.pop()\n",
    "                f = features[node_id]\n",
    "                t = thresholds[node_id]\n",
    "                intervals[point[f] > t,f] = t\n",
    "            # the output of this function is the numper of samples in the pattern, together with the rectangle\n",
    "            return tree.n_node_samples[node_index[0]], AxisAlignedHyperRectangle(intervals)\n",
    "\n",
    "        def evaluate_f_hat(tree, point):\n",
    "            samples, pattern = find_pattern_in_tree(tree, point)\n",
    "            return (samples * bounding_pattern.area)/(pattern.area * len(training_data))\n",
    "\n",
    "        self.find_min_f_hat = lambda point : min([evaluate_f_hat(estimator.tree_, point) for estimator in self.random_forest.estimators_])"
   ],
   "metadata": {
    "collapsed": false,
    "pycharm": {
     "name": "#%%\n"
    }
   }
  },
  {
   "cell_type": "code",
   "execution_count": 66,
   "outputs": [],
   "source": [
    "delta = 0.1\n",
    "epsilon = 0.1\n",
    "tau = 0.1\n",
    "exact = AxisAlignedHyperRectanglePACRPAD(tau, epsilon, delta)\n",
    "exact.construct_f_hat_estimator(training_points)\n",
    "exact.has_rare_pattern(training_points[0])"
   ],
   "metadata": {
    "collapsed": false,
    "pycharm": {
     "name": "#%%\n"
    }
   }
  },
  {
   "cell_type": "code",
   "execution_count": 75,
   "outputs": [],
   "source": [
    "approximates = []\n",
    "for est in [100, 1000, 10000]:\n",
    "    approximate = RandomForestApproximatePACRPAD(tau, epsilon, delta)\n",
    "    approximate.construct_f_hat_estimator(training_points, n_estimators=est)\n",
    "    approximates.append(approximate)\n"
   ],
   "metadata": {
    "collapsed": false,
    "pycharm": {
     "name": "#%%\n"
    }
   }
  },
  {
   "cell_type": "code",
   "execution_count": null,
   "outputs": [],
   "source": [
    "training_points = sample(100)\n",
    "training_points.save_to_file()\n",
    "\n",
    "labels = np.zeroes((len(training_points), len(approximates) + 1))\n",
    "for i, point in enumerate(training_points):\n",
    "    exact_solution = exact.has_rare_pattern(point)\n",
    "    approx = map(lambda a: a.has_rare_pattern, approximates)\n",
    "    # fill_labels\n",
    "\n",
    "#plot_outcome\n",
    "#bar plot\n",
    "\n"
   ],
   "metadata": {
    "collapsed": false,
    "pycharm": {
     "name": "#%%\n"
    }
   }
  }
 ],
 "metadata": {
  "kernelspec": {
   "display_name": "Python 3",
   "language": "python",
   "name": "python3"
  },
  "language_info": {
   "codemirror_mode": {
    "name": "ipython",
    "version": 2
   },
   "file_extension": ".py",
   "mimetype": "text/x-python",
   "name": "python",
   "nbconvert_exporter": "python",
   "pygments_lexer": "ipython2",
   "version": "2.7.6"
  }
 },
 "nbformat": 4,
 "nbformat_minor": 0
}