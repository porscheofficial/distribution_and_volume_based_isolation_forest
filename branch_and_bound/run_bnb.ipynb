{
 "cells": [
  {
   "cell_type": "code",
   "execution_count": 1,
   "metadata": {
    "collapsed": true,
    "pycharm": {
     "name": "#%%\n"
    }
   },
   "outputs": [],
   "source": [
    "from scipy.stats import multivariate_normal\n",
    "import pybnb\n",
    "from functools import partial\n",
    "from sklearn.ensemble import IsolationForest\n",
    "\n",
    "%load_ext autoreload\n",
    "%autoreload 2\n",
    "\n",
    "from BranchAndBoundSolver import BranchAndBoundSolver"
   ]
  },
  {
   "cell_type": "code",
   "execution_count": 2,
   "outputs": [],
   "source": [
    "training_points = multivariate_normal.rvs(size=(200,2))\n",
    "point_to_be_classified = training_points[0]"
   ],
   "metadata": {
    "collapsed": false,
    "pycharm": {
     "name": "#%%\n"
    }
   }
  },
  {
   "cell_type": "code",
   "execution_count": 3,
   "outputs": [
    {
     "name": "stdout",
     "output_type": "stream",
     "text": [
      "\n",
      "Using non-default solver options:\n",
      " - absolute_gap: 0.05 (default: 0)\n",
      "\n",
      "Starting branch & bound solve:\n",
      " - dispatcher pid: 61465 (MacBook-Pro.fritz.box)\n",
      " - worker processes: 1\n",
      "---------------------------------------------------------------------------------------------------------------------\n",
      "         Nodes        |                   Objective Bounds                     |              Work              \n",
      "      Expl    Unexpl  |      Incumbent           Bound    Rel. Gap    Abs. Gap | Time (s)  Nodes/Sec Imbalance   Idle\n",
      "         0         1  |            inf            -inf         inf%        inf |      0.0       0.00     0.00%      0\n",
      "*        1         0  |     0.03691726           0.005    3.191726%    0.03192 |      0.0     361.14     0.00%      0\n",
      "---------------------------------------------------------------------------------------------------------------------\n",
      "\n",
      "Absolute optimality tolerance met\n",
      "Optimal solution found!\n",
      "\n",
      "solver results:\n",
      " - solution_status: optimal\n",
      " - termination_condition: optimality\n",
      " - objective: 0.03691726\n",
      " - bound: 0.005\n",
      " - absolute_gap: 0.03191726\n",
      " - relative_gap: 0.03191726\n",
      " - nodes: 1\n",
      " - wall_time: 6.05 ms\n",
      " - best_node: Node(objective=0.03691726)\n",
      "\n"
     ]
    }
   ],
   "source": [
    "problem = BranchAndBoundSolver(training_points, point_to_be_classified)\n",
    "solver = pybnb.Solver(comm=None)\n",
    "results = solver.solve(problem, absolute_gap=0.05, queue_strategy=\"bound\")"
   ],
   "metadata": {
    "collapsed": false,
    "pycharm": {
     "name": "#%%\n"
    }
   }
  },
  {
   "cell_type": "code",
   "execution_count": 4,
   "outputs": [
    {
     "data": {
      "text/plain": "<Figure size 432x288 with 1 Axes>",
      "image/png": "[encoded data removed]"
     },
     "metadata": {
      "needs_background": "light"
     },
     "output_type": "display_data"
    }
   ],
   "source": [
    "from matplotlib import pyplot as plt\n",
    "import matplotlib.patches as patches\n",
    "%matplotlib inline\n",
    "cmap = plt.colormaps['viridis']\n",
    "def draw2dpattern(interval, ax, index, total):\n",
    "    ax.add_patch(patches.Rectangle(\n",
    "        xy=(interval[0,0], interval[1,0]),\n",
    "        width=interval[0,1] - interval[0,0],\n",
    "        height=interval[1,1] - interval[1,0],\n",
    "        facecolor='none',\n",
    "        edgecolor=cmap(index/total),\n",
    "        label=index\n",
    "    )\n",
    "    )\n",
    "\n",
    "\n",
    "plt.scatter(x=training_points[:,0], y=training_points[:,1])\n",
    "plt.scatter(x=point_to_be_classified[0], y=point_to_be_classified[1], marker=\"x\")\n",
    "ax = plt.gca()\n",
    "total = len(problem.trajectory)\n",
    "for i, interval in enumerate(problem.trajectory):\n",
    "    draw2dpattern(interval, ax, i, total)\n",
    "ax.legend(bbox_to_anchor=(1.1, 1.1))\n",
    "plt.show()"
   ],
   "metadata": {
    "collapsed": false,
    "pycharm": {
     "name": "#%%\n"
    }
   }
  },
  {
   "cell_type": "markdown",
   "source": [
    "## Implementing PAC-RPAD algorithm."
   ],
   "metadata": {
    "collapsed": false,
    "pycharm": {
     "name": "#%% md\n"
    }
   }
  },
  {
   "cell_type": "code",
   "execution_count": 2,
   "outputs": [],
   "source": [
    "from typing import Callable\n",
    "import numpy as np\n",
    "from patterns import AxisAlignedHyperRectangle, find_bounding_pattern\n",
    "\n",
    "class PACRPAD:\n",
    "    \"\"\"\n",
    "    Superclass for all PAC-RPAD implementations\n",
    "    \"\"\"\n",
    "    def __init__(self, tau, epsilon, delta):\n",
    "        self.tau = tau\n",
    "        self.epsilon = epsilon\n",
    "        self.delta = delta\n",
    "        self.find_min_f_hat: Callable[[np.ndarray], float] = lambda *_: 0. #this function should be provided by each subclass based on training data\n",
    "\n",
    "    def has_rare_pattern(self, point):\n",
    "        return self.find_min_f_hat(point) <= self.tau + self.epsilon / 2"
   ],
   "metadata": {
    "collapsed": false,
    "pycharm": {
     "name": "#%%\n"
    }
   }
  },
  {
   "cell_type": "code",
   "execution_count": 3,
   "outputs": [],
   "source": [
    "\n",
    "class AxisAlignedHyperRectanglePACRPAD(PACRPAD):\n",
    "    def __init__(self, tau, epsilon, delta):\n",
    "        super(AxisAlignedHyperRectanglePACRPAD).__init__(tau, epsilon, delta)\n",
    "        self.solver = None\n",
    "\n",
    "    def construct_f_hat_estimator(self, training_data, absolute_gap=0.01, queue_strategy=\"bound\"):\n",
    "        self.solver = partial(BranchAndBoundSolver, training_data = training_data)\n",
    "        super().find_min_f_hat = lambda point: pybnb.Solver(comm=None).solve(self.solver(point_to_be_classified = point),\n",
    "                                                                             absolute_gap=absolute_gap,\n",
    "                                                                             queue_strategy=queue_strategy\n",
    "                                                                             )\n",
    "\n",
    "class RandomForestApproximatePACRPAD(PACRPAD):\n",
    "    def __init__(self, tau, epsilon, delta):\n",
    "        super(RandomForestApproximatePACRPAD).__init__(tau, epsilon, delta)\n",
    "        self.random_forest = None\n",
    "\n",
    "    def construct_f_hat_estimator(self, training_data):\n",
    "        self.random_forest = IsolationForest(random_state=0).fit(training_data)\n",
    "        bounding_pattern = find_bounding_pattern(training_data)\n",
    "\n",
    "        def find_pattern_in_tree(tree, point:np.array):\n",
    "            features = tree.feature\n",
    "            thresholds = tree.threshold\n",
    "            intervals = bounding_pattern.intervals\n",
    "\n",
    "            point = point.reshape(1,-1)\n",
    "            node_index = tree.decision_path(point).indices[0]\n",
    "\n",
    "            while len(node_index) > 0:\n",
    "                node_id = node_index.pop()\n",
    "                f = features[node_id]\n",
    "                t = thresholds[node_id]\n",
    "                intervals[point[f] > t,f] = t\n",
    "\n",
    "            return tree.n_node_samples[node_index], AxisAlignedHyperRectangle(intervals)\n",
    "\n",
    "        def evaluate_f_hat(tree, point):\n",
    "            samples, pattern = find_pattern_in_tree(tree, point)\n",
    "            return (samples * bounding_pattern.area)/(pattern.area * len(training_data))\n",
    "\n",
    "        super().find_min_f_hat = lambda point : min([evaluate_f_hat(estimator.tree_, point) for estimator in self.random_forest.estimators_])\n"
   ],
   "metadata": {
    "collapsed": false,
    "pycharm": {
     "name": "#%%\n"
    }
   }
  },
  {
   "cell_type": "code",
   "execution_count": 12,
   "outputs": [],
   "source": [
    "training_points = multivariate_normal.rvs(size=(200,2))\n",
    "rf = IsolationForest().fit(training_points)"
   ],
   "metadata": {
    "collapsed": false,
    "pycharm": {
     "name": "#%%\n"
    }
   }
  },
  {
   "cell_type": "code",
   "execution_count": 13,
   "outputs": [
    {
     "data": {
      "text/plain": "array([ 0,  0, -2,  0,  1, -2, -2,  1,  0,  0,  0,  0, -2, -2,  1, -2, -2,\n        1, -2,  0, -2, -2,  1,  0,  0, -2, -2, -2,  0,  1, -2, -2,  1, -2,\n       -2,  1, -2,  1, -2,  1, -2, -2,  0,  1,  1,  0,  1, -2,  0,  0, -2,\n       -2, -2,  0,  1, -2, -2,  1, -2, -2,  1, -2, -2,  1,  1,  0,  1,  1,\n       -2, -2,  0, -2, -2,  0,  0, -2, -2,  1, -2, -2,  0, -2,  1,  0, -2,\n       -2,  1, -2, -2,  1, -2,  1, -2, -2,  1,  0,  1, -2,  1,  0,  0, -2,\n       -2,  0, -2, -2, -2,  1, -2,  1,  1,  0, -2, -2, -2,  1,  0, -2, -2,\n       -2, -2], dtype=int64)"
     },
     "execution_count": 13,
     "metadata": {},
     "output_type": "execute_result"
    }
   ],
   "source": [],
   "metadata": {
    "collapsed": false,
    "pycharm": {
     "name": "#%%\n"
    }
   }
  },
  {
   "cell_type": "code",
   "execution_count": 48,
   "outputs": [
    {
     "data": {
      "text/plain": "[Text(0.3362198795180723, 0.9444444444444444, 'X[0] <= -1.94\\nsquared_error = 0.087\\nsamples = 200\\nvalue = 0.469'),\n Text(0.024096385542168676, 0.8333333333333334, 'X[0] <= -2.616\\nsquared_error = 0.047\\nsamples = 7\\nvalue = 0.535'),\n Text(0.012048192771084338, 0.7222222222222222, 'squared_error = 0.0\\nsamples = 1\\nvalue = 0.254'),\n Text(0.03614457831325301, 0.7222222222222222, 'X[1] <= -1.217\\nsquared_error = 0.039\\nsamples = 6\\nvalue = 0.581'),\n Text(0.024096385542168676, 0.6111111111111112, 'squared_error = 0.0\\nsamples = 1\\nvalue = 0.565'),\n Text(0.04819277108433735, 0.6111111111111112, 'X[1] <= 0.707\\nsquared_error = 0.047\\nsamples = 5\\nvalue = 0.585'),\n Text(0.03614457831325301, 0.5, 'X[0] <= -2.324\\nsquared_error = 0.055\\nsamples = 4\\nvalue = 0.612'),\n Text(0.024096385542168676, 0.3888888888888889, 'squared_error = 0.0\\nsamples = 1\\nvalue = 0.909'),\n Text(0.04819277108433735, 0.3888888888888889, 'X[0] <= -2.05\\nsquared_error = 0.034\\nsamples = 3\\nvalue = 0.513'),\n Text(0.03614457831325301, 0.2777777777777778, 'X[0] <= -2.212\\nsquared_error = 0.001\\nsamples = 2\\nvalue = 0.383'),\n Text(0.024096385542168676, 0.16666666666666666, 'squared_error = 0.0\\nsamples = 1\\nvalue = 0.407'),\n Text(0.04819277108433735, 0.16666666666666666, 'squared_error = -0.0\\nsamples = 1\\nvalue = 0.358'),\n Text(0.060240963855421686, 0.2777777777777778, 'squared_error = 0.0\\nsamples = 1\\nvalue = 0.773'),\n Text(0.060240963855421686, 0.5, 'squared_error = -0.0\\nsamples = 1\\nvalue = 0.476'),\n Text(0.6483433734939759, 0.8333333333333334, 'X[0] <= 1.071\\nsquared_error = 0.088\\nsamples = 193\\nvalue = 0.467'),\n Text(0.3644578313253012, 0.7222222222222222, 'X[0] <= 0.026\\nsquared_error = 0.085\\nsamples = 160\\nvalue = 0.487'),\n Text(0.2063253012048193, 0.6111111111111112, 'X[0] <= -0.078\\nsquared_error = 0.081\\nsamples = 94\\nvalue = 0.452'),\n Text(0.1355421686746988, 0.5, 'X[0] <= -1.818\\nsquared_error = 0.079\\nsamples = 90\\nvalue = 0.45'),\n Text(0.0963855421686747, 0.3888888888888889, 'X[0] <= -1.837\\nsquared_error = 0.115\\nsamples = 2\\nvalue = 0.428'),\n Text(0.08433734939759036, 0.2777777777777778, 'squared_error = 0.0\\nsamples = 1\\nvalue = 0.768'),\n Text(0.10843373493975904, 0.2777777777777778, 'squared_error = -0.0\\nsamples = 1\\nvalue = 0.089'),\n Text(0.1746987951807229, 0.3888888888888889, 'X[1] <= 1.696\\nsquared_error = 0.078\\nsamples = 88\\nvalue = 0.45'),\n Text(0.13253012048192772, 0.2777777777777778, 'X[0] <= -0.317\\nsquared_error = 0.079\\nsamples = 85\\nvalue = 0.448'),\n Text(0.10843373493975904, 0.16666666666666666, 'X[0] <= -0.708\\nsquared_error = 0.079\\nsamples = 65\\nvalue = 0.433'),\n Text(0.0963855421686747, 0.05555555555555555, 'squared_error = 0.09\\nsamples = 39\\nvalue = 0.435'),\n Text(0.12048192771084337, 0.05555555555555555, 'squared_error = 0.062\\nsamples = 26\\nvalue = 0.43'),\n Text(0.1566265060240964, 0.16666666666666666, 'X[0] <= -0.257\\nsquared_error = 0.074\\nsamples = 20\\nvalue = 0.498'),\n Text(0.14457831325301204, 0.05555555555555555, 'squared_error = 0.073\\nsamples = 4\\nvalue = 0.415'),\n Text(0.1686746987951807, 0.05555555555555555, 'squared_error = 0.072\\nsamples = 16\\nvalue = 0.519'),\n Text(0.21686746987951808, 0.2777777777777778, 'X[1] <= 2.555\\nsquared_error = 0.067\\nsamples = 3\\nvalue = 0.512'),\n Text(0.20481927710843373, 0.16666666666666666, 'X[1] <= 2.196\\nsquared_error = 0.04\\nsamples = 2\\nvalue = 0.655'),\n Text(0.1927710843373494, 0.05555555555555555, 'squared_error = 0.0\\nsamples = 1\\nvalue = 0.456'),\n Text(0.21686746987951808, 0.05555555555555555, 'squared_error = 0.0\\nsamples = 1\\nvalue = 0.854'),\n Text(0.2289156626506024, 0.16666666666666666, 'squared_error = -0.0\\nsamples = 1\\nvalue = 0.228'),\n Text(0.27710843373493976, 0.5, 'X[0] <= -0.02\\nsquared_error = 0.118\\nsamples = 4\\nvalue = 0.507'),\n Text(0.25301204819277107, 0.3888888888888889, 'X[1] <= 0.48\\nsquared_error = 0.002\\nsamples = 2\\nvalue = 0.847'),\n Text(0.24096385542168675, 0.2777777777777778, 'squared_error = 0.0\\nsamples = 1\\nvalue = 0.888'),\n Text(0.26506024096385544, 0.2777777777777778, 'squared_error = -0.0\\nsamples = 1\\nvalue = 0.806'),\n Text(0.30120481927710846, 0.3888888888888889, 'X[1] <= 0.678\\nsquared_error = 0.003\\nsamples = 2\\nvalue = 0.168'),\n Text(0.2891566265060241, 0.2777777777777778, 'squared_error = 0.0\\nsamples = 1\\nvalue = 0.109'),\n Text(0.3132530120481928, 0.2777777777777778, 'squared_error = -0.0\\nsamples = 1\\nvalue = 0.226'),\n Text(0.5225903614457831, 0.6111111111111112, 'X[1] <= 0.012\\nsquared_error = 0.086\\nsamples = 66\\nvalue = 0.536'),\n Text(0.39156626506024095, 0.5, 'X[1] <= -2.195\\nsquared_error = 0.104\\nsamples = 36\\nvalue = 0.513'),\n Text(0.3493975903614458, 0.3888888888888889, 'X[1] <= -2.519\\nsquared_error = 0.036\\nsamples = 2\\nvalue = 0.454'),\n Text(0.3373493975903614, 0.2777777777777778, 'squared_error = 0.0\\nsamples = 1\\nvalue = 0.265'),\n Text(0.3614457831325301, 0.2777777777777778, 'squared_error = 0.0\\nsamples = 1\\nvalue = 0.642'),\n Text(0.43373493975903615, 0.3888888888888889, 'X[0] <= 0.877\\nsquared_error = 0.108\\nsamples = 34\\nvalue = 0.517'),\n Text(0.3855421686746988, 0.2777777777777778, 'X[0] <= 0.136\\nsquared_error = 0.114\\nsamples = 25\\nvalue = 0.506'),\n Text(0.3614457831325301, 0.16666666666666666, 'X[1] <= -0.869\\nsquared_error = 0.034\\nsamples = 4\\nvalue = 0.838'),\n Text(0.3493975903614458, 0.05555555555555555, 'squared_error = 0.0\\nsamples = 2\\nvalue = 0.967'),\n Text(0.37349397590361444, 0.05555555555555555, 'squared_error = 0.036\\nsamples = 2\\nvalue = 0.709'),\n Text(0.40963855421686746, 0.16666666666666666, 'X[0] <= 0.681\\nsquared_error = 0.105\\nsamples = 21\\nvalue = 0.443'),\n Text(0.39759036144578314, 0.05555555555555555, 'squared_error = 0.105\\nsamples = 17\\nvalue = 0.427'),\n Text(0.42168674698795183, 0.05555555555555555, 'squared_error = 0.096\\nsamples = 4\\nvalue = 0.511'),\n Text(0.4819277108433735, 0.2777777777777778, 'X[1] <= -1.411\\nsquared_error = 0.088\\nsamples = 9\\nvalue = 0.547'),\n Text(0.4578313253012048, 0.16666666666666666, 'X[0] <= 1.04\\nsquared_error = 0.077\\nsamples = 4\\nvalue = 0.44'),\n Text(0.4457831325301205, 0.05555555555555555, 'squared_error = 0.039\\nsamples = 3\\nvalue = 0.567'),\n Text(0.46987951807228917, 0.05555555555555555, 'squared_error = 0.0\\nsamples = 1\\nvalue = 0.061'),\n Text(0.5060240963855421, 0.16666666666666666, 'X[1] <= -0.718\\nsquared_error = 0.08\\nsamples = 5\\nvalue = 0.633'),\n Text(0.4939759036144578, 0.05555555555555555, 'squared_error = 0.099\\nsamples = 3\\nvalue = 0.618'),\n Text(0.5180722891566265, 0.05555555555555555, 'squared_error = 0.05\\nsamples = 2\\nvalue = 0.657'),\n Text(0.6536144578313253, 0.5, 'X[1] <= 1.27\\nsquared_error = 0.063\\nsamples = 30\\nvalue = 0.564'),\n Text(0.5963855421686747, 0.3888888888888889, 'X[1] <= 0.163\\nsquared_error = 0.059\\nsamples = 23\\nvalue = 0.578'),\n Text(0.5662650602409639, 0.2777777777777778, 'X[1] <= 0.127\\nsquared_error = 0.074\\nsamples = 5\\nvalue = 0.492'),\n Text(0.5542168674698795, 0.16666666666666666, 'X[1] <= 0.049\\nsquared_error = 0.091\\nsamples = 4\\nvalue = 0.51'),\n Text(0.5421686746987951, 0.05555555555555555, 'squared_error = 0.003\\nsamples = 2\\nvalue = 0.798'),\n Text(0.5662650602409639, 0.05555555555555555, 'squared_error = 0.013\\nsamples = 2\\nvalue = 0.221'),\n Text(0.5783132530120482, 0.16666666666666666, 'squared_error = 0.0\\nsamples = 1\\nvalue = 0.423'),\n Text(0.6265060240963856, 0.2777777777777778, 'X[1] <= 1.047\\nsquared_error = 0.052\\nsamples = 18\\nvalue = 0.602'),\n Text(0.6024096385542169, 0.16666666666666666, 'X[1] <= 0.234\\nsquared_error = 0.053\\nsamples = 15\\nvalue = 0.603'),\n Text(0.5903614457831325, 0.05555555555555555, 'squared_error = 0.0\\nsamples = 1\\nvalue = 0.499'),\n Text(0.6144578313253012, 0.05555555555555555, 'squared_error = 0.055\\nsamples = 14\\nvalue = 0.611'),\n Text(0.6506024096385542, 0.16666666666666666, 'X[1] <= 1.062\\nsquared_error = 0.047\\nsamples = 3\\nvalue = 0.598'),\n Text(0.6385542168674698, 0.05555555555555555, 'squared_error = 0.0\\nsamples = 1\\nvalue = 0.443'),\n Text(0.6626506024096386, 0.05555555555555555, 'squared_error = 0.052\\nsamples = 2\\nvalue = 0.675'),\n Text(0.7108433734939759, 0.3888888888888889, 'X[0] <= 0.755\\nsquared_error = 0.076\\nsamples = 7\\nvalue = 0.516'),\n Text(0.6867469879518072, 0.2777777777777778, 'X[1] <= 1.361\\nsquared_error = 0.092\\nsamples = 5\\nvalue = 0.464'),\n Text(0.6746987951807228, 0.16666666666666666, 'squared_error = 0.0\\nsamples = 1\\nvalue = 0.479'),\n Text(0.6987951807228916, 0.16666666666666666, 'X[0] <= 0.34\\nsquared_error = 0.115\\nsamples = 4\\nvalue = 0.46'),\n Text(0.6867469879518072, 0.05555555555555555, 'squared_error = 0.0\\nsamples = 1\\nvalue = 0.989'),\n Text(0.7108433734939759, 0.05555555555555555, 'squared_error = 0.029\\nsamples = 3\\nvalue = 0.284'),\n Text(0.7349397590361446, 0.2777777777777778, 'X[0] <= 0.972\\nsquared_error = 0.011\\nsamples = 2\\nvalue = 0.645'),\n Text(0.7228915662650602, 0.16666666666666666, 'squared_error = 0.0\\nsamples = 1\\nvalue = 0.541'),\n Text(0.7469879518072289, 0.16666666666666666, 'squared_error = 0.0\\nsamples = 1\\nvalue = 0.749'),\n Text(0.9322289156626506, 0.7222222222222222, 'X[0] <= 2.443\\nsquared_error = 0.093\\nsamples = 33\\nvalue = 0.368'),\n Text(0.9201807228915663, 0.6111111111111112, 'X[1] <= 1.964\\nsquared_error = 0.093\\nsamples = 32\\nvalue = 0.379'),\n Text(0.8765060240963856, 0.5, 'X[0] <= 1.162\\nsquared_error = 0.092\\nsamples = 29\\nvalue = 0.381'),\n Text(0.8253012048192772, 0.3888888888888889, 'X[0] <= 1.127\\nsquared_error = 0.108\\nsamples = 7\\nvalue = 0.488'),\n Text(0.7951807228915663, 0.2777777777777778, 'X[1] <= 0.107\\nsquared_error = 0.067\\nsamples = 5\\nvalue = 0.334'),\n Text(0.7710843373493976, 0.16666666666666666, 'X[1] <= -1.177\\nsquared_error = 0.069\\nsamples = 3\\nvalue = 0.463'),\n Text(0.7590361445783133, 0.05555555555555555, 'squared_error = 0.0\\nsamples = 1\\nvalue = 0.223'),\n Text(0.7831325301204819, 0.05555555555555555, 'squared_error = 0.06\\nsamples = 2\\nvalue = 0.584'),\n Text(0.8192771084337349, 0.16666666666666666, 'X[0] <= 1.106\\nsquared_error = 0.001\\nsamples = 2\\nvalue = 0.14'),\n Text(0.8072289156626506, 0.05555555555555555, 'squared_error = 0.0\\nsamples = 1\\nvalue = 0.108'),\n Text(0.8313253012048193, 0.05555555555555555, 'squared_error = -0.0\\nsamples = 1\\nvalue = 0.171'),\n Text(0.8554216867469879, 0.2777777777777778, 'X[1] <= -0.977\\nsquared_error = 0.005\\nsamples = 2\\nvalue = 0.872'),\n Text(0.8433734939759037, 0.16666666666666666, 'squared_error = 0.0\\nsamples = 1\\nvalue = 0.8'),\n Text(0.8674698795180723, 0.16666666666666666, 'squared_error = 0.0\\nsamples = 1\\nvalue = 0.944'),\n Text(0.927710843373494, 0.3888888888888889, 'X[1] <= 1.877\\nsquared_error = 0.083\\nsamples = 22\\nvalue = 0.347'),\n Text(0.9156626506024096, 0.2777777777777778, 'X[1] <= -0.101\\nsquared_error = 0.081\\nsamples = 21\\nvalue = 0.363'),\n Text(0.891566265060241, 0.16666666666666666, 'X[1] <= -1.596\\nsquared_error = 0.072\\nsamples = 7\\nvalue = 0.605'),\n Text(0.8795180722891566, 0.05555555555555555, 'squared_error = 0.0\\nsamples = 1\\nvalue = 0.491'),\n Text(0.9036144578313253, 0.05555555555555555, 'squared_error = 0.082\\nsamples = 6\\nvalue = 0.625'),\n Text(0.9397590361445783, 0.16666666666666666, 'X[1] <= 1.168\\nsquared_error = 0.042\\nsamples = 14\\nvalue = 0.241'),\n Text(0.927710843373494, 0.05555555555555555, 'squared_error = 0.047\\nsamples = 10\\nvalue = 0.226'),\n Text(0.9518072289156626, 0.05555555555555555, 'squared_error = 0.025\\nsamples = 4\\nvalue = 0.279'),\n Text(0.9397590361445783, 0.2777777777777778, 'squared_error = -0.0\\nsamples = 1\\nvalue = 0.024'),\n Text(0.963855421686747, 0.5, 'X[0] <= 1.456\\nsquared_error = 0.093\\nsamples = 3\\nvalue = 0.359'),\n Text(0.9518072289156626, 0.3888888888888889, 'squared_error = 0.0\\nsamples = 1\\nvalue = 0.759'),\n Text(0.9759036144578314, 0.3888888888888889, 'X[0] <= 1.551\\nsquared_error = 0.02\\nsamples = 2\\nvalue = 0.159'),\n Text(0.963855421686747, 0.2777777777777778, 'squared_error = 0.0\\nsamples = 1\\nvalue = 0.3'),\n Text(0.9879518072289156, 0.2777777777777778, 'squared_error = -0.0\\nsamples = 1\\nvalue = 0.018'),\n Text(0.9442771084337349, 0.6111111111111112, 'squared_error = 0.0\\nsamples = 1\\nvalue = 0.022')]"
     },
     "execution_count": 48,
     "metadata": {},
     "output_type": "execute_result"
    },
    {
     "data": {
      "text/plain": "<Figure size 432x288 with 1 Axes>",
      "image/png": "[encoded data removed]"
     },
     "metadata": {
      "needs_background": "light"
     },
     "output_type": "display_data"
    }
   ],
   "source": [
    "from sklearn import tree\n",
    "tree.plot_tree(rf.estimators_[0])"
   ],
   "metadata": {
    "collapsed": false,
    "pycharm": {
     "name": "#%%\n"
    }
   }
  },
  {
   "cell_type": "code",
   "execution_count": 19,
   "outputs": [
    {
     "name": "stdout",
     "output_type": "stream",
     "text": [
      "  (0, 0)\t1\n",
      "  (0, 42)\t1\n",
      "  (0, 43)\t1\n",
      "  (0, 63)\t1\n",
      "  (0, 64)\t1\n",
      "  (0, 65)\t1\n",
      "  (0, 66)\t1\n",
      "  (0, 70)\t1\n",
      "  (0, 71)\t1\n"
     ]
    }
   ],
   "source": [
    "print(rf.estimators_[0].decision_path(training_points[0].reshape(1, -1)))\n"
   ],
   "metadata": {
    "collapsed": false,
    "pycharm": {
     "name": "#%%\n"
    }
   }
  },
  {
   "cell_type": "code",
   "execution_count": 20,
   "outputs": [
    {
     "data": {
      "text/plain": "array([71])"
     },
     "execution_count": 20,
     "metadata": {},
     "output_type": "execute_result"
    }
   ],
   "source": [
    "rf.estimators_[0].apply(training_points[0].reshape(1, -1))"
   ],
   "metadata": {
    "collapsed": false,
    "pycharm": {
     "name": "#%%\n"
    }
   }
  },
  {
   "cell_type": "code",
   "execution_count": 18,
   "outputs": [],
   "source": [
    "node_indicator = rf.estimators_[0].decision_path(training_points[0].reshape(1, -1))\n",
    "sample_id = 0\n",
    "# obtain ids of the nodes `sample_id` goes through, i.e., row `sample_id`\n",
    "node_index = node_indicator.indices[0]\n",
    "             # node_indicator.indptr[sample_id] : node_indicator.indptr[sample_id + 1]\n",
    "             # ]"
   ],
   "metadata": {
    "collapsed": false,
    "pycharm": {
     "name": "#%%\n"
    }
   }
  },
  {
   "cell_type": "code",
   "execution_count": 16,
   "outputs": [
    {
     "data": {
      "text/plain": "array([ 0, 42, 43, 63, 64, 65, 66, 70, 71], dtype=int32)"
     },
     "execution_count": 16,
     "metadata": {},
     "output_type": "execute_result"
    }
   ],
   "source": [
    "node_index"
   ],
   "metadata": {
    "collapsed": false,
    "pycharm": {
     "name": "#%%\n"
    }
   }
  },
  {
   "cell_type": "code",
   "execution_count": 8,
   "outputs": [
    {
     "data": {
      "text/plain": "(1, 2)"
     },
     "execution_count": 8,
     "metadata": {},
     "output_type": "execute_result"
    }
   ],
   "source": [
    "training_points[0].reshape(1, -1).shape"
   ],
   "metadata": {
    "collapsed": false,
    "pycharm": {
     "name": "#%%\n"
    }
   }
  },
  {
   "cell_type": "code",
   "execution_count": null,
   "outputs": [],
   "source": [],
   "metadata": {
    "collapsed": false,
    "pycharm": {
     "name": "#%%\n"
    }
   }
  }
 ],
 "metadata": {
  "kernelspec": {
   "display_name": "Python 3",
   "language": "python",
   "name": "python3"
  },
  "language_info": {
   "codemirror_mode": {
    "name": "ipython",
    "version": 2
   },
   "file_extension": ".py",
   "mimetype": "text/x-python",
   "name": "python",
   "nbconvert_exporter": "python",
   "pygments_lexer": "ipython2",
   "version": "2.7.6"
  }
 },
 "nbformat": 4,
 "nbformat_minor": 0
}