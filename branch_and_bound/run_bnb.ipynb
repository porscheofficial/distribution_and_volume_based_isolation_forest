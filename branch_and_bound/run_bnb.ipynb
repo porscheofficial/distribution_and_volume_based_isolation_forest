{
 "cells": [
  {
   "cell_type": "code",
   "execution_count": 6,
   "metadata": {
    "collapsed": true,
    "pycharm": {
     "name": "#%%\n"
    }
   },
   "outputs": [
    {
     "name": "stdout",
     "output_type": "stream",
     "text": [
      "The autoreload extension is already loaded. To reload it, use:\n",
      "  %reload_ext autoreload\n"
     ]
    }
   ],
   "source": [
    "from scipy.stats import multivariate_normal\n",
    "import pybnb\n",
    "from functools import partial\n",
    "from sklearn.ensemble import IsolationForest\n",
    "\n",
    "%load_ext autoreload\n",
    "%autoreload 2\n",
    "\n",
    "from BranchAndBoundSolver import BranchAndBoundSolver, BranchAndBoundTopDown, BranchAndBoundBottomUp"
   ]
  },
  {
   "cell_type": "code",
   "execution_count": 14,
   "outputs": [],
   "source": [
    "training_points = multivariate_normal.rvs(size=(5,2))\n",
    "point_to_be_classified = training_points[0]"
   ],
   "metadata": {
    "collapsed": false,
    "pycharm": {
     "name": "#%%\n"
    }
   }
  },
  {
   "cell_type": "code",
   "execution_count": 20,
   "outputs": [
    {
     "name": "stdout",
     "output_type": "stream",
     "text": [
      "point: [-0.62341617 -0.39639574]\n",
      "Starting branch & bound solve:\n",
      " - dispatcher pid: 76332 (MacBook-Pro-2.local)\n",
      " - worker processes: 1\n",
      "--------------------------------------------------------------------------------------------------------------------------\n",
      "         Nodes        |                      Objective Bounds                       |              Work              \n",
      "      Expl    Unexpl  |      Incumbent           Bound    Rel. Gap         Abs. Gap | Time (s)  Nodes/Sec Imbalance   Idle\n",
      "         0         1  |            inf            -inf         inf%             inf |      0.0       0.00     0.00%      0\n",
      "*        1         4  |            0.6             0.2   40.000000%             0.4 |      0.0     200.04     0.00%      0\n",
      "*        6        15  |            0.4             0.2   20.000000%             0.2 |      0.0    1157.37     0.00%      0\n",
      "*       18         0  |            0.2             0.2    0.000000%               0 |      0.0    3407.81     0.00%      0\n",
      "--------------------------------------------------------------------------------------------------------------------------\n",
      "\n",
      "Absolute optimality tolerance met\n",
      "Optimal solution found!\n",
      "\n",
      "solver results:\n",
      " - solution_status: optimal\n",
      " - termination_condition: optimality\n",
      " - objective: 0.2\n",
      " - bound: 0.2\n",
      " - absolute_gap: 0\n",
      " - relative_gap: 0\n",
      " - nodes: 18\n",
      " - wall_time: 14.86 ms\n",
      " - best_node: Node(objective=0.2)\n",
      "\n"
     ]
    }
   ],
   "source": [
    "print(f\"point: {point_to_be_classified}\")\n",
    "problem = BranchAndBoundTopDown(training_points, point_to_be_classified, 0.1)\n",
    "solver = pybnb.Solver(comm=None)\n",
    "results = solver.solve(problem, absolute_gap=0)"
   ],
   "metadata": {
    "collapsed": false,
    "pycharm": {
     "name": "#%%\n"
    }
   }
  },
  {
   "cell_type": "code",
   "execution_count": 21,
   "outputs": [
    {
     "data": {
      "text/plain": "64"
     },
     "execution_count": 21,
     "metadata": {},
     "output_type": "execute_result"
    }
   ],
   "source": [
    "problem.counter_counter"
   ],
   "metadata": {
    "collapsed": false,
    "pycharm": {
     "name": "#%%\n"
    }
   }
  },
  {
   "cell_type": "code",
   "execution_count": 22,
   "outputs": [
    {
     "data": {
      "text/plain": "<Figure size 432x288 with 1 Axes>",
      "image/png": "[encoded data removed]"
     },
     "metadata": {
      "needs_background": "light"
     },
     "output_type": "display_data"
    }
   ],
   "source": [
    "from matplotlib import pyplot as plt\n",
    "import matplotlib.patches as patches\n",
    "%matplotlib inline\n",
    "cmap = plt.colormaps['viridis']\n",
    "def draw2dpattern(interval, ax, index, total):\n",
    "    ax.add_patch(patches.Rectangle(\n",
    "        xy=(interval[0,0], interval[1,0]),\n",
    "        width=interval[0,1] - interval[0,0],\n",
    "        height=interval[1,1] - interval[1,0],\n",
    "        facecolor='none',\n",
    "        edgecolor=cmap(index/total),\n",
    "        label=index\n",
    "    )\n",
    "    )\n",
    "\n",
    "\n",
    "plt.scatter(x=training_points[:,0], y=training_points[:,1])\n",
    "plt.scatter(x=point_to_be_classified[0], y=point_to_be_classified[1], marker=\"x\")\n",
    "ax = plt.gca()\n",
    "total = len(problem.trajectory)\n",
    "for i, interval in enumerate(problem.trajectory):\n",
    "    draw2dpattern(interval, ax, i, total)\n",
    "ax.legend(bbox_to_anchor=(1.1, 1.1))\n",
    "plt.show()"
   ],
   "metadata": {
    "collapsed": false,
    "pycharm": {
     "name": "#%%\n"
    }
   }
  },
  {
   "cell_type": "markdown",
   "source": [
    "## Implementing PAC-RPAD algorithm."
   ],
   "metadata": {
    "collapsed": false,
    "pycharm": {
     "name": "#%% md\n"
    }
   }
  },
  {
   "cell_type": "code",
   "execution_count": 7,
   "outputs": [],
   "source": [
    "from typing import Callable\n",
    "import numpy as np\n",
    "from patterns import AxisAlignedHyperRectangle, find_bounding_pattern\n",
    "\n",
    "class PACRPAD:\n",
    "    \"\"\"\n",
    "    Superclass for all PAC-RPAD implementations\n",
    "    \"\"\"\n",
    "    def __init__(self, tau, epsilon, delta):\n",
    "        self.tau = tau\n",
    "        self.epsilon = epsilon\n",
    "        self.delta = delta\n",
    "        self.find_min_f_hat: Callable[[np.ndarray], float] = lambda *_: 0. #this function should be provided by each subclass based on training data\n",
    "\n",
    "    def has_rare_pattern(self, point) -> bool:\n",
    "        return self.find_min_f_hat(point) <= self.tau + self.epsilon / 2"
   ],
   "metadata": {
    "collapsed": false,
    "pycharm": {
     "name": "#%%\n"
    }
   }
  },
  {
   "cell_type": "code",
   "execution_count": 74,
   "outputs": [],
   "source": [
    "\n",
    "class AxisAlignedHyperRectanglePACRPAD(PACRPAD):\n",
    "    def __init__(self, tau, epsilon, delta):\n",
    "        super().__init__(tau, epsilon, delta)\n",
    "        self.solver = None\n",
    "\n",
    "    def construct_f_hat_estimator(self, training_data, absolute_gap=0.01, queue_strategy=\"bound\"):\n",
    "        self.solver = partial(BranchAndBoundSolver, training_data = training_data)\n",
    "        self.find_min_f_hat = lambda point: pybnb.Solver(comm=None).solve(self.solver(point_to_be_classified = point),\n",
    "                                                                             absolute_gap=absolute_gap,\n",
    "                                                                             queue_strategy=queue_strategy\n",
    "                                                                             ).objective\n",
    "\n",
    "class RandomForestApproximatePACRPAD(PACRPAD):\n",
    "    def __init__(self, tau, epsilon, delta):\n",
    "        super().__init__(tau, epsilon, delta)\n",
    "        self.random_forest = None\n",
    "\n",
    "    def construct_f_hat_estimator(self, training_data, n_estimators=100):\n",
    "        self.random_forest = IsolationForest(random_state=0, n_estimators=n_estimators).fit(training_data)\n",
    "        bounding_pattern = find_bounding_pattern(training_data)\n",
    "\n",
    "        def find_pattern_in_tree(tree, point:np.array):\n",
    "            features = tree.feature\n",
    "            thresholds = tree.threshold\n",
    "            intervals = bounding_pattern.intervals\n",
    "\n",
    "            point = point.astype(np.float32).reshape(1,-1)\n",
    "            node_index = list(tree.decision_path(point).indices)\n",
    "            #going through the non-leaf nodes to and updating threshold along the way:\n",
    "            while len(node_index) > 1:\n",
    "                node_id = node_index.pop()\n",
    "                f = features[node_id]\n",
    "                t = thresholds[node_id]\n",
    "                intervals[point[f] > t,f] = t\n",
    "            # the output of this function is the numper of samples in the pattern, together with the rectangle\n",
    "            return tree.n_node_samples[node_index[0]], AxisAlignedHyperRectangle(intervals)\n",
    "\n",
    "        def evaluate_f_hat(tree, point):\n",
    "            samples, pattern = find_pattern_in_tree(tree, point)\n",
    "            return (samples * bounding_pattern.area)/(pattern.area * len(training_data))\n",
    "\n",
    "        self.find_min_f_hat = lambda point : min([evaluate_f_hat(estimator.tree_, point) for estimator in self.random_forest.estimators_])"
   ],
   "metadata": {
    "collapsed": false,
    "pycharm": {
     "name": "#%%\n"
    }
   }
  },
  {
   "cell_type": "code",
   "execution_count": 66,
   "outputs": [],
   "source": [
    "delta = 0.1\n",
    "epsilon = 0.1\n",
    "tau = 0.1\n",
    "exact = AxisAlignedHyperRectanglePACRPAD(tau, epsilon, delta)\n",
    "exact.construct_f_hat_estimator(training_points)\n",
    "exact.has_rare_pattern(training_points[0])"
   ],
   "metadata": {
    "collapsed": false,
    "pycharm": {
     "name": "#%%\n"
    }
   }
  },
  {
   "cell_type": "code",
   "execution_count": 75,
   "outputs": [],
   "source": [
    "approximates = []\n",
    "for est in [100, 1000, 10000]:\n",
    "    approximate = RandomForestApproximatePACRPAD(tau, epsilon, delta)\n",
    "    approximate.construct_f_hat_estimator(training_points, n_estimators=est)\n",
    "    approximates.append(approximate)\n"
   ],
   "metadata": {
    "collapsed": false,
    "pycharm": {
     "name": "#%%\n"
    }
   }
  },
  {
   "cell_type": "code",
   "execution_count": null,
   "outputs": [],
   "source": [
    "training_points = sample(100)\n",
    "training_points.save_to_file()\n",
    "\n",
    "labels = np.zeroes((len(training_points), len(approximates) + 1))\n",
    "for i, point in enumerate(training_points):\n",
    "    exact_solution = exact.has_rare_pattern(point)\n",
    "    approx = map(lambda a: a.has_rare_pattern, approximates)\n",
    "    # fill_labels\n",
    "\n",
    "#plot_outcome\n",
    "#bar plot\n",
    "\n"
   ],
   "metadata": {
    "collapsed": false,
    "pycharm": {
     "name": "#%%\n"
    }
   }
  }
 ],
 "metadata": {
  "kernelspec": {
   "display_name": "Python 3",
   "language": "python",
   "name": "python3"
  },
  "language_info": {
   "codemirror_mode": {
    "name": "ipython",
    "version": 2
   },
   "file_extension": ".py",
   "mimetype": "text/x-python",
   "name": "python",
   "nbconvert_exporter": "python",
   "pygments_lexer": "ipython2",
   "version": "2.7.6"
  }
 },
 "nbformat": 4,
 "nbformat_minor": 0
}