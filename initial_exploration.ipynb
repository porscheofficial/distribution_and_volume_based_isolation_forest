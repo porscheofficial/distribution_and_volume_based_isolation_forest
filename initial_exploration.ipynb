{
 "cells": [
  {
   "cell_type": "code",
   "execution_count": 4,
   "source": [
    "import pandas as pd\n",
    "import seaborn as sns"
   ],
   "outputs": [],
   "metadata": {}
  },
  {
   "cell_type": "markdown",
   "source": [
    "### Initial formatting and parsing"
   ],
   "metadata": {
    "collapsed": false,
    "pycharm": {
     "name": "#%% md\n"
    }
   }
  },
  {
   "cell_type": "code",
   "execution_count": 5,
   "source": [
    "df = pd.read_excel(\"ACDC_Component_Cracks_2022.03.03-04(16).xlsx\")"
   ],
   "outputs": [],
   "metadata": {
    "collapsed": false,
    "pycharm": {
     "name": "#%%\n"
    }
   }
  },
  {
   "cell_type": "code",
   "execution_count": 36,
   "source": [
    "df.head()"
   ],
   "outputs": [
    {
     "output_type": "execute_result",
     "data": {
      "text/plain": [
       "   signalId           signalName      date  physicalSignalValue\n",
       "0    132706  FA_Hoehenwert_HL_00  20220303                -40.0\n",
       "1    132706  FA_Hoehenwert_HL_00  20220303                -50.0\n",
       "2    132706  FA_Hoehenwert_HL_00  20220303                -60.0\n",
       "3    132706  FA_Hoehenwert_HL_00  20220303                -30.0\n",
       "4    132706  FA_Hoehenwert_HL_00  20220303                -10.0"
      ],
      "text/html": [
       "<div>\n",
       "<style scoped>\n",
       "    .dataframe tbody tr th:only-of-type {\n",
       "        vertical-align: middle;\n",
       "    }\n",
       "\n",
       "    .dataframe tbody tr th {\n",
       "        vertical-align: top;\n",
       "    }\n",
       "\n",
       "    .dataframe thead th {\n",
       "        text-align: right;\n",
       "    }\n",
       "</style>\n",
       "<table border=\"1\" class=\"dataframe\">\n",
       "  <thead>\n",
       "    <tr style=\"text-align: right;\">\n",
       "      <th></th>\n",
       "      <th>signalId</th>\n",
       "      <th>signalName</th>\n",
       "      <th>date</th>\n",
       "      <th>physicalSignalValue</th>\n",
       "    </tr>\n",
       "  </thead>\n",
       "  <tbody>\n",
       "    <tr>\n",
       "      <th>0</th>\n",
       "      <td>132706</td>\n",
       "      <td>FA_Hoehenwert_HL_00</td>\n",
       "      <td>20220303</td>\n",
       "      <td>-40.0</td>\n",
       "    </tr>\n",
       "    <tr>\n",
       "      <th>1</th>\n",
       "      <td>132706</td>\n",
       "      <td>FA_Hoehenwert_HL_00</td>\n",
       "      <td>20220303</td>\n",
       "      <td>-50.0</td>\n",
       "    </tr>\n",
       "    <tr>\n",
       "      <th>2</th>\n",
       "      <td>132706</td>\n",
       "      <td>FA_Hoehenwert_HL_00</td>\n",
       "      <td>20220303</td>\n",
       "      <td>-60.0</td>\n",
       "    </tr>\n",
       "    <tr>\n",
       "      <th>3</th>\n",
       "      <td>132706</td>\n",
       "      <td>FA_Hoehenwert_HL_00</td>\n",
       "      <td>20220303</td>\n",
       "      <td>-30.0</td>\n",
       "    </tr>\n",
       "    <tr>\n",
       "      <th>4</th>\n",
       "      <td>132706</td>\n",
       "      <td>FA_Hoehenwert_HL_00</td>\n",
       "      <td>20220303</td>\n",
       "      <td>-10.0</td>\n",
       "    </tr>\n",
       "  </tbody>\n",
       "</table>\n",
       "</div>"
      ]
     },
     "metadata": {},
     "execution_count": 36
    }
   ],
   "metadata": {
    "collapsed": false,
    "pycharm": {
     "name": "#%%\n"
    }
   }
  },
  {
   "cell_type": "code",
   "execution_count": 7,
   "source": [
    "df.signalName.unique()"
   ],
   "outputs": [
    {
     "output_type": "execute_result",
     "data": {
      "text/plain": [
       "array(['FA_Hoehenwert_HL_00', 'FA_BodyAcceleration_HL', 'ESP_v_Signal',\n",
       "       'FA_BodyAcceleration_VL', 'FA_BodyAcceleration_VR',\n",
       "       'FA_Hoehenwert_VL_00', 'FA_BodyAcceleration_HR',\n",
       "       'FA_Hoehenwert_VR_00', 'FA_Hoehenwert_HR_00'], dtype=object)"
      ]
     },
     "metadata": {},
     "execution_count": 7
    }
   ],
   "metadata": {
    "collapsed": false,
    "pycharm": {
     "name": "#%%\n"
    }
   }
  },
  {
   "cell_type": "code",
   "execution_count": 24,
   "source": [
    "dfESP = df[df.signalName == \"ESP_v_Signal\"]\n",
    "dfFA = df[df.signalName != \"ESP_v_Signal\"]"
   ],
   "outputs": [
    {
     "output_type": "execute_result",
     "data": {
      "text/plain": [
       "array(['FA_Hoehenwert_HL_00', 'FA_BodyAcceleration_HL',\n",
       "       'FA_BodyAcceleration_VL', 'FA_BodyAcceleration_VR',\n",
       "       'FA_Hoehenwert_VL_00', 'FA_BodyAcceleration_HR',\n",
       "       'FA_Hoehenwert_VR_00', 'FA_Hoehenwert_HR_00'], dtype=object)"
      ]
     },
     "metadata": {},
     "execution_count": 24
    }
   ],
   "metadata": {
    "collapsed": false,
    "pycharm": {
     "name": "#%%\n"
    }
   }
  },
  {
   "cell_type": "code",
   "execution_count": 26,
   "source": [
    "dfsplit = dfFA.signalName.apply(lambda x:x.split(\"_\"))\n",
    "dfFA = dfFA.assign(\n",
    "    signal = dfsplit.apply(lambda x: x[1]),\n",
    "    position = dfsplit.apply(lambda x: x[2]),\n",
    ").drop(columns=['signalId', 'date', 'signalName'])\n",
    "dfsplit"
   ],
   "outputs": [
    {
     "output_type": "execute_result",
     "data": {
      "text/plain": [
       "0       [FA, Hoehenwert, HL, 00]\n",
       "1       [FA, Hoehenwert, HL, 00]\n",
       "2       [FA, Hoehenwert, HL, 00]\n",
       "3       [FA, Hoehenwert, HL, 00]\n",
       "4       [FA, Hoehenwert, HL, 00]\n",
       "                  ...           \n",
       "2022    [FA, Hoehenwert, HR, 00]\n",
       "2023    [FA, Hoehenwert, HR, 00]\n",
       "2024    [FA, Hoehenwert, HR, 00]\n",
       "2025    [FA, Hoehenwert, HR, 00]\n",
       "2026    [FA, Hoehenwert, HR, 00]\n",
       "Name: signalName, Length: 1156, dtype: object"
      ]
     },
     "metadata": {},
     "execution_count": 26
    }
   ],
   "metadata": {
    "collapsed": false,
    "pycharm": {
     "name": "#%%\n"
    }
   }
  },
  {
   "cell_type": "code",
   "execution_count": 28,
   "source": [
    "dfH = dfFA[dfFA.signal == \"Hoehenwert\"]"
   ],
   "outputs": [
    {
     "output_type": "execute_result",
     "data": {
      "text/plain": [
       "      physicalSignalValue            signal position\n",
       "28           2.300000e+16  BodyAcceleration       HL\n",
       "29          -5.100000e+14  BodyAcceleration       HL\n",
       "30           2.700000e+15  BodyAcceleration       HL\n",
       "31          -3.300000e+15  BodyAcceleration       HL\n",
       "32           1.900000e+16  BodyAcceleration       HL\n",
       "...                   ...               ...      ...\n",
       "1965        -2.090000e+02  BodyAcceleration       HR\n",
       "1966         2.330000e+15  BodyAcceleration       HR\n",
       "1967         2.290000e+16  BodyAcceleration       HR\n",
       "1968        -3.270000e+16  BodyAcceleration       HR\n",
       "1969        -2.550000e+15  BodyAcceleration       HR\n",
       "\n",
       "[1039 rows x 3 columns]"
      ],
      "text/html": [
       "<div>\n",
       "<style scoped>\n",
       "    .dataframe tbody tr th:only-of-type {\n",
       "        vertical-align: middle;\n",
       "    }\n",
       "\n",
       "    .dataframe tbody tr th {\n",
       "        vertical-align: top;\n",
       "    }\n",
       "\n",
       "    .dataframe thead th {\n",
       "        text-align: right;\n",
       "    }\n",
       "</style>\n",
       "<table border=\"1\" class=\"dataframe\">\n",
       "  <thead>\n",
       "    <tr style=\"text-align: right;\">\n",
       "      <th></th>\n",
       "      <th>physicalSignalValue</th>\n",
       "      <th>signal</th>\n",
       "      <th>position</th>\n",
       "    </tr>\n",
       "  </thead>\n",
       "  <tbody>\n",
       "    <tr>\n",
       "      <th>28</th>\n",
       "      <td>2.300000e+16</td>\n",
       "      <td>BodyAcceleration</td>\n",
       "      <td>HL</td>\n",
       "    </tr>\n",
       "    <tr>\n",
       "      <th>29</th>\n",
       "      <td>-5.100000e+14</td>\n",
       "      <td>BodyAcceleration</td>\n",
       "      <td>HL</td>\n",
       "    </tr>\n",
       "    <tr>\n",
       "      <th>30</th>\n",
       "      <td>2.700000e+15</td>\n",
       "      <td>BodyAcceleration</td>\n",
       "      <td>HL</td>\n",
       "    </tr>\n",
       "    <tr>\n",
       "      <th>31</th>\n",
       "      <td>-3.300000e+15</td>\n",
       "      <td>BodyAcceleration</td>\n",
       "      <td>HL</td>\n",
       "    </tr>\n",
       "    <tr>\n",
       "      <th>32</th>\n",
       "      <td>1.900000e+16</td>\n",
       "      <td>BodyAcceleration</td>\n",
       "      <td>HL</td>\n",
       "    </tr>\n",
       "    <tr>\n",
       "      <th>...</th>\n",
       "      <td>...</td>\n",
       "      <td>...</td>\n",
       "      <td>...</td>\n",
       "    </tr>\n",
       "    <tr>\n",
       "      <th>1965</th>\n",
       "      <td>-2.090000e+02</td>\n",
       "      <td>BodyAcceleration</td>\n",
       "      <td>HR</td>\n",
       "    </tr>\n",
       "    <tr>\n",
       "      <th>1966</th>\n",
       "      <td>2.330000e+15</td>\n",
       "      <td>BodyAcceleration</td>\n",
       "      <td>HR</td>\n",
       "    </tr>\n",
       "    <tr>\n",
       "      <th>1967</th>\n",
       "      <td>2.290000e+16</td>\n",
       "      <td>BodyAcceleration</td>\n",
       "      <td>HR</td>\n",
       "    </tr>\n",
       "    <tr>\n",
       "      <th>1968</th>\n",
       "      <td>-3.270000e+16</td>\n",
       "      <td>BodyAcceleration</td>\n",
       "      <td>HR</td>\n",
       "    </tr>\n",
       "    <tr>\n",
       "      <th>1969</th>\n",
       "      <td>-2.550000e+15</td>\n",
       "      <td>BodyAcceleration</td>\n",
       "      <td>HR</td>\n",
       "    </tr>\n",
       "  </tbody>\n",
       "</table>\n",
       "<p>1039 rows × 3 columns</p>\n",
       "</div>"
      ]
     },
     "metadata": {},
     "execution_count": 28
    }
   ],
   "metadata": {
    "collapsed": false,
    "pycharm": {
     "name": "#%%\n"
    }
   }
  },
  {
   "cell_type": "markdown",
   "source": [
    "### Checking on the distribution of values for the hight"
   ],
   "metadata": {
    "collapsed": false,
    "pycharm": {
     "name": "#%% md\n"
    }
   }
  },
  {
   "cell_type": "code",
   "execution_count": 11,
   "source": [
    "dfH.groupby(\"position\").plot(kind=\"hist\")"
   ],
   "outputs": [
    {
     "output_type": "execute_result",
     "data": {
      "text/plain": [
       "position\n",
       "HL    AxesSubplot(0.125,0.125;0.775x0.755)\n",
       "HR    AxesSubplot(0.125,0.125;0.775x0.755)\n",
       "VL    AxesSubplot(0.125,0.125;0.775x0.755)\n",
       "VR    AxesSubplot(0.125,0.125;0.775x0.755)\n",
       "dtype: object"
      ]
     },
     "metadata": {},
     "execution_count": 11
    },
    {
     "output_type": "display_data",
     "data": {
      "text/plain": [
       "<Figure size 432x288 with 1 Axes>"
      ],
      "image/png": "[encoded data removed]"
     },
     "metadata": {
      "needs_background": "light"
     }
    },
    {
     "output_type": "display_data",
     "data": {
      "text/plain": [
       "<Figure size 432x288 with 1 Axes>"
      ],
      "image/png": "[encoded data removed]"
     },
     "metadata": {
      "needs_background": "light"
     }
    },
    {
     "output_type": "display_data",
     "data": {
      "text/plain": [
       "<Figure size 432x288 with 1 Axes>"
      ],
      "image/png": "[encoded data removed]"
     },
     "metadata": {
      "needs_background": "light"
     }
    },
    {
     "output_type": "display_data",
     "data": {
      "text/plain": [
       "<Figure size 432x288 with 1 Axes>"
      ],
      "image/png": "[encoded data removed]"
     },
     "metadata": {
      "needs_background": "light"
     }
    }
   ],
   "metadata": {
    "collapsed": false,
    "pycharm": {
     "name": "#%%\n"
    }
   }
  },
  {
   "cell_type": "code",
   "execution_count": 12,
   "source": [
    "dfH.groupby(\"position\").count()"
   ],
   "outputs": [
    {
     "output_type": "execute_result",
     "data": {
      "text/plain": [
       "          physicalSignalValue  signal\n",
       "position                             \n",
       "HL                         27      28\n",
       "HR                         27      28\n",
       "VL                         31      32\n",
       "VR                         28      29"
      ],
      "text/html": [
       "<div>\n",
       "<style scoped>\n",
       "    .dataframe tbody tr th:only-of-type {\n",
       "        vertical-align: middle;\n",
       "    }\n",
       "\n",
       "    .dataframe tbody tr th {\n",
       "        vertical-align: top;\n",
       "    }\n",
       "\n",
       "    .dataframe thead th {\n",
       "        text-align: right;\n",
       "    }\n",
       "</style>\n",
       "<table border=\"1\" class=\"dataframe\">\n",
       "  <thead>\n",
       "    <tr style=\"text-align: right;\">\n",
       "      <th></th>\n",
       "      <th>physicalSignalValue</th>\n",
       "      <th>signal</th>\n",
       "    </tr>\n",
       "    <tr>\n",
       "      <th>position</th>\n",
       "      <th></th>\n",
       "      <th></th>\n",
       "    </tr>\n",
       "  </thead>\n",
       "  <tbody>\n",
       "    <tr>\n",
       "      <th>HL</th>\n",
       "      <td>27</td>\n",
       "      <td>28</td>\n",
       "    </tr>\n",
       "    <tr>\n",
       "      <th>HR</th>\n",
       "      <td>27</td>\n",
       "      <td>28</td>\n",
       "    </tr>\n",
       "    <tr>\n",
       "      <th>VL</th>\n",
       "      <td>31</td>\n",
       "      <td>32</td>\n",
       "    </tr>\n",
       "    <tr>\n",
       "      <th>VR</th>\n",
       "      <td>28</td>\n",
       "      <td>29</td>\n",
       "    </tr>\n",
       "  </tbody>\n",
       "</table>\n",
       "</div>"
      ]
     },
     "metadata": {},
     "execution_count": 12
    }
   ],
   "metadata": {
    "collapsed": false,
    "pycharm": {
     "name": "#%%\n"
    }
   }
  },
  {
   "cell_type": "code",
   "execution_count": 13,
   "source": [
    "# in order to calculate the covariance matrix, we assume that the signal values on the four positions are mesured at the same time.\n",
    "dfH = dfH.assign(count = dfH.groupby(\"position\").cumcount())\n",
    "sample_matrix = dfH.pivot(index='count', columns='position', values='physicalSignalValue').iloc[:27].fillna(axis=0, method='bfill')"
   ],
   "outputs": [],
   "metadata": {
    "collapsed": false,
    "pycharm": {
     "name": "#%%\n"
    }
   }
  },
  {
   "cell_type": "code",
   "execution_count": 14,
   "source": [
    "sample_matrix"
   ],
   "outputs": [
    {
     "output_type": "execute_result",
     "data": {
      "text/plain": [
       "position     HL     HR     VL     VR\n",
       "count                               \n",
       "0         -40.0  -80.0   40.0  -60.0\n",
       "1         -50.0  -30.0  -80.0  -80.0\n",
       "2         -60.0  -60.0  -90.0  -50.0\n",
       "3         -30.0  -70.0  -50.0   20.0\n",
       "4         -10.0  -50.0  -60.0  -70.0\n",
       "5         -20.0  -40.0   50.0  -30.0\n",
       "6           0.0  -90.0  -70.0  -90.0\n",
       "7          10.0  -20.0  -40.0    0.0\n",
       "8         -70.0  -10.0  -20.0  -40.0\n",
       "9         -80.0    0.0  -30.0 -100.0\n",
       "10         20.0 -100.0    0.0  -10.0\n",
       "11         30.0   10.0 -100.0   10.0\n",
       "12       -120.0   30.0 -110.0  -20.0\n",
       "13       -100.0 -120.0 -230.0 -120.0\n",
       "14        -90.0 -110.0  -10.0 -130.0\n",
       "15       -160.0   20.0   20.0 -140.0\n",
       "16       -150.0 -150.0   10.0   30.0\n",
       "17       -110.0 -130.0   30.0 -110.0\n",
       "18       -190.0 -130.0 -150.0 -180.0\n",
       "19       -180.0   40.0 -140.0 -150.0\n",
       "20       -130.0 -240.0 -120.0   40.0\n",
       "21       -210.0   80.0   70.0   50.0\n",
       "22         40.0   60.0 -170.0 -170.0\n",
       "23        120.0   70.0 -130.0 -210.0\n",
       "24        120.0 -180.0  100.0 -210.0\n",
       "25       -200.0 -220.0 -190.0 -190.0\n",
       "26       -170.0 -190.0 -190.0 -230.0"
      ],
      "text/html": [
       "<div>\n",
       "<style scoped>\n",
       "    .dataframe tbody tr th:only-of-type {\n",
       "        vertical-align: middle;\n",
       "    }\n",
       "\n",
       "    .dataframe tbody tr th {\n",
       "        vertical-align: top;\n",
       "    }\n",
       "\n",
       "    .dataframe thead th {\n",
       "        text-align: right;\n",
       "    }\n",
       "</style>\n",
       "<table border=\"1\" class=\"dataframe\">\n",
       "  <thead>\n",
       "    <tr style=\"text-align: right;\">\n",
       "      <th>position</th>\n",
       "      <th>HL</th>\n",
       "      <th>HR</th>\n",
       "      <th>VL</th>\n",
       "      <th>VR</th>\n",
       "    </tr>\n",
       "    <tr>\n",
       "      <th>count</th>\n",
       "      <th></th>\n",
       "      <th></th>\n",
       "      <th></th>\n",
       "      <th></th>\n",
       "    </tr>\n",
       "  </thead>\n",
       "  <tbody>\n",
       "    <tr>\n",
       "      <th>0</th>\n",
       "      <td>-40.0</td>\n",
       "      <td>-80.0</td>\n",
       "      <td>40.0</td>\n",
       "      <td>-60.0</td>\n",
       "    </tr>\n",
       "    <tr>\n",
       "      <th>1</th>\n",
       "      <td>-50.0</td>\n",
       "      <td>-30.0</td>\n",
       "      <td>-80.0</td>\n",
       "      <td>-80.0</td>\n",
       "    </tr>\n",
       "    <tr>\n",
       "      <th>2</th>\n",
       "      <td>-60.0</td>\n",
       "      <td>-60.0</td>\n",
       "      <td>-90.0</td>\n",
       "      <td>-50.0</td>\n",
       "    </tr>\n",
       "    <tr>\n",
       "      <th>3</th>\n",
       "      <td>-30.0</td>\n",
       "      <td>-70.0</td>\n",
       "      <td>-50.0</td>\n",
       "      <td>20.0</td>\n",
       "    </tr>\n",
       "    <tr>\n",
       "      <th>4</th>\n",
       "      <td>-10.0</td>\n",
       "      <td>-50.0</td>\n",
       "      <td>-60.0</td>\n",
       "      <td>-70.0</td>\n",
       "    </tr>\n",
       "    <tr>\n",
       "      <th>5</th>\n",
       "      <td>-20.0</td>\n",
       "      <td>-40.0</td>\n",
       "      <td>50.0</td>\n",
       "      <td>-30.0</td>\n",
       "    </tr>\n",
       "    <tr>\n",
       "      <th>6</th>\n",
       "      <td>0.0</td>\n",
       "      <td>-90.0</td>\n",
       "      <td>-70.0</td>\n",
       "      <td>-90.0</td>\n",
       "    </tr>\n",
       "    <tr>\n",
       "      <th>7</th>\n",
       "      <td>10.0</td>\n",
       "      <td>-20.0</td>\n",
       "      <td>-40.0</td>\n",
       "      <td>0.0</td>\n",
       "    </tr>\n",
       "    <tr>\n",
       "      <th>8</th>\n",
       "      <td>-70.0</td>\n",
       "      <td>-10.0</td>\n",
       "      <td>-20.0</td>\n",
       "      <td>-40.0</td>\n",
       "    </tr>\n",
       "    <tr>\n",
       "      <th>9</th>\n",
       "      <td>-80.0</td>\n",
       "      <td>0.0</td>\n",
       "      <td>-30.0</td>\n",
       "      <td>-100.0</td>\n",
       "    </tr>\n",
       "    <tr>\n",
       "      <th>10</th>\n",
       "      <td>20.0</td>\n",
       "      <td>-100.0</td>\n",
       "      <td>0.0</td>\n",
       "      <td>-10.0</td>\n",
       "    </tr>\n",
       "    <tr>\n",
       "      <th>11</th>\n",
       "      <td>30.0</td>\n",
       "      <td>10.0</td>\n",
       "      <td>-100.0</td>\n",
       "      <td>10.0</td>\n",
       "    </tr>\n",
       "    <tr>\n",
       "      <th>12</th>\n",
       "      <td>-120.0</td>\n",
       "      <td>30.0</td>\n",
       "      <td>-110.0</td>\n",
       "      <td>-20.0</td>\n",
       "    </tr>\n",
       "    <tr>\n",
       "      <th>13</th>\n",
       "      <td>-100.0</td>\n",
       "      <td>-120.0</td>\n",
       "      <td>-230.0</td>\n",
       "      <td>-120.0</td>\n",
       "    </tr>\n",
       "    <tr>\n",
       "      <th>14</th>\n",
       "      <td>-90.0</td>\n",
       "      <td>-110.0</td>\n",
       "      <td>-10.0</td>\n",
       "      <td>-130.0</td>\n",
       "    </tr>\n",
       "    <tr>\n",
       "      <th>15</th>\n",
       "      <td>-160.0</td>\n",
       "      <td>20.0</td>\n",
       "      <td>20.0</td>\n",
       "      <td>-140.0</td>\n",
       "    </tr>\n",
       "    <tr>\n",
       "      <th>16</th>\n",
       "      <td>-150.0</td>\n",
       "      <td>-150.0</td>\n",
       "      <td>10.0</td>\n",
       "      <td>30.0</td>\n",
       "    </tr>\n",
       "    <tr>\n",
       "      <th>17</th>\n",
       "      <td>-110.0</td>\n",
       "      <td>-130.0</td>\n",
       "      <td>30.0</td>\n",
       "      <td>-110.0</td>\n",
       "    </tr>\n",
       "    <tr>\n",
       "      <th>18</th>\n",
       "      <td>-190.0</td>\n",
       "      <td>-130.0</td>\n",
       "      <td>-150.0</td>\n",
       "      <td>-180.0</td>\n",
       "    </tr>\n",
       "    <tr>\n",
       "      <th>19</th>\n",
       "      <td>-180.0</td>\n",
       "      <td>40.0</td>\n",
       "      <td>-140.0</td>\n",
       "      <td>-150.0</td>\n",
       "    </tr>\n",
       "    <tr>\n",
       "      <th>20</th>\n",
       "      <td>-130.0</td>\n",
       "      <td>-240.0</td>\n",
       "      <td>-120.0</td>\n",
       "      <td>40.0</td>\n",
       "    </tr>\n",
       "    <tr>\n",
       "      <th>21</th>\n",
       "      <td>-210.0</td>\n",
       "      <td>80.0</td>\n",
       "      <td>70.0</td>\n",
       "      <td>50.0</td>\n",
       "    </tr>\n",
       "    <tr>\n",
       "      <th>22</th>\n",
       "      <td>40.0</td>\n",
       "      <td>60.0</td>\n",
       "      <td>-170.0</td>\n",
       "      <td>-170.0</td>\n",
       "    </tr>\n",
       "    <tr>\n",
       "      <th>23</th>\n",
       "      <td>120.0</td>\n",
       "      <td>70.0</td>\n",
       "      <td>-130.0</td>\n",
       "      <td>-210.0</td>\n",
       "    </tr>\n",
       "    <tr>\n",
       "      <th>24</th>\n",
       "      <td>120.0</td>\n",
       "      <td>-180.0</td>\n",
       "      <td>100.0</td>\n",
       "      <td>-210.0</td>\n",
       "    </tr>\n",
       "    <tr>\n",
       "      <th>25</th>\n",
       "      <td>-200.0</td>\n",
       "      <td>-220.0</td>\n",
       "      <td>-190.0</td>\n",
       "      <td>-190.0</td>\n",
       "    </tr>\n",
       "    <tr>\n",
       "      <th>26</th>\n",
       "      <td>-170.0</td>\n",
       "      <td>-190.0</td>\n",
       "      <td>-190.0</td>\n",
       "      <td>-230.0</td>\n",
       "    </tr>\n",
       "  </tbody>\n",
       "</table>\n",
       "</div>"
      ]
     },
     "metadata": {},
     "execution_count": 14
    }
   ],
   "metadata": {
    "collapsed": false,
    "pycharm": {
     "name": "#%%\n"
    }
   }
  },
  {
   "cell_type": "code",
   "execution_count": 15,
   "source": [
    "cov_matrix = sample_matrix.cov()"
   ],
   "outputs": [],
   "metadata": {
    "collapsed": false,
    "pycharm": {
     "name": "#%%\n"
    }
   }
  },
  {
   "cell_type": "code",
   "execution_count": 16,
   "source": [
    "sns.heatmap(cov_matrix)"
   ],
   "outputs": [
    {
     "output_type": "execute_result",
     "data": {
      "text/plain": [
       "<AxesSubplot:xlabel='position', ylabel='position'>"
      ]
     },
     "metadata": {},
     "execution_count": 16
    },
    {
     "output_type": "display_data",
     "data": {
      "text/plain": [
       "<Figure size 432x288 with 2 Axes>"
      ],
      "image/png": "[encoded data removed]"
     },
     "metadata": {
      "needs_background": "light"
     }
    }
   ],
   "metadata": {
    "collapsed": false,
    "pycharm": {
     "name": "#%%\n"
    }
   }
  },
  {
   "cell_type": "code",
   "execution_count": 17,
   "source": [
    "sample_matrix.plot(kind=\"line\")"
   ],
   "outputs": [
    {
     "output_type": "execute_result",
     "data": {
      "text/plain": [
       "<AxesSubplot:xlabel='count'>"
      ]
     },
     "metadata": {},
     "execution_count": 17
    },
    {
     "output_type": "display_data",
     "data": {
      "text/plain": [
       "<Figure size 432x288 with 1 Axes>"
      ],
      "image/png": "[encoded data removed]"
     },
     "metadata": {
      "needs_background": "light"
     }
    }
   ],
   "metadata": {
    "collapsed": false,
    "pycharm": {
     "name": "#%%\n"
    }
   }
  },
  {
   "cell_type": "code",
   "execution_count": 18,
   "source": [
    "sample_matrix.describe()"
   ],
   "outputs": [
    {
     "output_type": "execute_result",
     "data": {
      "text/plain": [
       "position          HL          HR          VL          VR\n",
       "count      27.000000   27.000000   27.000000   27.000000\n",
       "mean      -67.777778  -63.333333  -61.481481  -82.962963\n",
       "std        91.833182   88.881944   86.899752   83.703452\n",
       "min      -210.000000 -240.000000 -230.000000 -230.000000\n",
       "25%      -140.000000 -125.000000 -125.000000 -145.000000\n",
       "50%       -70.000000  -60.000000  -60.000000  -80.000000\n",
       "75%        -5.000000    5.000000    5.000000  -15.000000\n",
       "max       120.000000   80.000000  100.000000   50.000000"
      ],
      "text/html": [
       "<div>\n",
       "<style scoped>\n",
       "    .dataframe tbody tr th:only-of-type {\n",
       "        vertical-align: middle;\n",
       "    }\n",
       "\n",
       "    .dataframe tbody tr th {\n",
       "        vertical-align: top;\n",
       "    }\n",
       "\n",
       "    .dataframe thead th {\n",
       "        text-align: right;\n",
       "    }\n",
       "</style>\n",
       "<table border=\"1\" class=\"dataframe\">\n",
       "  <thead>\n",
       "    <tr style=\"text-align: right;\">\n",
       "      <th>position</th>\n",
       "      <th>HL</th>\n",
       "      <th>HR</th>\n",
       "      <th>VL</th>\n",
       "      <th>VR</th>\n",
       "    </tr>\n",
       "  </thead>\n",
       "  <tbody>\n",
       "    <tr>\n",
       "      <th>count</th>\n",
       "      <td>27.000000</td>\n",
       "      <td>27.000000</td>\n",
       "      <td>27.000000</td>\n",
       "      <td>27.000000</td>\n",
       "    </tr>\n",
       "    <tr>\n",
       "      <th>mean</th>\n",
       "      <td>-67.777778</td>\n",
       "      <td>-63.333333</td>\n",
       "      <td>-61.481481</td>\n",
       "      <td>-82.962963</td>\n",
       "    </tr>\n",
       "    <tr>\n",
       "      <th>std</th>\n",
       "      <td>91.833182</td>\n",
       "      <td>88.881944</td>\n",
       "      <td>86.899752</td>\n",
       "      <td>83.703452</td>\n",
       "    </tr>\n",
       "    <tr>\n",
       "      <th>min</th>\n",
       "      <td>-210.000000</td>\n",
       "      <td>-240.000000</td>\n",
       "      <td>-230.000000</td>\n",
       "      <td>-230.000000</td>\n",
       "    </tr>\n",
       "    <tr>\n",
       "      <th>25%</th>\n",
       "      <td>-140.000000</td>\n",
       "      <td>-125.000000</td>\n",
       "      <td>-125.000000</td>\n",
       "      <td>-145.000000</td>\n",
       "    </tr>\n",
       "    <tr>\n",
       "      <th>50%</th>\n",
       "      <td>-70.000000</td>\n",
       "      <td>-60.000000</td>\n",
       "      <td>-60.000000</td>\n",
       "      <td>-80.000000</td>\n",
       "    </tr>\n",
       "    <tr>\n",
       "      <th>75%</th>\n",
       "      <td>-5.000000</td>\n",
       "      <td>5.000000</td>\n",
       "      <td>5.000000</td>\n",
       "      <td>-15.000000</td>\n",
       "    </tr>\n",
       "    <tr>\n",
       "      <th>max</th>\n",
       "      <td>120.000000</td>\n",
       "      <td>80.000000</td>\n",
       "      <td>100.000000</td>\n",
       "      <td>50.000000</td>\n",
       "    </tr>\n",
       "  </tbody>\n",
       "</table>\n",
       "</div>"
      ]
     },
     "metadata": {},
     "execution_count": 18
    }
   ],
   "metadata": {
    "collapsed": false,
    "pycharm": {
     "name": "#%%\n"
    }
   }
  },
  {
   "cell_type": "markdown",
   "source": [
    "### Data analyyis for body acceleration"
   ],
   "metadata": {}
  },
  {
   "cell_type": "code",
   "execution_count": 31,
   "source": [
    "df_body_acceleration = dfFA[dfFA.signal == \"BodyAcceleration\"]\n",
    "df_body_acceleration"
   ],
   "outputs": [
    {
     "output_type": "execute_result",
     "data": {
      "text/plain": [
       "      physicalSignalValue            signal position\n",
       "28           2.300000e+16  BodyAcceleration       HL\n",
       "29          -5.100000e+14  BodyAcceleration       HL\n",
       "30           2.700000e+15  BodyAcceleration       HL\n",
       "31          -3.300000e+15  BodyAcceleration       HL\n",
       "32           1.900000e+16  BodyAcceleration       HL\n",
       "...                   ...               ...      ...\n",
       "1965        -2.090000e+02  BodyAcceleration       HR\n",
       "1966         2.330000e+15  BodyAcceleration       HR\n",
       "1967         2.290000e+16  BodyAcceleration       HR\n",
       "1968        -3.270000e+16  BodyAcceleration       HR\n",
       "1969        -2.550000e+15  BodyAcceleration       HR\n",
       "\n",
       "[1039 rows x 3 columns]"
      ],
      "text/html": [
       "<div>\n",
       "<style scoped>\n",
       "    .dataframe tbody tr th:only-of-type {\n",
       "        vertical-align: middle;\n",
       "    }\n",
       "\n",
       "    .dataframe tbody tr th {\n",
       "        vertical-align: top;\n",
       "    }\n",
       "\n",
       "    .dataframe thead th {\n",
       "        text-align: right;\n",
       "    }\n",
       "</style>\n",
       "<table border=\"1\" class=\"dataframe\">\n",
       "  <thead>\n",
       "    <tr style=\"text-align: right;\">\n",
       "      <th></th>\n",
       "      <th>physicalSignalValue</th>\n",
       "      <th>signal</th>\n",
       "      <th>position</th>\n",
       "    </tr>\n",
       "  </thead>\n",
       "  <tbody>\n",
       "    <tr>\n",
       "      <th>28</th>\n",
       "      <td>2.300000e+16</td>\n",
       "      <td>BodyAcceleration</td>\n",
       "      <td>HL</td>\n",
       "    </tr>\n",
       "    <tr>\n",
       "      <th>29</th>\n",
       "      <td>-5.100000e+14</td>\n",
       "      <td>BodyAcceleration</td>\n",
       "      <td>HL</td>\n",
       "    </tr>\n",
       "    <tr>\n",
       "      <th>30</th>\n",
       "      <td>2.700000e+15</td>\n",
       "      <td>BodyAcceleration</td>\n",
       "      <td>HL</td>\n",
       "    </tr>\n",
       "    <tr>\n",
       "      <th>31</th>\n",
       "      <td>-3.300000e+15</td>\n",
       "      <td>BodyAcceleration</td>\n",
       "      <td>HL</td>\n",
       "    </tr>\n",
       "    <tr>\n",
       "      <th>32</th>\n",
       "      <td>1.900000e+16</td>\n",
       "      <td>BodyAcceleration</td>\n",
       "      <td>HL</td>\n",
       "    </tr>\n",
       "    <tr>\n",
       "      <th>...</th>\n",
       "      <td>...</td>\n",
       "      <td>...</td>\n",
       "      <td>...</td>\n",
       "    </tr>\n",
       "    <tr>\n",
       "      <th>1965</th>\n",
       "      <td>-2.090000e+02</td>\n",
       "      <td>BodyAcceleration</td>\n",
       "      <td>HR</td>\n",
       "    </tr>\n",
       "    <tr>\n",
       "      <th>1966</th>\n",
       "      <td>2.330000e+15</td>\n",
       "      <td>BodyAcceleration</td>\n",
       "      <td>HR</td>\n",
       "    </tr>\n",
       "    <tr>\n",
       "      <th>1967</th>\n",
       "      <td>2.290000e+16</td>\n",
       "      <td>BodyAcceleration</td>\n",
       "      <td>HR</td>\n",
       "    </tr>\n",
       "    <tr>\n",
       "      <th>1968</th>\n",
       "      <td>-3.270000e+16</td>\n",
       "      <td>BodyAcceleration</td>\n",
       "      <td>HR</td>\n",
       "    </tr>\n",
       "    <tr>\n",
       "      <th>1969</th>\n",
       "      <td>-2.550000e+15</td>\n",
       "      <td>BodyAcceleration</td>\n",
       "      <td>HR</td>\n",
       "    </tr>\n",
       "  </tbody>\n",
       "</table>\n",
       "<p>1039 rows × 3 columns</p>\n",
       "</div>"
      ]
     },
     "metadata": {},
     "execution_count": 31
    }
   ],
   "metadata": {
    "collapsed": false,
    "pycharm": {
     "name": "#%%\n"
    }
   }
  },
  {
   "cell_type": "markdown",
   "source": [
    "### Checking on the distribution of values for the body acceleration"
   ],
   "metadata": {}
  },
  {
   "cell_type": "code",
   "execution_count": 32,
   "source": [
    "df_body_acceleration.groupby(\"position\").plot(kind=\"hist\")"
   ],
   "outputs": [
    {
     "output_type": "execute_result",
     "data": {
      "text/plain": [
       "position\n",
       "HL    AxesSubplot(0.125,0.125;0.775x0.755)\n",
       "HR    AxesSubplot(0.125,0.125;0.775x0.755)\n",
       "VL    AxesSubplot(0.125,0.125;0.775x0.755)\n",
       "VR    AxesSubplot(0.125,0.125;0.775x0.755)\n",
       "dtype: object"
      ]
     },
     "metadata": {},
     "execution_count": 32
    },
    {
     "output_type": "display_data",
     "data": {
      "text/plain": [
       "<Figure size 432x288 with 1 Axes>"
      ],
      "image/png": "[encoded data removed]"
     },
     "metadata": {
      "needs_background": "light"
     }
    },
    {
     "output_type": "display_data",
     "data": {
      "text/plain": [
       "<Figure size 432x288 with 1 Axes>"
      ],
      "image/png": "[encoded data removed]"
     },
     "metadata": {
      "needs_background": "light"
     }
    },
    {
     "output_type": "display_data",
     "data": {
      "text/plain": [
       "<Figure size 432x288 with 1 Axes>"
      ],
      "image/png": "[encoded data removed]"
     },
     "metadata": {
      "needs_background": "light"
     }
    },
    {
     "output_type": "display_data",
     "data": {
      "text/plain": [
       "<Figure size 432x288 with 1 Axes>"
      ],
      "image/png": "[encoded data removed]"
     },
     "metadata": {
      "needs_background": "light"
     }
    }
   ],
   "metadata": {}
  },
  {
   "cell_type": "code",
   "execution_count": 34,
   "source": [
    "df.signalId.unique()"
   ],
   "outputs": [
    {
     "output_type": "execute_result",
     "data": {
      "text/plain": [
       "array([132706, 132705, 106001, 132703, 132707, 132704, 132710, 132709,\n",
       "       132708])"
      ]
     },
     "metadata": {},
     "execution_count": 34
    }
   ],
   "metadata": {}
  },
  {
   "cell_type": "code",
   "execution_count": 37,
   "source": [
    "df_body_acceleration.groupby(\"position\").count()"
   ],
   "outputs": [
    {
     "output_type": "execute_result",
     "data": {
      "text/plain": [
       "          physicalSignalValue  signal\n",
       "position                             \n",
       "HL                        250     251\n",
       "HR                        290     290\n",
       "VL                        254     255\n",
       "VR                        242     243"
      ],
      "text/html": [
       "<div>\n",
       "<style scoped>\n",
       "    .dataframe tbody tr th:only-of-type {\n",
       "        vertical-align: middle;\n",
       "    }\n",
       "\n",
       "    .dataframe tbody tr th {\n",
       "        vertical-align: top;\n",
       "    }\n",
       "\n",
       "    .dataframe thead th {\n",
       "        text-align: right;\n",
       "    }\n",
       "</style>\n",
       "<table border=\"1\" class=\"dataframe\">\n",
       "  <thead>\n",
       "    <tr style=\"text-align: right;\">\n",
       "      <th></th>\n",
       "      <th>physicalSignalValue</th>\n",
       "      <th>signal</th>\n",
       "    </tr>\n",
       "    <tr>\n",
       "      <th>position</th>\n",
       "      <th></th>\n",
       "      <th></th>\n",
       "    </tr>\n",
       "  </thead>\n",
       "  <tbody>\n",
       "    <tr>\n",
       "      <th>HL</th>\n",
       "      <td>250</td>\n",
       "      <td>251</td>\n",
       "    </tr>\n",
       "    <tr>\n",
       "      <th>HR</th>\n",
       "      <td>290</td>\n",
       "      <td>290</td>\n",
       "    </tr>\n",
       "    <tr>\n",
       "      <th>VL</th>\n",
       "      <td>254</td>\n",
       "      <td>255</td>\n",
       "    </tr>\n",
       "    <tr>\n",
       "      <th>VR</th>\n",
       "      <td>242</td>\n",
       "      <td>243</td>\n",
       "    </tr>\n",
       "  </tbody>\n",
       "</table>\n",
       "</div>"
      ]
     },
     "metadata": {},
     "execution_count": 37
    }
   ],
   "metadata": {}
  },
  {
   "cell_type": "code",
   "execution_count": 40,
   "source": [
    "# in order to calculate the covariance matrix, we assume that the signal values on the four positions are mesured at the same time.\n",
    "df_body_acceleration = df_body_acceleration.assign(count = df_body_acceleration.groupby(\"position\").cumcount())\n",
    "sample_matrix = df_body_acceleration.pivot(index='count', columns='position', values='physicalSignalValue').iloc[:240].fillna(axis=0, method='bfill')"
   ],
   "outputs": [],
   "metadata": {}
  },
  {
   "cell_type": "code",
   "execution_count": 41,
   "source": [
    "sample_matrix"
   ],
   "outputs": [
    {
     "output_type": "execute_result",
     "data": {
      "text/plain": [
       "position            HL            HR            VL            VR\n",
       "count                                                           \n",
       "0         2.300000e+16 -2.500000e+01 -2.700000e+15 -2.700000e+15\n",
       "1        -5.100000e+14 -3.500000e+16  3.300000e+16 -7.000000e+15\n",
       "2         2.700000e+15  2.100000e+16  2.300000e+16 -8.700000e+15\n",
       "3        -3.300000e+15  7.000000e+15 -1.300000e+14  1.300000e+16\n",
       "4         1.900000e+16  4.900000e+14  2.700000e+15  7.100000e+15\n",
       "...                ...           ...           ...           ...\n",
       "235      -1.830000e+16 -2.850000e+15 -3.490000e+16 -3.430000e+16\n",
       "236       3.390000e+16 -2.230000e+16  3.050000e+16  2.470000e+16\n",
       "237      -2.070000e+16  1.970000e+16  1.750000e+02  2.510000e+16\n",
       "238       2.630000e+16  1.930000e+16  3.310000e+16 -1.810000e+16\n",
       "239       3.950000e+15  1.590000e+16 -2.270000e+16 -1.650000e+16\n",
       "\n",
       "[240 rows x 4 columns]"
      ],
      "text/html": [
       "<div>\n",
       "<style scoped>\n",
       "    .dataframe tbody tr th:only-of-type {\n",
       "        vertical-align: middle;\n",
       "    }\n",
       "\n",
       "    .dataframe tbody tr th {\n",
       "        vertical-align: top;\n",
       "    }\n",
       "\n",
       "    .dataframe thead th {\n",
       "        text-align: right;\n",
       "    }\n",
       "</style>\n",
       "<table border=\"1\" class=\"dataframe\">\n",
       "  <thead>\n",
       "    <tr style=\"text-align: right;\">\n",
       "      <th>position</th>\n",
       "      <th>HL</th>\n",
       "      <th>HR</th>\n",
       "      <th>VL</th>\n",
       "      <th>VR</th>\n",
       "    </tr>\n",
       "    <tr>\n",
       "      <th>count</th>\n",
       "      <th></th>\n",
       "      <th></th>\n",
       "      <th></th>\n",
       "      <th></th>\n",
       "    </tr>\n",
       "  </thead>\n",
       "  <tbody>\n",
       "    <tr>\n",
       "      <th>0</th>\n",
       "      <td>2.300000e+16</td>\n",
       "      <td>-2.500000e+01</td>\n",
       "      <td>-2.700000e+15</td>\n",
       "      <td>-2.700000e+15</td>\n",
       "    </tr>\n",
       "    <tr>\n",
       "      <th>1</th>\n",
       "      <td>-5.100000e+14</td>\n",
       "      <td>-3.500000e+16</td>\n",
       "      <td>3.300000e+16</td>\n",
       "      <td>-7.000000e+15</td>\n",
       "    </tr>\n",
       "    <tr>\n",
       "      <th>2</th>\n",
       "      <td>2.700000e+15</td>\n",
       "      <td>2.100000e+16</td>\n",
       "      <td>2.300000e+16</td>\n",
       "      <td>-8.700000e+15</td>\n",
       "    </tr>\n",
       "    <tr>\n",
       "      <th>3</th>\n",
       "      <td>-3.300000e+15</td>\n",
       "      <td>7.000000e+15</td>\n",
       "      <td>-1.300000e+14</td>\n",
       "      <td>1.300000e+16</td>\n",
       "    </tr>\n",
       "    <tr>\n",
       "      <th>4</th>\n",
       "      <td>1.900000e+16</td>\n",
       "      <td>4.900000e+14</td>\n",
       "      <td>2.700000e+15</td>\n",
       "      <td>7.100000e+15</td>\n",
       "    </tr>\n",
       "    <tr>\n",
       "      <th>...</th>\n",
       "      <td>...</td>\n",
       "      <td>...</td>\n",
       "      <td>...</td>\n",
       "      <td>...</td>\n",
       "    </tr>\n",
       "    <tr>\n",
       "      <th>235</th>\n",
       "      <td>-1.830000e+16</td>\n",
       "      <td>-2.850000e+15</td>\n",
       "      <td>-3.490000e+16</td>\n",
       "      <td>-3.430000e+16</td>\n",
       "    </tr>\n",
       "    <tr>\n",
       "      <th>236</th>\n",
       "      <td>3.390000e+16</td>\n",
       "      <td>-2.230000e+16</td>\n",
       "      <td>3.050000e+16</td>\n",
       "      <td>2.470000e+16</td>\n",
       "    </tr>\n",
       "    <tr>\n",
       "      <th>237</th>\n",
       "      <td>-2.070000e+16</td>\n",
       "      <td>1.970000e+16</td>\n",
       "      <td>1.750000e+02</td>\n",
       "      <td>2.510000e+16</td>\n",
       "    </tr>\n",
       "    <tr>\n",
       "      <th>238</th>\n",
       "      <td>2.630000e+16</td>\n",
       "      <td>1.930000e+16</td>\n",
       "      <td>3.310000e+16</td>\n",
       "      <td>-1.810000e+16</td>\n",
       "    </tr>\n",
       "    <tr>\n",
       "      <th>239</th>\n",
       "      <td>3.950000e+15</td>\n",
       "      <td>1.590000e+16</td>\n",
       "      <td>-2.270000e+16</td>\n",
       "      <td>-1.650000e+16</td>\n",
       "    </tr>\n",
       "  </tbody>\n",
       "</table>\n",
       "<p>240 rows × 4 columns</p>\n",
       "</div>"
      ]
     },
     "metadata": {},
     "execution_count": 41
    }
   ],
   "metadata": {}
  },
  {
   "cell_type": "code",
   "execution_count": 43,
   "source": [
    "cov_matrix = sample_matrix.cov()\n",
    "cov_matrix"
   ],
   "outputs": [
    {
     "output_type": "execute_result",
     "data": {
      "text/plain": [
       "position            HL            HR            VL            VR\n",
       "position                                                        \n",
       "HL        2.676115e+32 -1.287570e+31  2.284605e+31  1.654319e+31\n",
       "HR       -1.287570e+31  2.604751e+32 -1.441294e+31  4.125477e+31\n",
       "VL        2.284605e+31 -1.441294e+31  2.796367e+32  8.283682e+30\n",
       "VR        1.654319e+31  4.125477e+31  8.283682e+30  2.614128e+32"
      ],
      "text/html": [
       "<div>\n",
       "<style scoped>\n",
       "    .dataframe tbody tr th:only-of-type {\n",
       "        vertical-align: middle;\n",
       "    }\n",
       "\n",
       "    .dataframe tbody tr th {\n",
       "        vertical-align: top;\n",
       "    }\n",
       "\n",
       "    .dataframe thead th {\n",
       "        text-align: right;\n",
       "    }\n",
       "</style>\n",
       "<table border=\"1\" class=\"dataframe\">\n",
       "  <thead>\n",
       "    <tr style=\"text-align: right;\">\n",
       "      <th>position</th>\n",
       "      <th>HL</th>\n",
       "      <th>HR</th>\n",
       "      <th>VL</th>\n",
       "      <th>VR</th>\n",
       "    </tr>\n",
       "    <tr>\n",
       "      <th>position</th>\n",
       "      <th></th>\n",
       "      <th></th>\n",
       "      <th></th>\n",
       "      <th></th>\n",
       "    </tr>\n",
       "  </thead>\n",
       "  <tbody>\n",
       "    <tr>\n",
       "      <th>HL</th>\n",
       "      <td>2.676115e+32</td>\n",
       "      <td>-1.287570e+31</td>\n",
       "      <td>2.284605e+31</td>\n",
       "      <td>1.654319e+31</td>\n",
       "    </tr>\n",
       "    <tr>\n",
       "      <th>HR</th>\n",
       "      <td>-1.287570e+31</td>\n",
       "      <td>2.604751e+32</td>\n",
       "      <td>-1.441294e+31</td>\n",
       "      <td>4.125477e+31</td>\n",
       "    </tr>\n",
       "    <tr>\n",
       "      <th>VL</th>\n",
       "      <td>2.284605e+31</td>\n",
       "      <td>-1.441294e+31</td>\n",
       "      <td>2.796367e+32</td>\n",
       "      <td>8.283682e+30</td>\n",
       "    </tr>\n",
       "    <tr>\n",
       "      <th>VR</th>\n",
       "      <td>1.654319e+31</td>\n",
       "      <td>4.125477e+31</td>\n",
       "      <td>8.283682e+30</td>\n",
       "      <td>2.614128e+32</td>\n",
       "    </tr>\n",
       "  </tbody>\n",
       "</table>\n",
       "</div>"
      ]
     },
     "metadata": {},
     "execution_count": 43
    }
   ],
   "metadata": {}
  },
  {
   "cell_type": "code",
   "execution_count": 44,
   "source": [
    "sns.heatmap(cov_matrix)"
   ],
   "outputs": [
    {
     "output_type": "execute_result",
     "data": {
      "text/plain": [
       "<AxesSubplot:xlabel='position', ylabel='position'>"
      ]
     },
     "metadata": {},
     "execution_count": 44
    },
    {
     "output_type": "display_data",
     "data": {
      "text/plain": [
       "<Figure size 432x288 with 2 Axes>"
      ],
      "image/png": "[encoded data removed]"
     },
     "metadata": {
      "needs_background": "light"
     }
    }
   ],
   "metadata": {}
  },
  {
   "cell_type": "code",
   "execution_count": 47,
   "source": [
    "sample_matrix.plot(kind=\"line\", figsize=(10,))\n"
   ],
   "outputs": [
    {
     "output_type": "execute_result",
     "data": {
      "text/plain": [
       "<AxesSubplot:xlabel='count'>"
      ]
     },
     "metadata": {},
     "execution_count": 47
    },
    {
     "output_type": "display_data",
     "data": {
      "text/plain": [
       "<Figure size 720x216 with 1 Axes>"
      ],
      "image/png": "[encoded data removed]"
     },
     "metadata": {
      "needs_background": "light"
     }
    }
   ],
   "metadata": {}
  },
  {
   "cell_type": "code",
   "execution_count": null,
   "source": [],
   "outputs": [],
   "metadata": {}
  }
 ],
 "metadata": {
  "kernelspec": {
   "name": "python3",
   "display_name": "Python 3.9.10 64-bit"
  },
  "language_info": {
   "codemirror_mode": {
    "name": "ipython",
    "version": 3
   },
   "file_extension": ".py",
   "mimetype": "text/x-python",
   "name": "python",
   "nbconvert_exporter": "python",
   "pygments_lexer": "ipython3",
   "version": "3.9.10"
  },
  "interpreter": {
   "hash": "aee8b7b246df8f9039afb4144a1f6fd8d2ca17a180786b69acc140d282b71a49"
  }
 },
 "nbformat": 4,
 "nbformat_minor": 5
}