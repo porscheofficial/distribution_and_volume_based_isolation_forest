{
 "cells": [
  {
   "cell_type": "code",
   "execution_count": 4,
   "source": [
    "import pandas as pd\n",
    "import seaborn as sns\n",
    "import numpy as np\n",
    "import matplotlib.pyplot as plt\n",
    "import random"
   ],
   "outputs": [],
   "metadata": {}
  },
  {
   "cell_type": "markdown",
   "source": [
    "# Sampling from two different gaussian distributions"
   ],
   "metadata": {
    "collapsed": false,
    "pycharm": {
     "name": "#%% md\n"
    }
   }
  },
  {
   "cell_type": "code",
   "execution_count": 5,
   "source": [
    "mu_centered, sigma_centered = 0, 0.1\n",
    "s_normal_centered = np.random.normal(mu_centered, sigma_centered, 1000)\n",
    "\n",
    "mu_shifted, sigma_shifted = 10, 0.2\n",
    "s_normal_shifted = np.random.normal(mu_shifted, sigma_shifted, 1000)"
   ],
   "outputs": [],
   "metadata": {}
  },
  {
   "cell_type": "code",
   "execution_count": 6,
   "source": [
    "fig, axis = plt.subplots(1,2,figsize=(12,8))\n",
    "\n",
    "sns.histplot(s_normal_centered, ax=axis[0], shrink=0.8, stat='count').set(title=f\"Data distribution for mean:{mu_centered} and std:{sigma_centered}\")\n",
    "axis[0].axvline(s_normal_centered.mean(), color='green', label='mean')\n",
    "axis[0].legend()\n",
    "\n",
    "sns.histplot(s_normal_shifted, ax=axis[1], shrink=0.8, stat='count').set(title=f\"Data distribution for mean:{mu_shifted} and std:{sigma_shifted}\")\n",
    "axis[1].axvline(s_normal_shifted.mean(), color='green', label='mean')\n",
    "axis[1].legend()\n",
    "\n",
    "print(f'μ_centered ={s_normal_centered.mean()}')\n",
    "print(f'σ_centered ={s_normal_centered.std()}')\n",
    "print(f'μ_shifted ={s_normal_shifted.mean()}')\n",
    "print(f'σ_shifted ={s_normal_shifted.std()}')\n"
   ],
   "outputs": [
    {
     "output_type": "stream",
     "name": "stdout",
     "text": [
      "μ_centered =-0.0012125687548305616\n",
      "σ_centered =0.0956561330785438\n",
      "μ_shifted =9.99911756586266\n",
      "σ_shifted =0.20035067228270248\n"
     ]
    },
    {
     "output_type": "display_data",
     "data": {
      "text/plain": [
       "<Figure size 864x576 with 2 Axes>"
      ],
      "image/png": "[encoded data removed]"
     },
     "metadata": {
      "needs_background": "light"
     }
    }
   ],
   "metadata": {}
  },
  {
   "cell_type": "markdown",
   "source": [
    "# Data sets generation"
   ],
   "metadata": {}
  },
  {
   "cell_type": "code",
   "execution_count": 7,
   "source": [
    "# sample 90% from centered dataset\n",
    "centered_dist = random.sample(list(s_normal_centered), 900)\n",
    "normal_points = [\"no\" for e in centered_dist]\n",
    "\n",
    "# sample 1% from shifted dataset \n",
    "shifted_dist = random.sample(list(s_normal_shifted), 100)\n",
    "outliers = [\"yes\" for e in shifted_dist]\n",
    "\n",
    "numbers = centered_dist + shifted_dist \n",
    "labels = normal_points + outliers \n",
    "\n",
    "# Create df with two columns (number, label)\n",
    "df = pd.DataFrame({'number': numbers, 'label_gt': labels})\n",
    "df[\"numeric_label_gt\"] = np.where(df['label_gt']== \"yes\", -1, 1)"
   ],
   "outputs": [],
   "metadata": {}
  },
  {
   "cell_type": "code",
   "execution_count": 8,
   "source": [
    "df.info()"
   ],
   "outputs": [
    {
     "output_type": "stream",
     "name": "stdout",
     "text": [
      "<class 'pandas.core.frame.DataFrame'>\n",
      "RangeIndex: 1000 entries, 0 to 999\n",
      "Data columns (total 3 columns):\n",
      " #   Column            Non-Null Count  Dtype  \n",
      "---  ------            --------------  -----  \n",
      " 0   number            1000 non-null   float64\n",
      " 1   label_gt          1000 non-null   object \n",
      " 2   numeric_label_gt  1000 non-null   int64  \n",
      "dtypes: float64(1), int64(1), object(1)\n",
      "memory usage: 23.6+ KB\n"
     ]
    }
   ],
   "metadata": {}
  },
  {
   "cell_type": "code",
   "execution_count": 9,
   "source": [
    "df.head()"
   ],
   "outputs": [
    {
     "output_type": "execute_result",
     "data": {
      "text/plain": [
       "     number label_gt  numeric_label_gt\n",
       "0  0.171498       no                 1\n",
       "1  0.009243       no                 1\n",
       "2  0.225931       no                 1\n",
       "3 -0.040524       no                 1\n",
       "4  0.051207       no                 1"
      ],
      "text/html": [
       "<div>\n",
       "<style scoped>\n",
       "    .dataframe tbody tr th:only-of-type {\n",
       "        vertical-align: middle;\n",
       "    }\n",
       "\n",
       "    .dataframe tbody tr th {\n",
       "        vertical-align: top;\n",
       "    }\n",
       "\n",
       "    .dataframe thead th {\n",
       "        text-align: right;\n",
       "    }\n",
       "</style>\n",
       "<table border=\"1\" class=\"dataframe\">\n",
       "  <thead>\n",
       "    <tr style=\"text-align: right;\">\n",
       "      <th></th>\n",
       "      <th>number</th>\n",
       "      <th>label_gt</th>\n",
       "      <th>numeric_label_gt</th>\n",
       "    </tr>\n",
       "  </thead>\n",
       "  <tbody>\n",
       "    <tr>\n",
       "      <th>0</th>\n",
       "      <td>0.171498</td>\n",
       "      <td>no</td>\n",
       "      <td>1</td>\n",
       "    </tr>\n",
       "    <tr>\n",
       "      <th>1</th>\n",
       "      <td>0.009243</td>\n",
       "      <td>no</td>\n",
       "      <td>1</td>\n",
       "    </tr>\n",
       "    <tr>\n",
       "      <th>2</th>\n",
       "      <td>0.225931</td>\n",
       "      <td>no</td>\n",
       "      <td>1</td>\n",
       "    </tr>\n",
       "    <tr>\n",
       "      <th>3</th>\n",
       "      <td>-0.040524</td>\n",
       "      <td>no</td>\n",
       "      <td>1</td>\n",
       "    </tr>\n",
       "    <tr>\n",
       "      <th>4</th>\n",
       "      <td>0.051207</td>\n",
       "      <td>no</td>\n",
       "      <td>1</td>\n",
       "    </tr>\n",
       "  </tbody>\n",
       "</table>\n",
       "</div>"
      ]
     },
     "metadata": {},
     "execution_count": 9
    }
   ],
   "metadata": {}
  },
  {
   "cell_type": "code",
   "execution_count": 10,
   "source": [
    "df.tail()"
   ],
   "outputs": [
    {
     "output_type": "execute_result",
     "data": {
      "text/plain": [
       "        number label_gt  numeric_label_gt\n",
       "995  10.128415      yes                -1\n",
       "996   9.657506      yes                -1\n",
       "997  10.098828      yes                -1\n",
       "998   9.950333      yes                -1\n",
       "999  10.042206      yes                -1"
      ],
      "text/html": [
       "<div>\n",
       "<style scoped>\n",
       "    .dataframe tbody tr th:only-of-type {\n",
       "        vertical-align: middle;\n",
       "    }\n",
       "\n",
       "    .dataframe tbody tr th {\n",
       "        vertical-align: top;\n",
       "    }\n",
       "\n",
       "    .dataframe thead th {\n",
       "        text-align: right;\n",
       "    }\n",
       "</style>\n",
       "<table border=\"1\" class=\"dataframe\">\n",
       "  <thead>\n",
       "    <tr style=\"text-align: right;\">\n",
       "      <th></th>\n",
       "      <th>number</th>\n",
       "      <th>label_gt</th>\n",
       "      <th>numeric_label_gt</th>\n",
       "    </tr>\n",
       "  </thead>\n",
       "  <tbody>\n",
       "    <tr>\n",
       "      <th>995</th>\n",
       "      <td>10.128415</td>\n",
       "      <td>yes</td>\n",
       "      <td>-1</td>\n",
       "    </tr>\n",
       "    <tr>\n",
       "      <th>996</th>\n",
       "      <td>9.657506</td>\n",
       "      <td>yes</td>\n",
       "      <td>-1</td>\n",
       "    </tr>\n",
       "    <tr>\n",
       "      <th>997</th>\n",
       "      <td>10.098828</td>\n",
       "      <td>yes</td>\n",
       "      <td>-1</td>\n",
       "    </tr>\n",
       "    <tr>\n",
       "      <th>998</th>\n",
       "      <td>9.950333</td>\n",
       "      <td>yes</td>\n",
       "      <td>-1</td>\n",
       "    </tr>\n",
       "    <tr>\n",
       "      <th>999</th>\n",
       "      <td>10.042206</td>\n",
       "      <td>yes</td>\n",
       "      <td>-1</td>\n",
       "    </tr>\n",
       "  </tbody>\n",
       "</table>\n",
       "</div>"
      ]
     },
     "metadata": {},
     "execution_count": 10
    }
   ],
   "metadata": {}
  },
  {
   "cell_type": "code",
   "execution_count": 11,
   "source": [
    "df.describe()"
   ],
   "outputs": [
    {
     "output_type": "execute_result",
     "data": {
      "text/plain": [
       "            number  numeric_label_gt\n",
       "count  1000.000000         1000.0000\n",
       "mean      0.997699            0.8000\n",
       "std       3.002156            0.6003\n",
       "min      -0.294981           -1.0000\n",
       "25%      -0.056693            1.0000\n",
       "50%       0.014221            1.0000\n",
       "75%       0.088544            1.0000\n",
       "max      10.341034            1.0000"
      ],
      "text/html": [
       "<div>\n",
       "<style scoped>\n",
       "    .dataframe tbody tr th:only-of-type {\n",
       "        vertical-align: middle;\n",
       "    }\n",
       "\n",
       "    .dataframe tbody tr th {\n",
       "        vertical-align: top;\n",
       "    }\n",
       "\n",
       "    .dataframe thead th {\n",
       "        text-align: right;\n",
       "    }\n",
       "</style>\n",
       "<table border=\"1\" class=\"dataframe\">\n",
       "  <thead>\n",
       "    <tr style=\"text-align: right;\">\n",
       "      <th></th>\n",
       "      <th>number</th>\n",
       "      <th>numeric_label_gt</th>\n",
       "    </tr>\n",
       "  </thead>\n",
       "  <tbody>\n",
       "    <tr>\n",
       "      <th>count</th>\n",
       "      <td>1000.000000</td>\n",
       "      <td>1000.0000</td>\n",
       "    </tr>\n",
       "    <tr>\n",
       "      <th>mean</th>\n",
       "      <td>0.997699</td>\n",
       "      <td>0.8000</td>\n",
       "    </tr>\n",
       "    <tr>\n",
       "      <th>std</th>\n",
       "      <td>3.002156</td>\n",
       "      <td>0.6003</td>\n",
       "    </tr>\n",
       "    <tr>\n",
       "      <th>min</th>\n",
       "      <td>-0.294981</td>\n",
       "      <td>-1.0000</td>\n",
       "    </tr>\n",
       "    <tr>\n",
       "      <th>25%</th>\n",
       "      <td>-0.056693</td>\n",
       "      <td>1.0000</td>\n",
       "    </tr>\n",
       "    <tr>\n",
       "      <th>50%</th>\n",
       "      <td>0.014221</td>\n",
       "      <td>1.0000</td>\n",
       "    </tr>\n",
       "    <tr>\n",
       "      <th>75%</th>\n",
       "      <td>0.088544</td>\n",
       "      <td>1.0000</td>\n",
       "    </tr>\n",
       "    <tr>\n",
       "      <th>max</th>\n",
       "      <td>10.341034</td>\n",
       "      <td>1.0000</td>\n",
       "    </tr>\n",
       "  </tbody>\n",
       "</table>\n",
       "</div>"
      ]
     },
     "metadata": {},
     "execution_count": 11
    }
   ],
   "metadata": {}
  },
  {
   "cell_type": "code",
   "execution_count": 12,
   "source": [
    "# The frac keyword argument specifies the fraction of rows to return in the random sample, \n",
    "# so frac=1 means to return all rows (in random order\n",
    "df = df.sample(frac=1)"
   ],
   "outputs": [],
   "metadata": {}
  },
  {
   "cell_type": "markdown",
   "source": [
    "# Isolation Forest"
   ],
   "metadata": {}
  },
  {
   "cell_type": "code",
   "execution_count": 26,
   "source": [
    "# Train IF, K-means, RF, SVDD? \n",
    "from sklearn.ensemble import IsolationForest\n",
    "\n",
    "model=IsolationForest(n_estimators=50, max_samples='auto', contamination=0.1,max_features=1.0)\n",
    "model.fit(df[['number']])\n",
    "\n",
    "df['scores']=model.decision_function(df[['number']])\n",
    "df['anomaly']=model.predict(df[['number']])\n",
    "df[\"anomaly\"] = np.where(df['anomaly']== -1, \"yes\", \"no\")\n",
    "print(df['anomaly'].value_counts())\n",
    "(df[\"anomaly\"] == df[\"label_gt\"]).value_counts()"
   ],
   "outputs": [
    {
     "output_type": "stream",
     "name": "stdout",
     "text": [
      "no     900\n",
      "yes    100\n",
      "Name: anomaly, dtype: int64\n"
     ]
    },
    {
     "output_type": "execute_result",
     "data": {
      "text/plain": [
       "True     936\n",
       "False     64\n",
       "dtype: int64"
      ]
     },
     "metadata": {},
     "execution_count": 26
    }
   ],
   "metadata": {}
  },
  {
   "cell_type": "markdown",
   "source": [
    "## Using Grid Search to find the best set of parameters for IF"
   ],
   "metadata": {}
  },
  {
   "cell_type": "code",
   "execution_count": 15,
   "source": [
    "from sklearn.model_selection import GridSearchCV\n",
    "from sklearn.metrics import f1_score, make_scorer\n",
    "\n",
    "my_scoring_func = make_scorer(f1_score)\n",
    "parameters = {'n_estimators':[10,30,50,80,100], \n",
    "            'max_features':[0.1,0.2,0.3,0.4,1.0], \n",
    "            'contamination' : [0.1,0.2]\n",
    "            }\n",
    "isolation_forest =  IsolationForest(max_samples='auto')\n",
    "search = GridSearchCV(isolation_forest, parameters,  scoring=my_scoring_func)\n",
    "search.fit(df[['number']], df[['numeric_label_gt']])"
   ],
   "outputs": [
    {
     "output_type": "execute_result",
     "data": {
      "text/plain": [
       "GridSearchCV(estimator=IsolationForest(),\n",
       "             param_grid={'contamination': [0.1, 0.2],\n",
       "                         'max_features': [0.1, 0.2, 0.3, 0.4, 1.0],\n",
       "                         'n_estimators': [10, 30, 50, 80, 100]},\n",
       "             scoring=make_scorer(f1_score))"
      ]
     },
     "metadata": {},
     "execution_count": 15
    }
   ],
   "metadata": {}
  },
  {
   "cell_type": "code",
   "execution_count": 16,
   "source": [
    "result_search_df = pd.DataFrame(search.cv_results_)\n",
    "best_estimators = result_search_df[[\"mean_test_score\", \"std_test_score\", \"params\"]].sort_values(by=[\"mean_test_score\"], ascending=False).head()\n",
    "print(f\"Best estimator parameters: {best_estimators.iloc[0]['params']}\")"
   ],
   "outputs": [
    {
     "output_type": "stream",
     "name": "stdout",
     "text": [
      "Best estimator parameters: {'contamination': 0.1, 'max_features': 0.1, 'n_estimators': 50}\n"
     ]
    }
   ],
   "metadata": {}
  },
  {
   "cell_type": "code",
   "execution_count": 17,
   "source": [
    "optimal_forest = search.best_estimator_\n",
    "pred = optimal_forest.predict(df[['number']])\n",
    "\n",
    "h = (pred == df['numeric_label_gt']).value_counts()"
   ],
   "outputs": [],
   "metadata": {}
  },
  {
   "cell_type": "code",
   "execution_count": 18,
   "source": [
    "# Visualize results\n",
    "df"
   ],
   "outputs": [
    {
     "output_type": "execute_result",
     "data": {
      "text/plain": [
       "        number label_gt  numeric_label_gt    scores anomaly\n",
       "750  -0.003766       no                 1  0.195407      no\n",
       "801   0.034598       no                 1  0.200649      no\n",
       "56   -0.080466       no                 1  0.194599      no\n",
       "822  -0.029607       no                 1  0.198924      no\n",
       "881  -0.073831       no                 1  0.192150      no\n",
       "..         ...      ...               ...       ...     ...\n",
       "45    0.014236       no                 1  0.203128      no\n",
       "973  10.105707      yes                -1  0.008775      no\n",
       "910  10.166913      yes                -1 -0.012610     yes\n",
       "510  -0.173941       no                 1  0.081632      no\n",
       "908   9.897750      yes                -1 -0.021951     yes\n",
       "\n",
       "[1000 rows x 5 columns]"
      ],
      "text/html": [
       "<div>\n",
       "<style scoped>\n",
       "    .dataframe tbody tr th:only-of-type {\n",
       "        vertical-align: middle;\n",
       "    }\n",
       "\n",
       "    .dataframe tbody tr th {\n",
       "        vertical-align: top;\n",
       "    }\n",
       "\n",
       "    .dataframe thead th {\n",
       "        text-align: right;\n",
       "    }\n",
       "</style>\n",
       "<table border=\"1\" class=\"dataframe\">\n",
       "  <thead>\n",
       "    <tr style=\"text-align: right;\">\n",
       "      <th></th>\n",
       "      <th>number</th>\n",
       "      <th>label_gt</th>\n",
       "      <th>numeric_label_gt</th>\n",
       "      <th>scores</th>\n",
       "      <th>anomaly</th>\n",
       "    </tr>\n",
       "  </thead>\n",
       "  <tbody>\n",
       "    <tr>\n",
       "      <th>750</th>\n",
       "      <td>-0.003766</td>\n",
       "      <td>no</td>\n",
       "      <td>1</td>\n",
       "      <td>0.195407</td>\n",
       "      <td>no</td>\n",
       "    </tr>\n",
       "    <tr>\n",
       "      <th>801</th>\n",
       "      <td>0.034598</td>\n",
       "      <td>no</td>\n",
       "      <td>1</td>\n",
       "      <td>0.200649</td>\n",
       "      <td>no</td>\n",
       "    </tr>\n",
       "    <tr>\n",
       "      <th>56</th>\n",
       "      <td>-0.080466</td>\n",
       "      <td>no</td>\n",
       "      <td>1</td>\n",
       "      <td>0.194599</td>\n",
       "      <td>no</td>\n",
       "    </tr>\n",
       "    <tr>\n",
       "      <th>822</th>\n",
       "      <td>-0.029607</td>\n",
       "      <td>no</td>\n",
       "      <td>1</td>\n",
       "      <td>0.198924</td>\n",
       "      <td>no</td>\n",
       "    </tr>\n",
       "    <tr>\n",
       "      <th>881</th>\n",
       "      <td>-0.073831</td>\n",
       "      <td>no</td>\n",
       "      <td>1</td>\n",
       "      <td>0.192150</td>\n",
       "      <td>no</td>\n",
       "    </tr>\n",
       "    <tr>\n",
       "      <th>...</th>\n",
       "      <td>...</td>\n",
       "      <td>...</td>\n",
       "      <td>...</td>\n",
       "      <td>...</td>\n",
       "      <td>...</td>\n",
       "    </tr>\n",
       "    <tr>\n",
       "      <th>45</th>\n",
       "      <td>0.014236</td>\n",
       "      <td>no</td>\n",
       "      <td>1</td>\n",
       "      <td>0.203128</td>\n",
       "      <td>no</td>\n",
       "    </tr>\n",
       "    <tr>\n",
       "      <th>973</th>\n",
       "      <td>10.105707</td>\n",
       "      <td>yes</td>\n",
       "      <td>-1</td>\n",
       "      <td>0.008775</td>\n",
       "      <td>no</td>\n",
       "    </tr>\n",
       "    <tr>\n",
       "      <th>910</th>\n",
       "      <td>10.166913</td>\n",
       "      <td>yes</td>\n",
       "      <td>-1</td>\n",
       "      <td>-0.012610</td>\n",
       "      <td>yes</td>\n",
       "    </tr>\n",
       "    <tr>\n",
       "      <th>510</th>\n",
       "      <td>-0.173941</td>\n",
       "      <td>no</td>\n",
       "      <td>1</td>\n",
       "      <td>0.081632</td>\n",
       "      <td>no</td>\n",
       "    </tr>\n",
       "    <tr>\n",
       "      <th>908</th>\n",
       "      <td>9.897750</td>\n",
       "      <td>yes</td>\n",
       "      <td>-1</td>\n",
       "      <td>-0.021951</td>\n",
       "      <td>yes</td>\n",
       "    </tr>\n",
       "  </tbody>\n",
       "</table>\n",
       "<p>1000 rows × 5 columns</p>\n",
       "</div>"
      ]
     },
     "metadata": {},
     "execution_count": 18
    }
   ],
   "metadata": {}
  },
  {
   "cell_type": "markdown",
   "source": [
    "# Sampling from two different distributions: Gaussian and Poisson"
   ],
   "metadata": {}
  },
  {
   "cell_type": "code",
   "execution_count": 19,
   "source": [
    "mu_gau, sigma_gau = 0, 0.1\n",
    "s_normal = np.random.normal(mu_gau, sigma_gau, 1000)\n",
    "\n",
    "s_poisson = np.random.poisson(5, 1000)"
   ],
   "outputs": [],
   "metadata": {}
  },
  {
   "cell_type": "code",
   "execution_count": 23,
   "source": [
    "fig, axis = plt.subplots(1,2,figsize=(12,8))\n",
    "\n",
    "sns.histplot(s_normal, ax=axis[0], shrink=0.8, stat='count').set(title=f\"Gaussian Data distribution for mean:{mu_gau} and std:{sigma_gau}\")\n",
    "axis[0].axvline(s_normal.mean(), color='green', label='mean')\n",
    "axis[0].legend()\n",
    "\n",
    "sns.histplot(s_poisson, ax=axis[1], shrink=0.8, stat='count').set(title=f\"Poisson Data distribution\")\n",
    "axis[1].axvline(s_poisson.mean(), color='green', label='mean')\n",
    "axis[1].legend()\n",
    "\n",
    "print(f'μ_centered ={s_normal.mean()}')\n",
    "print(f'σ_centered ={s_normal.std()}')\n",
    "print(f'μ_shifted ={s_poisson.mean()}')\n",
    "print(f'σ_shifted ={s_poisson.std()}')"
   ],
   "outputs": [
    {
     "output_type": "stream",
     "name": "stdout",
     "text": [
      "μ_centered =-0.0039892185287988295\n",
      "σ_centered =0.09808480933758218\n",
      "μ_shifted =5.046\n",
      "σ_shifted =2.2284263505891326\n"
     ]
    },
    {
     "output_type": "display_data",
     "data": {
      "text/plain": [
       "<Figure size 864x576 with 2 Axes>"
      ],
      "image/png": "[encoded data removed]"
     },
     "metadata": {
      "needs_background": "light"
     }
    }
   ],
   "metadata": {}
  },
  {
   "cell_type": "code",
   "execution_count": 32,
   "source": [
    "# sample 90% from centered dataset\n",
    "gaus_dist = random.sample(list(s_normal), 900)\n",
    "normal_points = [\"no\" for e in gaus_dist]\n",
    "\n",
    "# sample 1% from shifted dataset \n",
    "poisson_dist = random.sample(list(s_poisson), 100)\n",
    "outliers = [\"yes\" for e in poisson_dist]\n",
    "\n",
    "numbers = gaus_dist + poisson_dist \n",
    "labels = normal_points + outliers \n",
    "\n",
    "# Create df with two columns (number, label)\n",
    "df = pd.DataFrame({'number': numbers, 'label_gt': labels})\n",
    "df[\"numeric_label_gt\"] = np.where(df['label_gt']== \"yes\", -1, 1)\n",
    "\n",
    "df = df.sample(frac=1)"
   ],
   "outputs": [],
   "metadata": {}
  },
  {
   "cell_type": "code",
   "execution_count": 33,
   "source": [
    "# Train IF\n",
    "model=IsolationForest(n_estimators=50, max_samples='auto', contamination=0.1,max_features=1.0)\n",
    "model.fit(df[['number']])\n",
    "\n",
    "df['scores']=model.decision_function(df[['number']])\n",
    "df['anomaly']=model.predict(df[['number']])\n",
    "df[\"anomaly\"] = np.where(df['anomaly']== -1, \"yes\", \"no\")\n",
    "print(df['anomaly'].value_counts())\n",
    "print(f\"predictions: \\n {(df['anomaly'] == df['label_gt']).value_counts()}\")"
   ],
   "outputs": [
    {
     "output_type": "stream",
     "name": "stdout",
     "text": [
      "no     923\n",
      "yes     77\n",
      "Name: anomaly, dtype: int64\n",
      "predictions: \n",
      " True     973\n",
      "False     27\n",
      "dtype: int64\n"
     ]
    }
   ],
   "metadata": {}
  },
  {
   "cell_type": "markdown",
   "source": [
    "# Sampling from two different distributions: Gaussian and standard_cauchy"
   ],
   "metadata": {}
  },
  {
   "cell_type": "code",
   "execution_count": 46,
   "source": [
    "mu_gau, sigma_gau = 0, 0.1\n",
    "\n",
    "s_normal = np.random.normal(mu_gau, sigma_gau, 1000)\n",
    "\n",
    "s_std_cauchy = np.random.standard_cauchy(1000)\n",
    "# truncate distribution so it plots well\n",
    "s_std_cauchy = s_std_cauchy[(s_std_cauchy>-25) & (s_std_cauchy<25)]\n",
    "len(s_std_cauchy)"
   ],
   "outputs": [
    {
     "output_type": "execute_result",
     "data": {
      "text/plain": [
       "970"
      ]
     },
     "metadata": {},
     "execution_count": 46
    }
   ],
   "metadata": {}
  },
  {
   "cell_type": "code",
   "execution_count": 47,
   "source": [
    "fig, axis = plt.subplots(1,2,figsize=(12,8))\n",
    "\n",
    "sns.histplot(s_normal, ax=axis[0], shrink=0.8, stat='count').set(title=f\"Gaussian Data distribution for mean:{mu_gau} and std:{sigma_gau}\")\n",
    "axis[0].axvline(s_normal.mean(), color='green', label='mean')\n",
    "axis[0].legend()\n",
    "\n",
    "sns.histplot(s_std_cauchy, ax=axis[1], shrink=0.8, stat='count').set(title=f\"Standard Cauchy Data distribution\")\n",
    "axis[1].axvline(s_std_cauchy.mean(), color='green', label='mean')\n",
    "axis[1].legend()\n",
    "\n",
    "print(f'μ_centered ={s_normal.mean()}')\n",
    "print(f'σ_centered ={s_normal.std()}')\n",
    "print(f'μ_shifted ={s_std_cauchy.mean()}')\n",
    "print(f'σ_shifted ={s_std_cauchy.std()}')"
   ],
   "outputs": [
    {
     "output_type": "stream",
     "name": "stdout",
     "text": [
      "μ_centered =0.0020957275277453252\n",
      "σ_centered =0.09999095451456079\n",
      "μ_shifted =-0.1231161584875045\n",
      "σ_shifted =4.3014932516153905\n"
     ]
    },
    {
     "output_type": "display_data",
     "data": {
      "text/plain": [
       "<Figure size 864x576 with 2 Axes>"
      ],
      "image/png": "[encoded data removed]"
     },
     "metadata": {
      "needs_background": "light"
     }
    }
   ],
   "metadata": {}
  },
  {
   "cell_type": "code",
   "execution_count": 48,
   "source": [
    "# sample 90% from centered dataset\n",
    "gaus_dist = random.sample(list(s_normal), 900)\n",
    "normal_points = [\"no\" for e in gaus_dist]\n",
    "\n",
    "# sample 1% from shifted dataset \n",
    "cauchy_dist = random.sample(list(s_std_cauchy), 100)\n",
    "outliers = [\"yes\" for e in cauchy_dist]\n",
    "\n",
    "numbers = gaus_dist + cauchy_dist \n",
    "labels = normal_points + outliers \n",
    "\n",
    "# Create df with two columns (number, label)\n",
    "df = pd.DataFrame({'number': numbers, 'label_gt': labels})\n",
    "df[\"numeric_label_gt\"] = np.where(df['label_gt']== \"yes\", -1, 1)\n",
    "\n",
    "df = df.sample(frac=1)"
   ],
   "outputs": [],
   "metadata": {}
  },
  {
   "cell_type": "code",
   "execution_count": 52,
   "source": [
    "# Train IF\n",
    "model=IsolationForest(n_estimators=50, max_samples='auto', contamination=0.1,max_features=1.0)\n",
    "model.fit(df[['number']])\n",
    "\n",
    "df['scores']=model.decision_function(df[['number']])\n",
    "df['anomaly']=model.predict(df[['number']])\n",
    "df[\"anomaly\"] = np.where(df['anomaly']== -1, \"yes\", \"no\")\n",
    "\n",
    "print(f\"Ground Truth: \\n {df['anomaly'].value_counts()}\")\n",
    "print(f\"\\n predictions: \\n {(df['anomaly'] == df['label_gt']).value_counts()}\")"
   ],
   "outputs": [
    {
     "output_type": "stream",
     "name": "stdout",
     "text": [
      "Ground Truth: \n",
      " no     900\n",
      "yes    100\n",
      "Name: anomaly, dtype: int64\n",
      "\n",
      " predictions: \n",
      " True     976\n",
      "False     24\n",
      "dtype: int64\n"
     ]
    }
   ],
   "metadata": {}
  },
  {
   "cell_type": "markdown",
   "source": [
    "# Visualization"
   ],
   "metadata": {}
  },
  {
   "cell_type": "code",
   "execution_count": 54,
   "source": [
    "# TODO: think about how to visualize this \n",
    "plt.plot(df['number'],df['scores'].loc, '.')"
   ],
   "outputs": [
    {
     "output_type": "execute_result",
     "data": {
      "text/plain": [
       "[<matplotlib.lines.Line2D at 0x150d69370>]"
      ]
     },
     "metadata": {},
     "execution_count": 54
    },
    {
     "output_type": "display_data",
     "data": {
      "text/plain": [
       "<Figure size 432x288 with 1 Axes>"
      ],
      "image/png": "[encoded data removed]"
     },
     "metadata": {
      "needs_background": "light"
     }
    }
   ],
   "metadata": {}
  },
  {
   "cell_type": "code",
   "execution_count": null,
   "source": [],
   "outputs": [],
   "metadata": {}
  }
 ],
 "metadata": {
  "kernelspec": {
   "name": "python3",
   "display_name": "Python 3.9.10 64-bit"
  },
  "language_info": {
   "codemirror_mode": {
    "name": "ipython",
    "version": 3
   },
   "file_extension": ".py",
   "mimetype": "text/x-python",
   "name": "python",
   "nbconvert_exporter": "python",
   "pygments_lexer": "ipython3",
   "version": "3.9.10"
  },
  "interpreter": {
   "hash": "aee8b7b246df8f9039afb4144a1f6fd8d2ca17a180786b69acc140d282b71a49"
  }
 },
 "nbformat": 4,
 "nbformat_minor": 5
}