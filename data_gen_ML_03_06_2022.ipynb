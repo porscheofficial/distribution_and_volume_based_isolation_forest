{
 "cells": [
  {
   "cell_type": "code",
   "execution_count": 1,
   "source": [
    "import pandas as pd\n",
    "import seaborn as sns\n",
    "import numpy as np\n",
    "import matplotlib.pyplot as plt\n",
    "import random"
   ],
   "outputs": [],
   "metadata": {}
  },
  {
   "cell_type": "markdown",
   "source": [
    "# Sampling from gaussian distribution"
   ],
   "metadata": {
    "collapsed": false,
    "pycharm": {
     "name": "#%% md\n"
    }
   }
  },
  {
   "cell_type": "code",
   "execution_count": 2,
   "source": [
    "mu_centered, sigma_centered = 0, 0.1\n",
    "s_normal_centered = np.random.normal(mu_centered, sigma_centered, 1000)\n",
    "\n",
    "mu_shifted, sigma_shifted = 10, 0.2\n",
    "s_normal_shifted = np.random.normal(mu_shifted, sigma_shifted, 1000)"
   ],
   "outputs": [],
   "metadata": {}
  },
  {
   "cell_type": "code",
   "execution_count": 3,
   "source": [
    "fig, axis = plt.subplots(1,2,figsize=(12,8))\n",
    "\n",
    "sns.histplot(s_normal_centered, ax=axis[0], shrink=0.8, stat='count').set(title=f\"Data distribution for mean:{mu_centered} and std:{sigma_centered}\")\n",
    "axis[0].axvline(s_normal_centered.mean(), color='green', label='mean')\n",
    "axis[0].legend()\n",
    "\n",
    "sns.histplot(s_normal_shifted, ax=axis[1], shrink=0.8, stat='count').set(title=f\"Data distribution for mean:{mu_shifted} and std:{sigma_shifted}\")\n",
    "axis[1].axvline(s_normal_shifted.mean(), color='green', label='mean')\n",
    "axis[1].legend()\n",
    "\n",
    "print(f'μ_centered ={s_normal_centered.mean()}')\n",
    "print(f'σ_centered ={s_normal_centered.std()}')\n",
    "print(f'μ_shifted ={s_normal_shifted.mean()}')\n",
    "print(f'σ_shifted ={s_normal_shifted.std()}')\n"
   ],
   "outputs": [
    {
     "output_type": "stream",
     "name": "stdout",
     "text": [
      "μ_centered =0.0031915488312922093\n",
      "σ_centered =0.0995767956468509\n",
      "μ_shifted =9.999080337426971\n",
      "σ_shifted =0.20620049594181172\n"
     ]
    },
    {
     "output_type": "display_data",
     "data": {
      "text/plain": [
       "<Figure size 864x576 with 2 Axes>"
      ],
      "image/png": "[encoded data removed]"
     },
     "metadata": {
      "needs_background": "light"
     }
    }
   ],
   "metadata": {}
  },
  {
   "cell_type": "markdown",
   "source": [
    "# Data sets generation"
   ],
   "metadata": {}
  },
  {
   "cell_type": "code",
   "execution_count": 16,
   "source": [
    "# sample 90% from centered dataset\n",
    "centered_dist = random.sample(list(s_normal_centered), 900)\n",
    "normal_points = [\"no\" for e in centered_dist]\n",
    "\n",
    "# sample 1% from shifted dataset \n",
    "shifted_dist = random.sample(list(s_normal_shifted), 100)\n",
    "outliers = [\"yes\" for e in shifted_dist]\n",
    "\n",
    "numbers = centered_dist + shifted_dist \n",
    "labels = normal_points + outliers \n",
    "\n",
    "# Create df with two columns (number, label)\n",
    "df = pd.DataFrame({'number': numbers, 'label_gt': labels})\n",
    "df[\"numeric_label_gt\"] = np.where(df['label_gt']== \"yes\", -1, 1)"
   ],
   "outputs": [],
   "metadata": {}
  },
  {
   "cell_type": "code",
   "execution_count": 17,
   "source": [
    "df.info()"
   ],
   "outputs": [
    {
     "output_type": "stream",
     "name": "stdout",
     "text": [
      "<class 'pandas.core.frame.DataFrame'>\n",
      "RangeIndex: 1000 entries, 0 to 999\n",
      "Data columns (total 3 columns):\n",
      " #   Column            Non-Null Count  Dtype  \n",
      "---  ------            --------------  -----  \n",
      " 0   number            1000 non-null   float64\n",
      " 1   label_gt          1000 non-null   object \n",
      " 2   numeric_label_gt  1000 non-null   int64  \n",
      "dtypes: float64(1), int64(1), object(1)\n",
      "memory usage: 23.6+ KB\n"
     ]
    }
   ],
   "metadata": {}
  },
  {
   "cell_type": "code",
   "execution_count": 18,
   "source": [
    "df.head()"
   ],
   "outputs": [
    {
     "output_type": "execute_result",
     "data": {
      "text/plain": [
       "     number label_gt  numeric_label_gt\n",
       "0 -0.034286       no                 1\n",
       "1  0.112082       no                 1\n",
       "2 -0.021964       no                 1\n",
       "3 -0.136562       no                 1\n",
       "4  0.133835       no                 1"
      ],
      "text/html": [
       "<div>\n",
       "<style scoped>\n",
       "    .dataframe tbody tr th:only-of-type {\n",
       "        vertical-align: middle;\n",
       "    }\n",
       "\n",
       "    .dataframe tbody tr th {\n",
       "        vertical-align: top;\n",
       "    }\n",
       "\n",
       "    .dataframe thead th {\n",
       "        text-align: right;\n",
       "    }\n",
       "</style>\n",
       "<table border=\"1\" class=\"dataframe\">\n",
       "  <thead>\n",
       "    <tr style=\"text-align: right;\">\n",
       "      <th></th>\n",
       "      <th>number</th>\n",
       "      <th>label_gt</th>\n",
       "      <th>numeric_label_gt</th>\n",
       "    </tr>\n",
       "  </thead>\n",
       "  <tbody>\n",
       "    <tr>\n",
       "      <th>0</th>\n",
       "      <td>-0.034286</td>\n",
       "      <td>no</td>\n",
       "      <td>1</td>\n",
       "    </tr>\n",
       "    <tr>\n",
       "      <th>1</th>\n",
       "      <td>0.112082</td>\n",
       "      <td>no</td>\n",
       "      <td>1</td>\n",
       "    </tr>\n",
       "    <tr>\n",
       "      <th>2</th>\n",
       "      <td>-0.021964</td>\n",
       "      <td>no</td>\n",
       "      <td>1</td>\n",
       "    </tr>\n",
       "    <tr>\n",
       "      <th>3</th>\n",
       "      <td>-0.136562</td>\n",
       "      <td>no</td>\n",
       "      <td>1</td>\n",
       "    </tr>\n",
       "    <tr>\n",
       "      <th>4</th>\n",
       "      <td>0.133835</td>\n",
       "      <td>no</td>\n",
       "      <td>1</td>\n",
       "    </tr>\n",
       "  </tbody>\n",
       "</table>\n",
       "</div>"
      ]
     },
     "metadata": {},
     "execution_count": 18
    }
   ],
   "metadata": {}
  },
  {
   "cell_type": "code",
   "execution_count": 19,
   "source": [
    "df.tail()"
   ],
   "outputs": [
    {
     "output_type": "execute_result",
     "data": {
      "text/plain": [
       "        number label_gt  numeric_label_gt\n",
       "995  10.022612      yes                -1\n",
       "996   9.983941      yes                -1\n",
       "997  10.087726      yes                -1\n",
       "998  10.426114      yes                -1\n",
       "999   9.892616      yes                -1"
      ],
      "text/html": [
       "<div>\n",
       "<style scoped>\n",
       "    .dataframe tbody tr th:only-of-type {\n",
       "        vertical-align: middle;\n",
       "    }\n",
       "\n",
       "    .dataframe tbody tr th {\n",
       "        vertical-align: top;\n",
       "    }\n",
       "\n",
       "    .dataframe thead th {\n",
       "        text-align: right;\n",
       "    }\n",
       "</style>\n",
       "<table border=\"1\" class=\"dataframe\">\n",
       "  <thead>\n",
       "    <tr style=\"text-align: right;\">\n",
       "      <th></th>\n",
       "      <th>number</th>\n",
       "      <th>label_gt</th>\n",
       "      <th>numeric_label_gt</th>\n",
       "    </tr>\n",
       "  </thead>\n",
       "  <tbody>\n",
       "    <tr>\n",
       "      <th>995</th>\n",
       "      <td>10.022612</td>\n",
       "      <td>yes</td>\n",
       "      <td>-1</td>\n",
       "    </tr>\n",
       "    <tr>\n",
       "      <th>996</th>\n",
       "      <td>9.983941</td>\n",
       "      <td>yes</td>\n",
       "      <td>-1</td>\n",
       "    </tr>\n",
       "    <tr>\n",
       "      <th>997</th>\n",
       "      <td>10.087726</td>\n",
       "      <td>yes</td>\n",
       "      <td>-1</td>\n",
       "    </tr>\n",
       "    <tr>\n",
       "      <th>998</th>\n",
       "      <td>10.426114</td>\n",
       "      <td>yes</td>\n",
       "      <td>-1</td>\n",
       "    </tr>\n",
       "    <tr>\n",
       "      <th>999</th>\n",
       "      <td>9.892616</td>\n",
       "      <td>yes</td>\n",
       "      <td>-1</td>\n",
       "    </tr>\n",
       "  </tbody>\n",
       "</table>\n",
       "</div>"
      ]
     },
     "metadata": {},
     "execution_count": 19
    }
   ],
   "metadata": {}
  },
  {
   "cell_type": "code",
   "execution_count": 20,
   "source": [
    "df.describe()"
   ],
   "outputs": [
    {
     "output_type": "execute_result",
     "data": {
      "text/plain": [
       "            number  numeric_label_gt\n",
       "count  1000.000000         1000.0000\n",
       "mean      1.004847            0.8000\n",
       "std       3.004654            0.6003\n",
       "min      -0.411074           -1.0000\n",
       "25%      -0.046547            1.0000\n",
       "50%       0.019733            1.0000\n",
       "75%       0.098570            1.0000\n",
       "max      10.567363            1.0000"
      ],
      "text/html": [
       "<div>\n",
       "<style scoped>\n",
       "    .dataframe tbody tr th:only-of-type {\n",
       "        vertical-align: middle;\n",
       "    }\n",
       "\n",
       "    .dataframe tbody tr th {\n",
       "        vertical-align: top;\n",
       "    }\n",
       "\n",
       "    .dataframe thead th {\n",
       "        text-align: right;\n",
       "    }\n",
       "</style>\n",
       "<table border=\"1\" class=\"dataframe\">\n",
       "  <thead>\n",
       "    <tr style=\"text-align: right;\">\n",
       "      <th></th>\n",
       "      <th>number</th>\n",
       "      <th>numeric_label_gt</th>\n",
       "    </tr>\n",
       "  </thead>\n",
       "  <tbody>\n",
       "    <tr>\n",
       "      <th>count</th>\n",
       "      <td>1000.000000</td>\n",
       "      <td>1000.0000</td>\n",
       "    </tr>\n",
       "    <tr>\n",
       "      <th>mean</th>\n",
       "      <td>1.004847</td>\n",
       "      <td>0.8000</td>\n",
       "    </tr>\n",
       "    <tr>\n",
       "      <th>std</th>\n",
       "      <td>3.004654</td>\n",
       "      <td>0.6003</td>\n",
       "    </tr>\n",
       "    <tr>\n",
       "      <th>min</th>\n",
       "      <td>-0.411074</td>\n",
       "      <td>-1.0000</td>\n",
       "    </tr>\n",
       "    <tr>\n",
       "      <th>25%</th>\n",
       "      <td>-0.046547</td>\n",
       "      <td>1.0000</td>\n",
       "    </tr>\n",
       "    <tr>\n",
       "      <th>50%</th>\n",
       "      <td>0.019733</td>\n",
       "      <td>1.0000</td>\n",
       "    </tr>\n",
       "    <tr>\n",
       "      <th>75%</th>\n",
       "      <td>0.098570</td>\n",
       "      <td>1.0000</td>\n",
       "    </tr>\n",
       "    <tr>\n",
       "      <th>max</th>\n",
       "      <td>10.567363</td>\n",
       "      <td>1.0000</td>\n",
       "    </tr>\n",
       "  </tbody>\n",
       "</table>\n",
       "</div>"
      ]
     },
     "metadata": {},
     "execution_count": 20
    }
   ],
   "metadata": {}
  },
  {
   "cell_type": "code",
   "execution_count": 21,
   "source": [
    "# The frac keyword argument specifies the fraction of rows to return in the random sample, \n",
    "# so frac=1 means to return all rows (in random order\n",
    "df = df.sample(frac=1)"
   ],
   "outputs": [],
   "metadata": {}
  },
  {
   "cell_type": "markdown",
   "source": [
    "# Isolation Forest"
   ],
   "metadata": {}
  },
  {
   "cell_type": "code",
   "execution_count": 45,
   "source": [
    "# Train IF, K-means, RF, SVDD? \n",
    "from sklearn.ensemble import IsolationForest\n",
    "\n",
    "model=IsolationForest(n_estimators=50, max_samples='auto', contamination=0.1,max_features=1.0)\n",
    "model.fit(df[['number']])"
   ],
   "outputs": [
    {
     "output_type": "execute_result",
     "data": {
      "text/plain": [
       "IsolationForest(contamination=0.1, n_estimators=50)"
      ]
     },
     "metadata": {},
     "execution_count": 45
    }
   ],
   "metadata": {}
  },
  {
   "cell_type": "code",
   "execution_count": 47,
   "source": [
    "df['scores']=model.decision_function(df[['number']])\n",
    "\n",
    "df['anomaly']=model.predict(df[['number']])\n",
    "\n",
    "df[\"anomaly\"] = np.where(df['anomaly']== -1, \"yes\", \"no\")\n",
    "\n",
    "print(df['anomaly'].value_counts())\n",
    "\n",
    "(df[\"anomaly\"] == df[\"label_gt\"]).value_counts()\n"
   ],
   "outputs": [
    {
     "output_type": "stream",
     "name": "stdout",
     "text": [
      "no     900\n",
      "yes    100\n",
      "Name: anomaly, dtype: int64\n"
     ]
    },
    {
     "output_type": "execute_result",
     "data": {
      "text/plain": [
       "True     936\n",
       "False     64\n",
       "dtype: int64"
      ]
     },
     "metadata": {},
     "execution_count": 47
    }
   ],
   "metadata": {}
  },
  {
   "cell_type": "markdown",
   "source": [
    "## Using Grid Search to find the best set of parameters for IF"
   ],
   "metadata": {}
  },
  {
   "cell_type": "code",
   "execution_count": 66,
   "source": [
    "from sklearn.model_selection import GridSearchCV\n",
    "from sklearn.metrics import f1_score, make_scorer\n",
    "\n",
    "my_scoring_func = make_scorer(f1_score)\n",
    "parameters = {'n_estimators':[10,30,50,80,100], \n",
    "            'max_features':[0.1,0.2,0.3,0.4,1.0], \n",
    "            'contamination' : [0.1,0.2]\n",
    "            }\n",
    "isolation_forest =  IsolationForest(max_samples='auto')\n",
    "search = GridSearchCV(isolation_forest, parameters,  scoring=my_scoring_func)\n",
    "search.fit(df[['number']], df[['numeric_label_gt']])"
   ],
   "outputs": [
    {
     "output_type": "execute_result",
     "data": {
      "text/plain": [
       "GridSearchCV(estimator=IsolationForest(),\n",
       "             param_grid={'contamination': [0.1, 0.2],\n",
       "                         'max_features': [0.1, 0.2, 0.3, 0.4, 1.0],\n",
       "                         'n_estimators': [10, 30, 50, 80, 100]},\n",
       "             scoring=make_scorer(f1_score))"
      ]
     },
     "metadata": {},
     "execution_count": 66
    }
   ],
   "metadata": {}
  },
  {
   "cell_type": "code",
   "execution_count": 75,
   "source": [
    "result_search_df = pd.DataFrame(search.cv_results_)\n",
    "best_estimators = result_search_df[[\"mean_test_score\", \"std_test_score\", \"params\"]].sort_values(by=[\"mean_test_score\"], ascending=False).head()\n",
    "print(f\"Best estimator parameters: {best_estimators.iloc[0]['params']}\")"
   ],
   "outputs": [
    {
     "output_type": "stream",
     "name": "stdout",
     "text": [
      "Best estimator parameters: {'contamination': 0.1, 'max_features': 0.1, 'n_estimators': 100}\n"
     ]
    }
   ],
   "metadata": {}
  },
  {
   "cell_type": "code",
   "execution_count": 73,
   "source": [
    "optimal_forest = search.best_estimator_\n",
    "pred = optimal_forest.predict(df[['number']])\n",
    "\n",
    "h = (pred == df['numeric_label_gt']).value_counts()"
   ],
   "outputs": [
    {
     "output_type": "execute_result",
     "data": {
      "text/plain": [
       "54"
      ]
     },
     "metadata": {},
     "execution_count": 73
    }
   ],
   "metadata": {}
  },
  {
   "cell_type": "code",
   "execution_count": 71,
   "source": [
    "# Visualize results\n",
    "df"
   ],
   "outputs": [
    {
     "output_type": "execute_result",
     "data": {
      "text/plain": [
       "       number label_gt  numeric_label_gt    scores anomaly\n",
       "712  0.042515       no                 1  0.183291      no\n",
       "72  -0.002482       no                 1  0.192805      no\n",
       "646  0.012873       no                 1  0.182723      no\n",
       "985  9.931699      yes                -1  0.002049      no\n",
       "873 -0.192749       no                 1  0.028478      no\n",
       "..        ...      ...               ...       ...     ...\n",
       "418 -0.193279       no                 1  0.022917      no\n",
       "412  0.045927       no                 1  0.177560      no\n",
       "55  -0.063944       no                 1  0.156472      no\n",
       "842  0.032367       no                 1  0.194308      no\n",
       "564  0.016060       no                 1  0.192888      no\n",
       "\n",
       "[1000 rows x 5 columns]"
      ],
      "text/html": [
       "<div>\n",
       "<style scoped>\n",
       "    .dataframe tbody tr th:only-of-type {\n",
       "        vertical-align: middle;\n",
       "    }\n",
       "\n",
       "    .dataframe tbody tr th {\n",
       "        vertical-align: top;\n",
       "    }\n",
       "\n",
       "    .dataframe thead th {\n",
       "        text-align: right;\n",
       "    }\n",
       "</style>\n",
       "<table border=\"1\" class=\"dataframe\">\n",
       "  <thead>\n",
       "    <tr style=\"text-align: right;\">\n",
       "      <th></th>\n",
       "      <th>number</th>\n",
       "      <th>label_gt</th>\n",
       "      <th>numeric_label_gt</th>\n",
       "      <th>scores</th>\n",
       "      <th>anomaly</th>\n",
       "    </tr>\n",
       "  </thead>\n",
       "  <tbody>\n",
       "    <tr>\n",
       "      <th>712</th>\n",
       "      <td>0.042515</td>\n",
       "      <td>no</td>\n",
       "      <td>1</td>\n",
       "      <td>0.183291</td>\n",
       "      <td>no</td>\n",
       "    </tr>\n",
       "    <tr>\n",
       "      <th>72</th>\n",
       "      <td>-0.002482</td>\n",
       "      <td>no</td>\n",
       "      <td>1</td>\n",
       "      <td>0.192805</td>\n",
       "      <td>no</td>\n",
       "    </tr>\n",
       "    <tr>\n",
       "      <th>646</th>\n",
       "      <td>0.012873</td>\n",
       "      <td>no</td>\n",
       "      <td>1</td>\n",
       "      <td>0.182723</td>\n",
       "      <td>no</td>\n",
       "    </tr>\n",
       "    <tr>\n",
       "      <th>985</th>\n",
       "      <td>9.931699</td>\n",
       "      <td>yes</td>\n",
       "      <td>-1</td>\n",
       "      <td>0.002049</td>\n",
       "      <td>no</td>\n",
       "    </tr>\n",
       "    <tr>\n",
       "      <th>873</th>\n",
       "      <td>-0.192749</td>\n",
       "      <td>no</td>\n",
       "      <td>1</td>\n",
       "      <td>0.028478</td>\n",
       "      <td>no</td>\n",
       "    </tr>\n",
       "    <tr>\n",
       "      <th>...</th>\n",
       "      <td>...</td>\n",
       "      <td>...</td>\n",
       "      <td>...</td>\n",
       "      <td>...</td>\n",
       "      <td>...</td>\n",
       "    </tr>\n",
       "    <tr>\n",
       "      <th>418</th>\n",
       "      <td>-0.193279</td>\n",
       "      <td>no</td>\n",
       "      <td>1</td>\n",
       "      <td>0.022917</td>\n",
       "      <td>no</td>\n",
       "    </tr>\n",
       "    <tr>\n",
       "      <th>412</th>\n",
       "      <td>0.045927</td>\n",
       "      <td>no</td>\n",
       "      <td>1</td>\n",
       "      <td>0.177560</td>\n",
       "      <td>no</td>\n",
       "    </tr>\n",
       "    <tr>\n",
       "      <th>55</th>\n",
       "      <td>-0.063944</td>\n",
       "      <td>no</td>\n",
       "      <td>1</td>\n",
       "      <td>0.156472</td>\n",
       "      <td>no</td>\n",
       "    </tr>\n",
       "    <tr>\n",
       "      <th>842</th>\n",
       "      <td>0.032367</td>\n",
       "      <td>no</td>\n",
       "      <td>1</td>\n",
       "      <td>0.194308</td>\n",
       "      <td>no</td>\n",
       "    </tr>\n",
       "    <tr>\n",
       "      <th>564</th>\n",
       "      <td>0.016060</td>\n",
       "      <td>no</td>\n",
       "      <td>1</td>\n",
       "      <td>0.192888</td>\n",
       "      <td>no</td>\n",
       "    </tr>\n",
       "  </tbody>\n",
       "</table>\n",
       "<p>1000 rows × 5 columns</p>\n",
       "</div>"
      ]
     },
     "metadata": {},
     "execution_count": 71
    }
   ],
   "metadata": {}
  },
  {
   "cell_type": "code",
   "execution_count": null,
   "source": [],
   "outputs": [],
   "metadata": {}
  }
 ],
 "metadata": {
  "kernelspec": {
   "name": "python3",
   "display_name": "Python 3.9.10 64-bit"
  },
  "language_info": {
   "codemirror_mode": {
    "name": "ipython",
    "version": 3
   },
   "file_extension": ".py",
   "mimetype": "text/x-python",
   "name": "python",
   "nbconvert_exporter": "python",
   "pygments_lexer": "ipython3",
   "version": "3.9.10"
  },
  "interpreter": {
   "hash": "aee8b7b246df8f9039afb4144a1f6fd8d2ca17a180786b69acc140d282b71a49"
  }
 },
 "nbformat": 4,
 "nbformat_minor": 5
}